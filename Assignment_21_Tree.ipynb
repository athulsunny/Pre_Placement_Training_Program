{
  "nbformat": 4,
  "nbformat_minor": 0,
  "metadata": {
    "colab": {
      "provenance": [],
      "authorship_tag": "ABX9TyNzf8EJvgKNfct23xTub6dk",
      "include_colab_link": true
    },
    "kernelspec": {
      "name": "python3",
      "display_name": "Python 3"
    },
    "language_info": {
      "name": "python"
    }
  },
  "cells": [
    {
      "cell_type": "markdown",
      "metadata": {
        "id": "view-in-github",
        "colab_type": "text"
      },
      "source": [
        "<a href=\"https://colab.research.google.com/github/athulsunny/Pre_Placement_Training_Program/blob/main/Assignment_21_Tree.ipynb\" target=\"_parent\"><img src=\"https://colab.research.google.com/assets/colab-badge.svg\" alt=\"Open In Colab\"/></a>"
      ]
    },
    {
      "cell_type": "markdown",
      "source": [
        "Question 1"
      ],
      "metadata": {
        "id": "YpisgXPnL1Jo"
      }
    },
    {
      "cell_type": "code",
      "source": [
        "class TreeNode:\n",
        "    def __init__(self, value):\n",
        "        self.val = value\n",
        "        self.left = None\n",
        "        self.right = None\n",
        "\n",
        "\n",
        "def inorder_traversal(node, values):\n",
        "    if node:\n",
        "        inorder_traversal(node.left, values)\n",
        "        values.append(node.val)\n",
        "        inorder_traversal(node.right, values)\n",
        "\n",
        "\n",
        "def create_bst(node, values, index):\n",
        "    if node:\n",
        "        node.val = values[index[0]]\n",
        "        index[0] += 1\n",
        "        create_bst(node.left, values, index)\n",
        "        create_bst(node.right, values, index)\n",
        "\n",
        "\n",
        "def convert_binary_tree_to_bst(root):\n",
        "    values = []\n",
        "    inorder_traversal(root, values)\n",
        "    values.sort()\n",
        "    index = [0]\n",
        "    create_bst(root, values, index)\n",
        "    return root\n"
      ],
      "metadata": {
        "id": "0YTlXJ0iL2vd"
      },
      "execution_count": 3,
      "outputs": []
    },
    {
      "cell_type": "code",
      "source": [
        "# Construct the binary tree\n",
        "root = TreeNode(10)\n",
        "root.left = TreeNode(2)\n",
        "root.right = TreeNode(7)\n",
        "root.left.left = TreeNode(8)\n",
        "root.left.right = TreeNode(4)\n",
        "\n",
        "# Convert the binary tree to a binary search tree\n",
        "new_root = convert_binary_tree_to_bst(root)\n",
        "\n",
        "# Print the resulting binary search tree (in-order traversal)\n",
        "def print_inorder(node):\n",
        "    if node:\n",
        "        print_inorder(node.left)\n",
        "        print(node.val)\n",
        "        print_inorder(node.right)\n",
        "\n",
        "print_inorder(new_root)\n"
      ],
      "metadata": {
        "colab": {
          "base_uri": "https://localhost:8080/"
        },
        "id": "yx2wDKlkMjWi",
        "outputId": "705fd0e0-4e51-4a43-cd7c-79e07bbdcd8a"
      },
      "execution_count": 4,
      "outputs": [
        {
          "output_type": "stream",
          "name": "stdout",
          "text": [
            "7\n",
            "4\n",
            "8\n",
            "2\n",
            "10\n"
          ]
        }
      ]
    },
    {
      "cell_type": "markdown",
      "source": [
        "Question 2"
      ],
      "metadata": {
        "id": "OpP66UQnMBCe"
      }
    },
    {
      "cell_type": "code",
      "source": [
        "class TreeNode:\n",
        "    def __init__(self, value):\n",
        "        self.val = value\n",
        "        self.left = None\n",
        "        self.right = None\n",
        "\n",
        "\n",
        "def construct_bst(values):\n",
        "    root = None\n",
        "    for value in values:\n",
        "        root = insert(root, value)\n",
        "    return root\n",
        "\n",
        "\n",
        "def insert(root, value):\n",
        "    if root is None:\n",
        "        return TreeNode(value)\n",
        "    if value < root.val:\n",
        "        root.left = insert(root.left, value)\n",
        "    else:\n",
        "        root.right = insert(root.right, value)\n",
        "    return root\n",
        "\n",
        "\n",
        "def find_lca(root, node1, node2):\n",
        "    if root is None:\n",
        "        return None\n",
        "    if root.val > node1 and root.val > node2:\n",
        "        return find_lca(root.left, node1, node2)\n",
        "    if root.val < node1 and root.val < node2:\n",
        "        return find_lca(root.right, node1, node2)\n",
        "    return root\n",
        "\n",
        "\n",
        "def find_distance(root, node, distance):\n",
        "    if root is None:\n",
        "        return 0\n",
        "    if root.val == node:\n",
        "        return distance\n",
        "    if root.val < node:\n",
        "        return find_distance(root.right, node, distance + 1)\n",
        "    return find_distance(root.left, node, distance + 1)\n",
        "\n",
        "\n",
        "def find_distance_between_nodes(root, node1, node2):\n",
        "    lca = find_lca(root, node1, node2)\n",
        "    distance1 = find_distance(lca, node1, 0)\n",
        "    distance2 = find_distance(lca, node2, 0)\n",
        "    return distance1 + distance2\n",
        "\n",
        "\n",
        "\n",
        "values = [8, 3, 1, 6, 4, 7, 10, 14, 13]\n",
        "root = construct_bst(values)\n",
        "\n",
        "\n",
        "node1 = 6\n",
        "node2 = 14\n",
        "distance = find_distance_between_nodes(root, node1, node2)\n",
        "print(\"The distance between the two keys =\", distance)\n",
        "\n"
      ],
      "metadata": {
        "colab": {
          "base_uri": "https://localhost:8080/"
        },
        "id": "1xNRtq-SMC1z",
        "outputId": "f42d6152-0f58-488e-e601-3115e46d8f09"
      },
      "execution_count": 5,
      "outputs": [
        {
          "output_type": "stream",
          "name": "stdout",
          "text": [
            "The distance between the two keys = 4\n"
          ]
        }
      ]
    },
    {
      "cell_type": "markdown",
      "source": [
        "Question 3"
      ],
      "metadata": {
        "id": "ByY4IjU7MDDV"
      }
    },
    {
      "cell_type": "code",
      "source": [
        "class TreeNode:\n",
        "    def __init__(self, value):\n",
        "        self.val = value\n",
        "        self.left = None\n",
        "        self.right = None\n",
        "\n",
        "\n",
        "class DoublyLinkedListNode:\n",
        "    def __init__(self, value):\n",
        "        self.val = value\n",
        "        self.prev = None\n",
        "        self.next = None\n",
        "\n",
        "\n",
        "def convert_to_doubly_linked_list(root):\n",
        "    if root is None:\n",
        "        return None\n",
        "\n",
        "\n",
        "    def inorder_traversal(node):\n",
        "        nonlocal prev, head\n",
        "        if node:\n",
        "            inorder_traversal(node.left)\n",
        "\n",
        "\n",
        "            linked_node = DoublyLinkedListNode(node.val)\n",
        "\n",
        "            if prev is None:\n",
        "\n",
        "                head = linked_node\n",
        "            else:\n",
        "\n",
        "                prev.next = linked_node\n",
        "                linked_node.prev = prev\n",
        "\n",
        "\n",
        "            prev = linked_node\n",
        "\n",
        "            inorder_traversal(node.right)\n",
        "\n",
        "\n",
        "    prev = None\n",
        "    head = None\n",
        "\n",
        "    inorder_traversal(root)\n",
        "\n",
        "    return head\n",
        "\n",
        "\n",
        "root = TreeNode(10)\n",
        "root.left = TreeNode(5)\n",
        "root.right = TreeNode(20)\n",
        "root.right.left = TreeNode(30)\n",
        "root.right.right = TreeNode(35)\n",
        "\n",
        "\n",
        "head = convert_to_doubly_linked_list(root)\n",
        "\n",
        "\n",
        "current = head\n",
        "while current:\n",
        "    print(current.val, end=' ')\n",
        "    current = current.next\n"
      ],
      "metadata": {
        "colab": {
          "base_uri": "https://localhost:8080/"
        },
        "id": "C1DfUACnMEdd",
        "outputId": "ee7bd40a-2ab1-4f0f-938c-75c433c6dc82"
      },
      "execution_count": 6,
      "outputs": [
        {
          "output_type": "stream",
          "name": "stdout",
          "text": [
            "5 10 30 20 35 "
          ]
        }
      ]
    },
    {
      "cell_type": "markdown",
      "source": [
        "Question 4"
      ],
      "metadata": {
        "id": "SDsqxVZlMEo3"
      }
    },
    {
      "cell_type": "code",
      "source": [
        "class TreeNode:\n",
        "    def __init__(self, value):\n",
        "        self.val = value\n",
        "        self.left = None\n",
        "        self.right = None\n",
        "        self.next = None\n",
        "\n",
        "\n",
        "def connect_nodes_at_same_level(root):\n",
        "    if root is None:\n",
        "        return None\n",
        "\n",
        "\n",
        "    queue = [root]\n",
        "\n",
        "    while queue:\n",
        "        level_size = len(queue)\n",
        "\n",
        "        for i in range(level_size):\n",
        "            node = queue.pop(0)\n",
        "\n",
        "\n",
        "            if i < level_size - 1:\n",
        "                node.next = queue[0]\n",
        "\n",
        "            if node.left:\n",
        "                queue.append(node.left)\n",
        "            if node.right:\n",
        "                queue.append(node.right)\n",
        "\n",
        "    return root\n",
        "\n",
        "\n",
        "\n",
        "root = TreeNode(1)\n",
        "root.left = TreeNode(2)\n",
        "root.right = TreeNode(3)\n",
        "root.left.left = TreeNode(4)\n",
        "root.left.right = TreeNode(5)\n",
        "root.right.left = TreeNode(6)\n",
        "root.right.right = TreeNode(7)\n",
        "\n",
        "\n",
        "connect_nodes_at_same_level(root)\n",
        "\n",
        "\n",
        "current = root\n",
        "while current:\n",
        "    temp = current\n",
        "    while temp:\n",
        "        if temp.next:\n",
        "            print(f\"{temp.val} → {temp.next.val}\")\n",
        "        else:\n",
        "            print(f\"{temp.val} → -1\")\n",
        "        temp = temp.next\n",
        "    current = current.left\n"
      ],
      "metadata": {
        "colab": {
          "base_uri": "https://localhost:8080/"
        },
        "id": "1Ltbp19SMGuG",
        "outputId": "b97091b6-c607-4ed7-a182-ade5d1e3fd23"
      },
      "execution_count": 8,
      "outputs": [
        {
          "output_type": "stream",
          "name": "stdout",
          "text": [
            "1 → -1\n",
            "2 → 3\n",
            "3 → -1\n",
            "4 → 5\n",
            "5 → 6\n",
            "6 → 7\n",
            "7 → -1\n"
          ]
        }
      ]
    }
  ]
}