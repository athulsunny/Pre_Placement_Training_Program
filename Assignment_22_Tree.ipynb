{
  "nbformat": 4,
  "nbformat_minor": 0,
  "metadata": {
    "colab": {
      "provenance": [],
      "include_colab_link": true
    },
    "kernelspec": {
      "name": "python3",
      "display_name": "Python 3"
    },
    "language_info": {
      "name": "python"
    }
  },
  "cells": [
    {
      "cell_type": "markdown",
      "metadata": {
        "id": "view-in-github",
        "colab_type": "text"
      },
      "source": [
        "<a href=\"https://colab.research.google.com/github/athulsunny/Pre_Placement_Training_Program/blob/main/Assignment_22_Tree.ipynb\" target=\"_parent\"><img src=\"https://colab.research.google.com/assets/colab-badge.svg\" alt=\"Open In Colab\"/></a>"
      ]
    },
    {
      "cell_type": "markdown",
      "source": [
        "Question 1"
      ],
      "metadata": {
        "id": "YpisgXPnL1Jo"
      }
    },
    {
      "cell_type": "code",
      "source": [
        "class TreeNode:\n",
        "    def __init__(self, value):\n",
        "        self.val = value\n",
        "        self.left = None\n",
        "        self.right = None\n",
        "\n",
        "\n",
        "def convert_to_dll(root):\n",
        "    if root is None:\n",
        "        return None\n",
        "\n",
        "\n",
        "    def inorder_traversal(node):\n",
        "        nonlocal prev, head\n",
        "        if node:\n",
        "            inorder_traversal(node.left)\n",
        "\n",
        "            if prev is None:\n",
        "\n",
        "                head = node\n",
        "            else:\n",
        "                prev.right = node\n",
        "                node.left = prev\n",
        "\n",
        "            prev = node\n",
        "\n",
        "            inorder_traversal(node.right)\n",
        "\n",
        "    prev = None\n",
        "    head = None\n",
        "\n",
        "\n",
        "    inorder_traversal(root)\n",
        "\n",
        "\n",
        "    prev.right = None\n",
        "\n",
        "    head.left = None\n",
        "\n",
        "    return head\n",
        "\n",
        "\n",
        "\n",
        "root = TreeNode(10)\n",
        "root.left = TreeNode(6)\n",
        "root.right = TreeNode(14)\n",
        "root.left.left = TreeNode(4)\n",
        "root.left.right = TreeNode(8)\n",
        "root.right.left = TreeNode(12)\n",
        "root.right.right = TreeNode(16)\n",
        "\n",
        "\n",
        "head = convert_to_dll(root)\n",
        "\n",
        "\n",
        "current = head\n",
        "while current:\n",
        "    print(current.val, end=' ')\n",
        "    current = current.right\n"
      ],
      "metadata": {
        "id": "0YTlXJ0iL2vd",
        "colab": {
          "base_uri": "https://localhost:8080/"
        },
        "outputId": "e6fb2279-02cb-49e7-f238-0b21413d8de8"
      },
      "execution_count": 1,
      "outputs": [
        {
          "output_type": "stream",
          "name": "stdout",
          "text": [
            "4 6 8 10 12 14 16 "
          ]
        }
      ]
    },
    {
      "cell_type": "markdown",
      "source": [
        "Question 2"
      ],
      "metadata": {
        "id": "OpP66UQnMBCe"
      }
    },
    {
      "cell_type": "code",
      "source": [
        "class TreeNode:\n",
        "    def __init__(self, value):\n",
        "        self.val = value\n",
        "        self.left = None\n",
        "        self.right = None\n",
        "\n",
        "\n",
        "def flip_binary_tree(root):\n",
        "    if root is None or (root.left is None and root.right is None):\n",
        "        return root\n",
        "\n",
        "    flipped_left = flip_binary_tree(root.left)\n",
        "    flipped_right = flip_binary_tree(root.right)\n",
        "\n",
        "\n",
        "    root.left = flipped_right\n",
        "    root.right = flipped_left\n",
        "\n",
        "    return root\n",
        "\n",
        "\n",
        "def inorder_traversal(root):\n",
        "    if root:\n",
        "        inorder_traversal(root.left)\n",
        "        print(root.val, end=' ')\n",
        "        inorder_traversal(root.right)\n",
        "\n",
        "\n",
        "\n",
        "root = TreeNode(1)\n",
        "root.left = TreeNode(2)\n",
        "root.right = TreeNode(3)\n",
        "root.left.left = TreeNode(4)\n",
        "root.left.right = TreeNode(5)\n",
        "\n",
        "print(\"Original tree (in-order traversal):\")\n",
        "inorder_traversal(root)\n",
        "print()\n",
        "\n",
        "flipped_tree = flip_binary_tree(root)\n",
        "\n",
        "print(\"Flipped tree (in-order traversal):\")\n",
        "inorder_traversal(flipped_tree)\n"
      ],
      "metadata": {
        "id": "1xNRtq-SMC1z",
        "colab": {
          "base_uri": "https://localhost:8080/"
        },
        "outputId": "e7fac514-6fe3-457f-8aca-7d1eb9714d15"
      },
      "execution_count": 2,
      "outputs": [
        {
          "output_type": "stream",
          "name": "stdout",
          "text": [
            "Original tree (in-order traversal):\n",
            "4 2 5 1 3 \n",
            "Flipped tree (in-order traversal):\n",
            "3 1 5 2 4 "
          ]
        }
      ]
    },
    {
      "cell_type": "markdown",
      "source": [
        "Question 3"
      ],
      "metadata": {
        "id": "ByY4IjU7MDDV"
      }
    },
    {
      "cell_type": "code",
      "source": [
        "class TreeNode:\n",
        "    def __init__(self, value):\n",
        "        self.val = value\n",
        "        self.left = None\n",
        "        self.right = None\n",
        "\n",
        "\n",
        "def print_root_to_leaf_paths(root):\n",
        "    if root is None:\n",
        "        return\n",
        "\n",
        "\n",
        "    stack = [(root, str(root.val))]\n",
        "\n",
        "    while stack:\n",
        "        node, path = stack.pop()\n",
        "\n",
        "\n",
        "        if node.left is None and node.right is None:\n",
        "            print(path)\n",
        "\n",
        "\n",
        "        if node.right:\n",
        "            stack.append((node.right, path + '->' + str(node.right.val)))\n",
        "\n",
        "\n",
        "        if node.left:\n",
        "            stack.append((node.left, path + '->' + str(node.left.val)))\n",
        "\n",
        "\n",
        "\n",
        "root = TreeNode(6)\n",
        "root.left = TreeNode(3)\n",
        "root.right = TreeNode(5)\n",
        "root.left.left = TreeNode(2)\n",
        "root.left.right = TreeNode(5)\n",
        "root.right.right = TreeNode(4)\n",
        "root.left.right.left = TreeNode(7)\n",
        "root.left.right.right = TreeNode(4)\n",
        "\n",
        "print_root_to_leaf_paths(root)\n"
      ],
      "metadata": {
        "id": "C1DfUACnMEdd",
        "colab": {
          "base_uri": "https://localhost:8080/"
        },
        "outputId": "9985840f-a3fb-4774-d75c-e3d50a72114c"
      },
      "execution_count": 3,
      "outputs": [
        {
          "output_type": "stream",
          "name": "stdout",
          "text": [
            "6->3->2\n",
            "6->3->5->7\n",
            "6->3->5->4\n",
            "6->5->4\n"
          ]
        }
      ]
    },
    {
      "cell_type": "markdown",
      "source": [
        "Question 4"
      ],
      "metadata": {
        "id": "SDsqxVZlMEo3"
      }
    },
    {
      "cell_type": "code",
      "source": [
        "class TreeNode:\n",
        "    def __init__(self, value):\n",
        "        self.val = value\n",
        "        self.left = None\n",
        "        self.right = None\n",
        "\n",
        "\n",
        "def construct_tree_from_preorder_inorder(preorder, inorder):\n",
        "    if not preorder or not inorder:\n",
        "        return None\n",
        "\n",
        "\n",
        "    root_val = preorder[0]\n",
        "    root = TreeNode(root_val)\n",
        "\n",
        "\n",
        "    root_index = inorder.index(root_val)\n",
        "\n",
        "\n",
        "    root.left = construct_tree_from_preorder_inorder(preorder[1:root_index+1], inorder[:root_index])\n",
        "    root.right = construct_tree_from_preorder_inorder(preorder[root_index+1:], inorder[root_index+1:])\n",
        "\n",
        "    return root\n",
        "\n",
        "\n",
        "def construct_tree_from_postorder_inorder(postorder, inorder):\n",
        "    if not postorder or not inorder:\n",
        "        return None\n",
        "\n",
        "\n",
        "    root_val = postorder[-1]\n",
        "    root = TreeNode(root_val)\n",
        "\n",
        "\n",
        "    root_index = inorder.index(root_val)\n",
        "\n",
        "\n",
        "    root.left = construct_tree_from_postorder_inorder(postorder[:root_index], inorder[:root_index])\n",
        "    root.right = construct_tree_from_postorder_inorder(postorder[root_index:-1], inorder[root_index+1:])\n",
        "\n",
        "    return root\n",
        "\n",
        "\n",
        "def are_traversals_same_tree(preorder, inorder, postorder):\n",
        "\n",
        "    root_from_pre_in = construct_tree_from_preorder_inorder(preorder, inorder)\n",
        "\n",
        "\n",
        "    root_from_post_in = construct_tree_from_postorder_inorder(postorder, inorder)\n",
        "\n",
        "    return are_trees_same(root_from_pre_in, root_from_post_in)\n",
        "\n",
        "\n",
        "def are_trees_same(root1, root2):\n",
        "    if root1 is None and root2 is None:\n",
        "        return True\n",
        "    if root1 is None or root2 is None:\n",
        "        return False\n",
        "    if root1.val != root2.val:\n",
        "        return False\n",
        "\n",
        "    return (are_trees_same(root1.left, root2.left) and\n",
        "            are_trees_same(root1.right, root2.right))\n",
        "\n",
        "\n",
        "\n",
        "preorder = [1, 2, 4, 5, 3]\n",
        "inorder = [4, 2, 5, 1, 3]\n",
        "postorder = [4, 5, 2, 3, 1]\n",
        "\n",
        "if are_traversals_same_tree(preorder, inorder, postorder):\n",
        "    print(\"Yes\")\n",
        "else:\n",
        "    print(\"No\")\n"
      ],
      "metadata": {
        "id": "1Ltbp19SMGuG",
        "colab": {
          "base_uri": "https://localhost:8080/"
        },
        "outputId": "636c9861-1ef5-4c84-9af3-2d9a7a0d4bb7"
      },
      "execution_count": 4,
      "outputs": [
        {
          "output_type": "stream",
          "name": "stdout",
          "text": [
            "Yes\n"
          ]
        }
      ]
    }
  ]
}