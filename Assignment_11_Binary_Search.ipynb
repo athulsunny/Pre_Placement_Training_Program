{
  "nbformat": 4,
  "nbformat_minor": 0,
  "metadata": {
    "colab": {
      "provenance": [],
      "authorship_tag": "ABX9TyOgfhi8bnif7WsWfPph3FJi",
      "include_colab_link": true
    },
    "kernelspec": {
      "name": "python3",
      "display_name": "Python 3"
    },
    "language_info": {
      "name": "python"
    }
  },
  "cells": [
    {
      "cell_type": "markdown",
      "metadata": {
        "id": "view-in-github",
        "colab_type": "text"
      },
      "source": [
        "<a href=\"https://colab.research.google.com/github/athulsunny/Pre_Placement_Training_Program/blob/main/Assignment_11_Binary_Search.ipynb\" target=\"_parent\"><img src=\"https://colab.research.google.com/assets/colab-badge.svg\" alt=\"Open In Colab\"/></a>"
      ]
    },
    {
      "cell_type": "markdown",
      "source": [
        "Question 1\n",
        "\n",
        "Given a non-negative integer `x`, return *the square root of* `x` *rounded down to the nearest integer*. The returned integer should be **non-negative** as well.\n",
        "You  must not use  any built-in exponent function or operator.\n",
        "- For example, do not use `pow(x, 0.5)` in c++ or `x ** 0.5` in python.\n"
      ],
      "metadata": {
        "id": "lPG0MxJ4eyOF"
      }
    },
    {
      "cell_type": "code",
      "source": [
        "def mySqrt(x):\n",
        "    if x < 2:\n",
        "        return x\n",
        "\n",
        "    left, right = 0, x\n",
        "    while left <= right:\n",
        "        middle = (left + right) // 2\n",
        "        if middle * middle > x:\n",
        "            right = middle - 1\n",
        "        else:\n",
        "            left = middle + 1\n",
        "\n",
        "    return left - 1\n"
      ],
      "metadata": {
        "id": "n1q-RoIee5JN"
      },
      "execution_count": 36,
      "outputs": []
    },
    {
      "cell_type": "code",
      "source": [
        "print(mySqrt(9))\n",
        "print(mySqrt(23))\n"
      ],
      "metadata": {
        "colab": {
          "base_uri": "https://localhost:8080/"
        },
        "id": "v1m7xmyAgH7d",
        "outputId": "2782bfe0-6df8-4160-fcec-f5205eaf7c29"
      },
      "execution_count": 37,
      "outputs": [
        {
          "output_type": "stream",
          "name": "stdout",
          "text": [
            "3\n",
            "4\n"
          ]
        }
      ]
    },
    {
      "cell_type": "markdown",
      "source": [
        "Question 2\n",
        "\n",
        "A peak element is an element that is strictly greater than its neighbors.\n",
        "\n",
        "Given a **0-indexed** integer array `nums`, find a peak element, and return its index. If the array contains multiple peaks, return the index to **any of the peaks**.\n",
        "\n",
        "You may imagine that `nums[-1] = nums[n] = -∞`. In other words, an element is always considered to be strictly greater than a neighbor that is outside the array.\n",
        "You must write an algorithm that runs in `O(log n)` time.\n"
      ],
      "metadata": {
        "id": "4wZvLxlge5wb"
      }
    },
    {
      "cell_type": "code",
      "source": [
        "def findPeakElement(nums):\n",
        "    left, right = 0, len(nums) - 1\n",
        "    while left < right:\n",
        "        middle = (left + right) // 2\n",
        "        if nums[middle] < nums[middle + 1]:\n",
        "            left = middle + 1\n",
        "        else:\n",
        "            right = middle\n",
        "\n",
        "    return left\n"
      ],
      "metadata": {
        "id": "DA6z_H3ce-L5"
      },
      "execution_count": 38,
      "outputs": []
    },
    {
      "cell_type": "code",
      "source": [
        "print(findPeakElement([1, 2, 4, 1]))\n",
        "print(findPeakElement([1, 3, 1, 3, 5, 8, 6]))"
      ],
      "metadata": {
        "colab": {
          "base_uri": "https://localhost:8080/"
        },
        "id": "t7meVAcog1ms",
        "outputId": "6260f196-4546-4a17-ca93-fcb1204b1bb5"
      },
      "execution_count": 39,
      "outputs": [
        {
          "output_type": "stream",
          "name": "stdout",
          "text": [
            "2\n",
            "5\n"
          ]
        }
      ]
    },
    {
      "cell_type": "markdown",
      "source": [
        "Question 3\n",
        "\n",
        "\n",
        "Given an array `nums` containing `n` distinct numbers in the range `[0, n]`, return *the only number in the range that is missing from the array.*\n"
      ],
      "metadata": {
        "id": "lz5hr_sje-Vg"
      }
    },
    {
      "cell_type": "code",
      "source": [
        "def missingNumber(nums):\n",
        "    n = len(nums)\n",
        "    missing = n\n",
        "    for i, num in enumerate(nums):\n",
        "        missing ^= i ^ num\n",
        "    return missing\n"
      ],
      "metadata": {
        "id": "lAgKz3A7fDTO"
      },
      "execution_count": 40,
      "outputs": []
    },
    {
      "cell_type": "code",
      "source": [
        "print(missingNumber([2, 4, 0, 1]))\n",
        "print(missingNumber([3, 0, 1]))\n"
      ],
      "metadata": {
        "colab": {
          "base_uri": "https://localhost:8080/"
        },
        "id": "fxJpu4skhGvH",
        "outputId": "9fe309e1-8457-44c6-e7ef-ece703c9cb4a"
      },
      "execution_count": 41,
      "outputs": [
        {
          "output_type": "stream",
          "name": "stdout",
          "text": [
            "3\n",
            "2\n"
          ]
        }
      ]
    },
    {
      "cell_type": "markdown",
      "source": [
        "Question 4\n",
        "\n",
        "Given an array of integers `nums` containing `n + 1` integers where each integer is in the range `[1, n]` inclusive.\n",
        "There is only **one repeated number** in `nums`, return *this repeated number*.\n",
        "You must solve the problem **without** modifying the array `nums` and uses only constant extra space.\n"
      ],
      "metadata": {
        "id": "vkIWXdmZfDbq"
      }
    },
    {
      "cell_type": "code",
      "source": [
        "def findDuplicate(nums):\n",
        "    slow = nums[0]\n",
        "    fast = nums[0]\n",
        "    while True:\n",
        "        slow = nums[slow]\n",
        "        fast = nums[nums[fast]]\n",
        "        if slow == fast:\n",
        "            break\n",
        "\n",
        "    slow = nums[0]\n",
        "    while slow != fast:\n",
        "        slow = nums[slow]\n",
        "        fast = nums[fast]\n",
        "\n",
        "    return slow\n"
      ],
      "metadata": {
        "id": "pQxwXGBzfTVl"
      },
      "execution_count": 42,
      "outputs": []
    },
    {
      "cell_type": "code",
      "source": [
        "print(findDuplicate([1, 3, 4, 2, 4]))\n",
        "print(findDuplicate([3, 1, 2, 4, 2]))\n"
      ],
      "metadata": {
        "colab": {
          "base_uri": "https://localhost:8080/"
        },
        "id": "4pR3MP0JhS_O",
        "outputId": "c7257d9e-5f35-4946-cd65-43a79b61bfe8"
      },
      "execution_count": 43,
      "outputs": [
        {
          "output_type": "stream",
          "name": "stdout",
          "text": [
            "4\n",
            "2\n"
          ]
        }
      ]
    },
    {
      "cell_type": "markdown",
      "source": [
        "Question 5\n",
        "\n",
        "Given two integer arrays `nums1` and `nums2`, return *an array of their intersection*. Each element in the result must be **unique** and you may return the result in **any order**.\n"
      ],
      "metadata": {
        "id": "EiMmVjgAfTiP"
      }
    },
    {
      "cell_type": "code",
      "source": [
        "def intersection(nums1, nums2):\n",
        "    set1 = set(nums1)\n",
        "    result = []\n",
        "    for num in nums2:\n",
        "        if num in set1 and num not in result:\n",
        "            result.append(num)\n",
        "    return result\n"
      ],
      "metadata": {
        "id": "DnYHwbxmfXNV"
      },
      "execution_count": 44,
      "outputs": []
    },
    {
      "cell_type": "code",
      "source": [
        "print(intersection([1, 4, 4, 1], [1, 2]))\n",
        "print(intersection([2, 7, 9], [10, 4, 9, 7, 4]))\n"
      ],
      "metadata": {
        "colab": {
          "base_uri": "https://localhost:8080/"
        },
        "id": "v7EIpCBohk23",
        "outputId": "92507c58-9855-4bb1-84cd-a9fcd485aa7c"
      },
      "execution_count": 45,
      "outputs": [
        {
          "output_type": "stream",
          "name": "stdout",
          "text": [
            "[1]\n",
            "[9, 7]\n"
          ]
        }
      ]
    },
    {
      "cell_type": "markdown",
      "source": [
        "Question 6\n",
        "\n",
        "Suppose an array of length `n` sorted in ascending order is **rotated** between `1` and `n` times. For example, the array `nums = [0,1,2,4,5,6,7]` might become:\n",
        "\n",
        "- `[4,5,6,7,0,1,2]` if it was rotated `4` times.\n",
        "- `[0,1,2,4,5,6,7]` if it was rotated `7` times.\n",
        "\n",
        "Notice that **rotating** an array `[a[0], a[1], a[2], ..., a[n-1]]` 1 time results in the array `[a[n-1], a[0], a[1], a[2], ..., a[n-2]]`.\n",
        "\n",
        "Given the sorted rotated array `nums` of **unique** elements, return *the minimum element of this array*.\n",
        "\n",
        "You must write an algorithm that runs in `O(log n) time.`\n"
      ],
      "metadata": {
        "id": "MZRRC8C_fXYU"
      }
    },
    {
      "cell_type": "code",
      "source": [
        "def findMin(nums):\n",
        "    left, right = 0, len(nums) - 1\n",
        "    while left < right:\n",
        "        middle = (left + right) // 2\n",
        "        if nums[middle] > nums[right]:\n",
        "            left = middle + 1\n",
        "        else:\n",
        "            right = middle\n",
        "\n",
        "    return nums[left]\n"
      ],
      "metadata": {
        "id": "B4zrDcX9fb1X"
      },
      "execution_count": 46,
      "outputs": []
    },
    {
      "cell_type": "code",
      "source": [
        "print(findMin([2, 4, 6, 1, 3]))\n",
        "print(findMin([5, 5, 6, 8, 0, 1, 2]))\n",
        "print(findMin([12, 13, 16, 17]))\n"
      ],
      "metadata": {
        "colab": {
          "base_uri": "https://localhost:8080/"
        },
        "id": "J_5MjWxPjErp",
        "outputId": "8e505b1e-437a-4ed8-fa67-6011d8dcc85b"
      },
      "execution_count": 47,
      "outputs": [
        {
          "output_type": "stream",
          "name": "stdout",
          "text": [
            "1\n",
            "0\n",
            "12\n"
          ]
        }
      ]
    },
    {
      "cell_type": "markdown",
      "source": [
        "Question 7\n",
        "\n",
        "Given an array of integers `nums` sorted in non-decreasing order, find the starting and ending position of a given `target` value.\n",
        "\n",
        "If `target` is not found in the array, return `[-1, -1]`.\n",
        "\n",
        "You must write an algorithm with `O(log n)` runtime complexity.\n"
      ],
      "metadata": {
        "id": "mnp6e1wIfcAA"
      }
    },
    {
      "cell_type": "code",
      "source": [
        "def searchRange(nums, target):\n",
        "    def findLeftmost(nums, target):\n",
        "        left, right = 0, len(nums) - 1\n",
        "        start = -1\n",
        "        while left <= right:\n",
        "            middle = (left + right) // 2\n",
        "            if nums[middle] == target:\n",
        "                start = middle\n",
        "                right = middle - 1\n",
        "            elif nums[middle] < target:\n",
        "                left = middle + 1\n",
        "            else:\n",
        "                right = middle - 1\n",
        "        return start\n",
        "\n",
        "    def findRightmost(nums, target):\n",
        "        left, right = 0, len(nums) - 1\n",
        "        end = -1\n",
        "        while left <= right:\n",
        "            middle = (left + right) // 2\n",
        "            if nums[middle] == target:\n",
        "                end = middle\n",
        "                left = middle + 1\n",
        "            elif nums[middle] < target:\n",
        "                left = middle + 1\n",
        "            else:\n",
        "                right = middle - 1\n",
        "        return end\n",
        "\n",
        "    start = findLeftmost(nums, target)\n",
        "    end = findRightmost(nums, target)\n",
        "    return [start, end]\n",
        "\n"
      ],
      "metadata": {
        "id": "Aj0ZFXwjfft-"
      },
      "execution_count": 48,
      "outputs": []
    },
    {
      "cell_type": "code",
      "source": [
        "print(searchRange([5, 6, 7, 8, 8, 12], 6))\n",
        "print(searchRange([5, 6, 6, 8, 8, 12], 4))\n",
        "print(searchRange([], 0))\n"
      ],
      "metadata": {
        "colab": {
          "base_uri": "https://localhost:8080/"
        },
        "id": "Rs0alFX9jrha",
        "outputId": "4a327295-6769-4470-dee9-b4f0ad56a554"
      },
      "execution_count": 49,
      "outputs": [
        {
          "output_type": "stream",
          "name": "stdout",
          "text": [
            "[1, 1]\n",
            "[-1, -1]\n",
            "[-1, -1]\n"
          ]
        }
      ]
    },
    {
      "cell_type": "markdown",
      "source": [
        "Question 8\n",
        "\n",
        "Given two integer arrays `nums1` and `nums2`, return *an array of their intersection*. Each element in the result must appear as many times as it shows in both arrays and you may return the result in **any order**.\n"
      ],
      "metadata": {
        "id": "AZHTr0Llff2b"
      }
    },
    {
      "cell_type": "code",
      "source": [
        "def intersect(nums1, nums2):\n",
        "    freqMap1 = {}\n",
        "    freqMap2 = {}\n",
        "    for num in nums1:\n",
        "        freqMap1[num] = freqMap1.get(num, 0) + 1\n",
        "\n",
        "    for num in nums2:\n",
        "        freqMap2[num] = freqMap2.get(num, 0) + 1\n",
        "\n",
        "    result = []\n",
        "    for num in freqMap1:\n",
        "        if num in freqMap2:\n",
        "            count = min(freqMap1[num], freqMap2[num])\n",
        "            result.extend([num] * count)\n",
        "\n",
        "    return result\n"
      ],
      "metadata": {
        "id": "hhRiNc5Jfj1L"
      },
      "execution_count": 50,
      "outputs": []
    },
    {
      "cell_type": "code",
      "source": [
        "print(intersect([1, 2, 2, 1], [1, 1]))\n",
        "print(intersect([2, 7, 6], [9, 6, 8, 8, 2]))\n"
      ],
      "metadata": {
        "colab": {
          "base_uri": "https://localhost:8080/"
        },
        "id": "nSaNyg_UkQk-",
        "outputId": "ac173e35-af84-4a4a-b414-51e2b51348ff"
      },
      "execution_count": 51,
      "outputs": [
        {
          "output_type": "stream",
          "name": "stdout",
          "text": [
            "[1, 1]\n",
            "[2, 6]\n"
          ]
        }
      ]
    }
  ]
}