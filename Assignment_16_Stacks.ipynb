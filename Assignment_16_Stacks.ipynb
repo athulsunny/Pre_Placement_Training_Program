{
  "nbformat": 4,
  "nbformat_minor": 0,
  "metadata": {
    "colab": {
      "provenance": [],
      "authorship_tag": "ABX9TyMkofmAAk1jsbGoDu5fAb7Y",
      "include_colab_link": true
    },
    "kernelspec": {
      "name": "python3",
      "display_name": "Python 3"
    },
    "language_info": {
      "name": "python"
    }
  },
  "cells": [
    {
      "cell_type": "markdown",
      "metadata": {
        "id": "view-in-github",
        "colab_type": "text"
      },
      "source": [
        "<a href=\"https://colab.research.google.com/github/athulsunny/Pre_Placement_Training_Program/blob/main/Assignment_16_Stacks.ipynb\" target=\"_parent\"><img src=\"https://colab.research.google.com/assets/colab-badge.svg\" alt=\"Open In Colab\"/></a>"
      ]
    },
    {
      "cell_type": "markdown",
      "source": [
        "**Question 1**"
      ],
      "metadata": {
        "id": "FX8l5F4SD6fZ"
      }
    },
    {
      "cell_type": "code",
      "source": [
        "def find_nearest_greater_frequency(arr):\n",
        "    frequency = {}\n",
        "    stack = []\n",
        "    result = [-1] * len(arr)\n",
        "\n",
        "    # Calculate the frequency of each element\n",
        "    for num in arr:\n",
        "        frequency[num] = frequency.get(num, 0) + 1\n",
        "\n",
        "    # Iterate through the array from right to left\n",
        "    for i in range(len(arr) - 1, -1, -1):\n",
        "        # Pop elements from the stack until finding an element with greater frequency\n",
        "        while stack and frequency[arr[i]] >= frequency[arr[stack[-1]]]:\n",
        "            stack.pop()\n",
        "\n",
        "        if stack:\n",
        "            # Found an element with greater frequency\n",
        "            result[i] = arr[stack[-1]]\n",
        "\n",
        "        stack.append(i)\n",
        "\n",
        "    return result\n"
      ],
      "metadata": {
        "id": "EnMwXnfUD9Bs"
      },
      "execution_count": 1,
      "outputs": []
    },
    {
      "cell_type": "code",
      "source": [
        "# Example 1\n",
        "arr1 = [1, 4, 5, 3, 4, 2, 1]\n",
        "output1 = find_nearest_greater_frequency(arr1)\n",
        "print(output1)\n"
      ],
      "metadata": {
        "colab": {
          "base_uri": "https://localhost:8080/"
        },
        "id": "dOog4jqXFAhg",
        "outputId": "193aab2a-2f11-405a-c7a5-b09d944286db"
      },
      "execution_count": 3,
      "outputs": [
        {
          "output_type": "stream",
          "name": "stdout",
          "text": [
            "[-1, -1, 4, 4, -1, 1, -1]\n"
          ]
        }
      ]
    },
    {
      "cell_type": "markdown",
      "source": [
        "**Question 2**"
      ],
      "metadata": {
        "id": "qvevDr09D_UN"
      }
    },
    {
      "cell_type": "code",
      "source": [
        "def sort_stack(stack):\n",
        "    temp_stack = []\n",
        "\n",
        "    while stack:\n",
        "        temp = stack.pop()\n",
        "\n",
        "        while temp_stack and temp_stack[-1] < temp:\n",
        "            stack.append(temp_stack.pop())\n",
        "\n",
        "        temp_stack.append(temp)\n",
        "\n",
        "    while temp_stack:\n",
        "        stack.append(temp_stack.pop())\n",
        "\n",
        "    return stack\n"
      ],
      "metadata": {
        "id": "DiNDU3J0EBRe"
      },
      "execution_count": 11,
      "outputs": []
    },
    {
      "cell_type": "code",
      "source": [
        "stack1 = [34, 5, 32, 87, 97, 23]\n",
        "output1 = sort_stack(stack1)\n",
        "print(output1)\n"
      ],
      "metadata": {
        "colab": {
          "base_uri": "https://localhost:8080/"
        },
        "id": "GUt1A-GEFken",
        "outputId": "6d896f8b-480e-406f-f123-a63e58195e8c"
      },
      "execution_count": 14,
      "outputs": [
        {
          "output_type": "stream",
          "name": "stdout",
          "text": [
            "[5, 23, 32, 34, 87, 97]\n"
          ]
        }
      ]
    },
    {
      "cell_type": "markdown",
      "source": [
        "**Question 3**"
      ],
      "metadata": {
        "id": "zWoZiGUtEBjD"
      }
    },
    {
      "cell_type": "code",
      "source": [
        "def deleteMiddle(stack):\n",
        "    size = len(stack)\n",
        "    deleteMiddleRecursive(stack, 0, size)\n",
        "    return stack\n",
        "\n",
        "def deleteMiddleRecursive(stack, current, size):\n",
        "    if current == size // 2:\n",
        "        stack.pop()\n",
        "        return\n",
        "\n",
        "    temp = stack.pop()\n",
        "    deleteMiddleRecursive(stack, current + 1, size)\n",
        "    stack.append(temp)\n"
      ],
      "metadata": {
        "id": "v2afAJw-ECRd"
      },
      "execution_count": 19,
      "outputs": []
    },
    {
      "cell_type": "code",
      "source": [
        "\n",
        "stack1 = [1, 2, 3, 4, 5, 6, 7]\n",
        "output1 = deleteMiddle(stack1)\n",
        "print(output1)\n",
        "\n"
      ],
      "metadata": {
        "colab": {
          "base_uri": "https://localhost:8080/"
        },
        "id": "80gfOAKJGjiO",
        "outputId": "1e621a9d-fc4e-4892-bfcd-7301c5ee6b3c"
      },
      "execution_count": 21,
      "outputs": [
        {
          "output_type": "stream",
          "name": "stdout",
          "text": [
            "[1, 2, 3, 5, 6, 7]\n"
          ]
        }
      ]
    },
    {
      "cell_type": "markdown",
      "source": [
        "**Question 4**"
      ],
      "metadata": {
        "id": "6dY-d7IUECa1"
      }
    },
    {
      "cell_type": "code",
      "source": [
        "def check_queue_order(queue):\n",
        "    stack = []\n",
        "    second_queue = []\n",
        "\n",
        "    while queue:\n",
        "        current = queue.pop(0)\n",
        "        while stack and current > stack[-1]:\n",
        "            second_queue.append(stack.pop())\n",
        "        stack.append(current)\n",
        "\n",
        "    while stack:\n",
        "        second_queue.append(stack.pop())\n",
        "\n",
        "    for i in range(1, len(second_queue)):\n",
        "        if second_queue[i] < second_queue[i - 1]:\n",
        "            return \"No\"\n",
        "\n",
        "    return \"Yes\"\n",
        "\n"
      ],
      "metadata": {
        "id": "scxxTypfEDMp"
      },
      "execution_count": 36,
      "outputs": []
    },
    {
      "cell_type": "code",
      "source": [
        "queue1 = [5, 1, 2, 3, 4]\n",
        "print(check_queue_order(queue1))\n",
        "\n",
        "queue2 = [5, 1, 2, 6, 3, 4]\n",
        "print(check_queue_order(queue2))\n",
        "\n",
        "\n",
        "\n"
      ],
      "metadata": {
        "colab": {
          "base_uri": "https://localhost:8080/"
        },
        "id": "t9UUit6kHYyG",
        "outputId": "97ffa95f-e4fd-4021-f7ca-6caafc8ef2a7"
      },
      "execution_count": 38,
      "outputs": [
        {
          "output_type": "stream",
          "name": "stdout",
          "text": [
            "Yes\n",
            "No\n"
          ]
        }
      ]
    },
    {
      "cell_type": "markdown",
      "source": [
        "**Question 5**"
      ],
      "metadata": {
        "id": "lhXIZbzcEDWn"
      }
    },
    {
      "cell_type": "code",
      "source": [
        "class Stack:\n",
        "    def __init__(self):\n",
        "        self.items = []\n",
        "\n",
        "    def push(self, item):\n",
        "        self.items.append(item)\n",
        "\n",
        "    def pop(self):\n",
        "        if not self.is_empty():\n",
        "            return self.items.pop()\n",
        "        return None\n",
        "\n",
        "    def is_empty(self):\n",
        "        return len(self.items) == 0\n",
        "\n",
        "\n",
        "def reverse_number(number):\n",
        "    stack = Stack()\n",
        "    for digit in str(number):\n",
        "        stack.push(digit)\n",
        "\n",
        "    reversed_number = ''\n",
        "    while not stack.is_empty():\n",
        "        reversed_number += stack.pop()\n",
        "\n",
        "    return int(reversed_number)\n",
        "\n",
        "\n",
        "\n",
        "input_number = 10089\n",
        "reversed_number = reverse_number(input_number)\n",
        "print(f\"Input: {input_number}\")\n",
        "print(f\"Reversed output: {reversed_number}\")\n"
      ],
      "metadata": {
        "colab": {
          "base_uri": "https://localhost:8080/"
        },
        "id": "3nfnivjdEEdu",
        "outputId": "4db4bb1c-921f-489d-9281-f149b49b0189"
      },
      "execution_count": 40,
      "outputs": [
        {
          "output_type": "stream",
          "name": "stdout",
          "text": [
            "Input: 10089\n",
            "Reversed output: 98001\n"
          ]
        }
      ]
    },
    {
      "cell_type": "markdown",
      "source": [
        "**Question 6**"
      ],
      "metadata": {
        "id": "99w3R8XLEEk3"
      }
    },
    {
      "cell_type": "code",
      "source": [
        "from queue import Queue\n",
        "\n",
        "def reverse_k_elements(queue, k):\n",
        "    stack = []\n",
        "\n",
        "    # Enqueue the first k elements into the stack\n",
        "    for _ in range(k):\n",
        "        stack.append(queue.get())\n",
        "\n",
        "    # Enqueue the elements from the stack back into the queue\n",
        "    while stack:\n",
        "        queue.put(stack.pop())\n",
        "\n",
        "    # Dequeue the remaining elements and enqueue them immediately\n",
        "    for _ in range(queue.qsize() - k):\n",
        "        queue.put(queue.get())\n",
        "\n",
        "    return queue\n",
        "\n",
        "# Example usage:\n",
        "q = Queue()\n",
        "q.put(1)\n",
        "q.put(2)\n",
        "q.put(3)\n",
        "q.put(4)\n",
        "q.put(5)\n",
        "q.put(6)\n",
        "q.put(7)\n",
        "\n",
        "k = 3\n",
        "\n",
        "reversed_q = reverse_k_elements(q, k)\n",
        "\n",
        "# Print the elements in the reversed queue\n",
        "while not reversed_q.empty():\n",
        "    print(reversed_q.get())\n"
      ],
      "metadata": {
        "colab": {
          "base_uri": "https://localhost:8080/"
        },
        "id": "ZUV2PekxN1_B",
        "outputId": "e0854a54-050d-43fa-85e0-65f3beb70c07"
      },
      "execution_count": 61,
      "outputs": [
        {
          "output_type": "stream",
          "name": "stdout",
          "text": [
            "3\n",
            "2\n",
            "1\n",
            "4\n",
            "5\n",
            "6\n",
            "7\n"
          ]
        }
      ]
    },
    {
      "cell_type": "markdown",
      "source": [
        "**Question 7**"
      ],
      "metadata": {
        "id": "Y-oLmiMVEFOX"
      }
    },
    {
      "cell_type": "code",
      "source": [
        "def count_remaining_words(sequence):\n",
        "    stack = []\n",
        "\n",
        "    for word in sequence:\n",
        "        if stack and stack[-1] == word:\n",
        "            stack.pop()\n",
        "        else:\n",
        "            stack.append(word)\n",
        "\n",
        "    return len(stack)\n",
        "\n",
        "\n",
        "# Example usage\n",
        "sequence = input(\"Enter the sequence of words: \").split()\n",
        "remaining_words = count_remaining_words(sequence)\n",
        "print(\"Number of words left after pairwise destruction:\", remaining_words)\n"
      ],
      "metadata": {
        "colab": {
          "base_uri": "https://localhost:8080/"
        },
        "id": "5e-RnuzkEFt5",
        "outputId": "38d72d7e-7819-4c1d-c0c6-f1d8e199f707"
      },
      "execution_count": 53,
      "outputs": [
        {
          "output_type": "stream",
          "name": "stdout",
          "text": [
            "Enter the sequence of words: i am a data scientist\n",
            "Number of words left after pairwise destruction: 5\n"
          ]
        }
      ]
    },
    {
      "cell_type": "markdown",
      "source": [
        "**Question 8**"
      ],
      "metadata": {
        "id": "41yKgBC4EF1-"
      }
    },
    {
      "cell_type": "code",
      "source": [
        "def max_absolute_difference(arr):\n",
        "    n = len(arr)\n",
        "    LS = [0] * n\n",
        "    RS = [0] * n\n",
        "    maxDiff = 0\n",
        "    stack = []\n",
        "\n",
        "    # Finding nearest smaller element on the left side\n",
        "    for i in range(n):\n",
        "        while stack and arr[i] <= arr[stack[-1]]:\n",
        "            stack.pop()\n",
        "        if stack:\n",
        "            LS[i] = arr[stack[-1]]\n",
        "        stack.append(i)\n",
        "\n",
        "    stack.clear()\n",
        "\n",
        "    # Finding nearest smaller element on the right side\n",
        "    for i in range(n - 1, -1, -1):\n",
        "        while stack and arr[i] <= arr[stack[-1]]:\n",
        "            stack.pop()\n",
        "        if stack:\n",
        "            RS[i] = arr[stack[-1]]\n",
        "        stack.append(i)\n",
        "\n",
        "    # Calculating the maximum absolute difference\n",
        "    for i in range(n):\n",
        "        diff = abs(LS[i] - RS[i])\n",
        "        if diff > maxDiff:\n",
        "            maxDiff = diff\n",
        "\n",
        "    return maxDiff\n"
      ],
      "metadata": {
        "id": "7V3H66-OEGWN"
      },
      "execution_count": 58,
      "outputs": []
    },
    {
      "cell_type": "code",
      "source": [
        "arr1 = [5, 2, 8]\n",
        "print(max_absolute_difference(arr1))\n",
        "\n"
      ],
      "metadata": {
        "colab": {
          "base_uri": "https://localhost:8080/"
        },
        "id": "oiQsQLXmM9qF",
        "outputId": "c666de43-4d71-4397-8a3c-7dab0501f473"
      },
      "execution_count": 60,
      "outputs": [
        {
          "output_type": "stream",
          "name": "stdout",
          "text": [
            "2\n"
          ]
        }
      ]
    }
  ]
}