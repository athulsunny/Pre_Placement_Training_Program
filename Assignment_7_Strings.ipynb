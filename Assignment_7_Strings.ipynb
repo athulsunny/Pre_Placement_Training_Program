{
  "nbformat": 4,
  "nbformat_minor": 0,
  "metadata": {
    "colab": {
      "provenance": [],
      "authorship_tag": "ABX9TyNLp1g1t1xVUmCwCukyUoXE",
      "include_colab_link": true
    },
    "kernelspec": {
      "name": "python3",
      "display_name": "Python 3"
    },
    "language_info": {
      "name": "python"
    }
  },
  "cells": [
    {
      "cell_type": "markdown",
      "metadata": {
        "id": "view-in-github",
        "colab_type": "text"
      },
      "source": [
        "<a href=\"https://colab.research.google.com/github/athulsunny/Pre_Placement_Training_Program/blob/main/Assignment_7_Strings.ipynb\" target=\"_parent\"><img src=\"https://colab.research.google.com/assets/colab-badge.svg\" alt=\"Open In Colab\"/></a>"
      ]
    },
    {
      "cell_type": "markdown",
      "source": [
        "\n",
        "Question 1\n",
        "\n",
        "Given two strings s and t, *determine if they are isomorphic*.\n",
        "Two strings s and t are isomorphic if the characters in s can be replaced to get t.\n",
        "All occurrences of a character must be replaced with another character while preserving the order of characters. No two characters may map to the same character, but a character may map to itself.\n"
      ],
      "metadata": {
        "id": "VrAI6135t3UK"
      }
    },
    {
      "cell_type": "code",
      "source": [
        "def isIsomorphic(s, t):\n",
        "    if len(s) != len(t):\n",
        "        return False\n",
        "    \n",
        "    s_map = {}\n",
        "    t_map = {}\n",
        "    \n",
        "    for s_char, t_char in zip(s, t):\n",
        "        if s_char in s_map:\n",
        "            if s_map[s_char] != t_char:\n",
        "                return False\n",
        "        else:\n",
        "            s_map[s_char] = t_char\n",
        "        \n",
        "        if t_char in t_map:\n",
        "            if t_map[t_char] != s_char:\n",
        "                return False\n",
        "        else:\n",
        "            t_map[t_char] = s_char\n",
        "    \n",
        "    return True\n"
      ],
      "metadata": {
        "id": "U8xKs7cat8mB"
      },
      "execution_count": 2,
      "outputs": []
    },
    {
      "cell_type": "code",
      "source": [
        "s = \"chair\"\n",
        "t = \"table\"\n",
        "print(isIsomorphic(s, t))  \n"
      ],
      "metadata": {
        "colab": {
          "base_uri": "https://localhost:8080/"
        },
        "id": "dO1sTOClu4w8",
        "outputId": "5959cb65-08a9-4627-c601-4d737eab397a"
      },
      "execution_count": 19,
      "outputs": [
        {
          "output_type": "stream",
          "name": "stdout",
          "text": [
            "True\n"
          ]
        }
      ]
    },
    {
      "cell_type": "markdown",
      "source": [
        "Question 2\n",
        "\n",
        "Given a string num which represents an integer, return true *if* num *is a **strobogrammatic number***.\n",
        "A **strobogrammatic number** is a number that looks the same when rotated 180 degrees (looked at upside down).\n"
      ],
      "metadata": {
        "id": "MjzUlT6_t9uN"
      }
    },
    {
      "cell_type": "code",
      "source": [
        "def isStrobogrammatic(num):\n",
        "    mapping = {'0': '0', '1': '1', '6': '9', '8': '8', '9': '6'}\n",
        "    left, right = 0, len(num) - 1\n",
        "    \n",
        "    while left <= right:\n",
        "        if num[left] not in mapping or num[right] != mapping[num[left]]:\n",
        "            return False\n",
        "        left += 1\n",
        "        right -= 1\n",
        "    \n",
        "    return True\n"
      ],
      "metadata": {
        "id": "zyoJ7x32uCX_"
      },
      "execution_count": 4,
      "outputs": []
    },
    {
      "cell_type": "code",
      "source": [
        "num = \"75\"\n",
        "print(isStrobogrammatic(num)) \n"
      ],
      "metadata": {
        "colab": {
          "base_uri": "https://localhost:8080/"
        },
        "id": "b7P0TdcEvM0D",
        "outputId": "05f38fc4-9aad-41e0-b553-2b55d91547f8"
      },
      "execution_count": 20,
      "outputs": [
        {
          "output_type": "stream",
          "name": "stdout",
          "text": [
            "False\n"
          ]
        }
      ]
    },
    {
      "cell_type": "markdown",
      "source": [
        "Question 3\n",
        "\n",
        "Given two non-negative integers, num1 and num2 represented as string, return *the sum of* num1 *and* num2 *as a string*.\n",
        "You must solve the problem without using any built-in library for handling large integers (such as BigInteger). You must also not convert the inputs to integers directly.\n"
      ],
      "metadata": {
        "id": "4vBxzoOPuCgx"
      }
    },
    {
      "cell_type": "code",
      "source": [
        "def addStrings(num1, num2):\n",
        "    result = \"\"\n",
        "    i, j = len(num1) - 1, len(num2) - 1\n",
        "    carry = 0\n",
        "    \n",
        "    while i >= 0 or j >= 0:\n",
        "        if i >= 0:\n",
        "            carry += int(num1[i])\n",
        "        if j >= 0:\n",
        "            carry += int(num2[j])\n",
        "        \n",
        "        result += str(carry % 10)\n",
        "        carry //= 10\n",
        "        \n",
        "        i -= 1\n",
        "        j -= 1\n",
        "    \n",
        "    if carry > 0:\n",
        "        result += str(carry)\n",
        "    \n",
        "    return result[::-1]\n"
      ],
      "metadata": {
        "id": "o9fEkjTAuG9x"
      },
      "execution_count": 7,
      "outputs": []
    },
    {
      "cell_type": "code",
      "source": [
        "num1 = \"21\"\n",
        "num2 = \"112\"\n",
        "print(addStrings(num1, num2)) \n"
      ],
      "metadata": {
        "colab": {
          "base_uri": "https://localhost:8080/"
        },
        "id": "7SvACjwUva3d",
        "outputId": "c92dbe02-556f-4a16-a7c5-f929955400e9"
      },
      "execution_count": 21,
      "outputs": [
        {
          "output_type": "stream",
          "name": "stdout",
          "text": [
            "133\n"
          ]
        }
      ]
    },
    {
      "cell_type": "markdown",
      "source": [
        "Question 4\n",
        "\n",
        "Given a string s, reverse the order of characters in each word within a sentence while still preserving whitespace and initial word order.\n"
      ],
      "metadata": {
        "id": "68GXWkVauHXM"
      }
    },
    {
      "cell_type": "code",
      "source": [
        "def reverseWords(s):\n",
        "    words = s.split()\n",
        "    \n",
        "    for i in range(len(words)):\n",
        "        words[i] = words[i][::-1]\n",
        "    \n",
        "    return ' '.join(words)\n"
      ],
      "metadata": {
        "id": "fXEeRUv1uK-T"
      },
      "execution_count": 9,
      "outputs": []
    },
    {
      "cell_type": "code",
      "source": [
        "s = \"Being a Data scientist is my dream\"\n",
        "print(reverseWords(s)) \n"
      ],
      "metadata": {
        "colab": {
          "base_uri": "https://localhost:8080/"
        },
        "id": "0ZJRsuYmvs_J",
        "outputId": "9220a3ef-66b2-4774-b1fd-656a17a64f69"
      },
      "execution_count": 22,
      "outputs": [
        {
          "output_type": "stream",
          "name": "stdout",
          "text": [
            "gnieB a ataD tsitneics si ym maerd\n"
          ]
        }
      ]
    },
    {
      "cell_type": "markdown",
      "source": [
        "Question 5\n",
        "\n",
        "Given a string s and an integer k, reverse the first k characters for every 2k characters counting from the start of the string.\n",
        "If there are fewer than k characters left, reverse all of them. If there are less than 2k but greater than or equal to k characters, then reverse the first k characters and leave the other as original.\n"
      ],
      "metadata": {
        "id": "4xA48a4quLHF"
      }
    },
    {
      "cell_type": "code",
      "source": [
        "def reverseStr(s, k):\n",
        "    chars = list(s)\n",
        "    n = len(chars)\n",
        "    \n",
        "    for i in range(0, n, 2 * k):\n",
        "        start = i\n",
        "        end = min(i + k - 1, n - 1)\n",
        "        \n",
        "        while start < end:\n",
        "            chars[start], chars[end] = chars[end], chars[start]\n",
        "            start += 1\n",
        "            end -= 1\n",
        "    \n",
        "    return ''.join(chars)\n"
      ],
      "metadata": {
        "id": "pqJyUBlouOdV"
      },
      "execution_count": 11,
      "outputs": []
    },
    {
      "cell_type": "code",
      "source": [
        "s = \"abcdefghijk\"\n",
        "k = 2\n",
        "print(reverseStr(s, k))  "
      ],
      "metadata": {
        "colab": {
          "base_uri": "https://localhost:8080/"
        },
        "id": "OZFrJE1Gv5FK",
        "outputId": "b4803d94-126a-4d19-cd83-1b56b359294d"
      },
      "execution_count": 23,
      "outputs": [
        {
          "output_type": "stream",
          "name": "stdout",
          "text": [
            "bacdfeghjik\n"
          ]
        }
      ]
    },
    {
      "cell_type": "markdown",
      "source": [
        "Question 6\n",
        "\n",
        "Given two strings s and goal, return true *if and only if* s *can become* goal *after some number of **shifts** on* s.\n",
        "A **shift** on s consists of moving the leftmost character of s to the rightmost position.\n",
        "\n",
        "- For example, if s = \"abcde\", then it will be \"bcdea\" after one shift.\n"
      ],
      "metadata": {
        "id": "5lvlITItuOmA"
      }
    },
    {
      "cell_type": "code",
      "source": [
        "def rotateString(s, goal):\n",
        "    if len(s) != len(goal):\n",
        "        return False\n",
        "    \n",
        "    s_double = s + s\n",
        "    if goal in s_double:\n",
        "        return True\n",
        "    \n",
        "    return False\n"
      ],
      "metadata": {
        "id": "DOQ5Ya3ZuSSH"
      },
      "execution_count": 13,
      "outputs": []
    },
    {
      "cell_type": "code",
      "source": [
        "s = \"abcdefg\"\n",
        "goal = \"cdeabghr\"\n",
        "print(rotateString(s, goal)) \n"
      ],
      "metadata": {
        "colab": {
          "base_uri": "https://localhost:8080/"
        },
        "id": "dDSSXKkgwJmr",
        "outputId": "327b5a8c-9c39-4202-d403-f90b0ba0c9c1"
      },
      "execution_count": 24,
      "outputs": [
        {
          "output_type": "stream",
          "name": "stdout",
          "text": [
            "False\n"
          ]
        }
      ]
    },
    {
      "cell_type": "markdown",
      "source": [
        "Question 7\n",
        "\n",
        "Given two strings s and t, return true *if they are equal when both are typed into empty text editors*. '#' means a backspace character.\n",
        "Note that after backspacing an empty text, the text will continue empty.\n"
      ],
      "metadata": {
        "id": "g6mYba-juSqt"
      }
    },
    {
      "cell_type": "code",
      "source": [
        "def processString(string):\n",
        "    stack = []\n",
        "    \n",
        "    for char in string:\n",
        "        if char != '#':\n",
        "            stack.append(char)\n",
        "        elif stack:\n",
        "            stack.pop()\n",
        "    \n",
        "    return ''.join(stack)\n",
        "\n",
        "def backspaceCompare(s, t):\n",
        "    processed_s = processString(s)\n",
        "    processed_t = processString(t)\n",
        "    \n",
        "    return processed_s == processed_t\n"
      ],
      "metadata": {
        "id": "CzOeqYJ4uWuM"
      },
      "execution_count": 15,
      "outputs": []
    },
    {
      "cell_type": "code",
      "source": [
        "s = \"ab#c\"\n",
        "t = \"ad#c\"\n",
        "print(backspaceCompare(s, t)) \n"
      ],
      "metadata": {
        "colab": {
          "base_uri": "https://localhost:8080/"
        },
        "id": "2p5BjNtFwVwG",
        "outputId": "a2895952-882d-4b0c-b589-bb22636609d2"
      },
      "execution_count": 16,
      "outputs": [
        {
          "output_type": "stream",
          "name": "stdout",
          "text": [
            "True\n"
          ]
        }
      ]
    },
    {
      "cell_type": "markdown",
      "source": [
        "Question 8\n",
        "\n",
        "You are given an array coordinates, coordinates[i] = [x, y], where [x, y] represents the coordinate of a point. Check if these points make a straight line in the XY plane.\n"
      ],
      "metadata": {
        "id": "zkLnRwMAuXJm"
      }
    },
    {
      "cell_type": "code",
      "source": [
        "def checkStraightLine(coordinates):\n",
        "    if len(coordinates) < 2:\n",
        "        return True\n",
        "    \n",
        "    x1, y1 = coordinates[0]\n",
        "    x2, y2 = coordinates[1]\n",
        "    initial_slope = (y2 - y1) / (x2 - x1)\n",
        "    \n",
        "    for i in range(2, len(coordinates)):\n",
        "        x, y = coordinates[i]\n",
        "        slope = (y - y1) / (x - x1)\n",
        "        \n",
        "        if slope != initial_slope:\n",
        "            return False\n",
        "    \n",
        "    return True\n"
      ],
      "metadata": {
        "id": "ti6vy6wWua8S"
      },
      "execution_count": 17,
      "outputs": []
    },
    {
      "cell_type": "code",
      "source": [
        "coordinates = [[1, 2], [2, 3], [3, 4], [4, 5], [5, 6], [6, 7],[7,8],[8,9]]\n",
        "print(checkStraightLine(coordinates)) \n"
      ],
      "metadata": {
        "colab": {
          "base_uri": "https://localhost:8080/"
        },
        "id": "hEXSAzhkwsFd",
        "outputId": "6dc2fc9a-d935-43d6-8629-1491c320ff6a"
      },
      "execution_count": 25,
      "outputs": [
        {
          "output_type": "stream",
          "name": "stdout",
          "text": [
            "True\n"
          ]
        }
      ]
    }
  ]
}