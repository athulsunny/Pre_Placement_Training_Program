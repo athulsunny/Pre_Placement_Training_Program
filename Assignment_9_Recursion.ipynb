{
  "nbformat": 4,
  "nbformat_minor": 0,
  "metadata": {
    "colab": {
      "provenance": [],
      "authorship_tag": "ABX9TyMlSgMks586X7/IEL6lkAI0",
      "include_colab_link": true
    },
    "kernelspec": {
      "name": "python3",
      "display_name": "Python 3"
    },
    "language_info": {
      "name": "python"
    }
  },
  "cells": [
    {
      "cell_type": "markdown",
      "metadata": {
        "id": "view-in-github",
        "colab_type": "text"
      },
      "source": [
        "<a href=\"https://colab.research.google.com/github/athulsunny/Pre_Placement_Training_Program/blob/main/Assignment_9_Recursion.ipynb\" target=\"_parent\"><img src=\"https://colab.research.google.com/assets/colab-badge.svg\" alt=\"Open In Colab\"/></a>"
      ]
    },
    {
      "cell_type": "markdown",
      "source": [
        "Question 1\n",
        "\n",
        "Given an integer `n`, return *`true` if it is a power of two. Otherwise, return `false`*.\n",
        "An integer `n` is a power of two, if there exists an integer `x` such that `n == 2x`.\n"
      ],
      "metadata": {
        "id": "IONPDyLGgFfS"
      }
    },
    {
      "cell_type": "code",
      "source": [
        "def Power(n):\n",
        "    if n <= 0:\n",
        "        return False\n",
        "    return n & (n - 1) == 0\n"
      ],
      "metadata": {
        "id": "_kRHhXJggH-a"
      },
      "execution_count": 2,
      "outputs": []
    },
    {
      "cell_type": "code",
      "source": [
        "print(Power(32))"
      ],
      "metadata": {
        "colab": {
          "base_uri": "https://localhost:8080/"
        },
        "id": "MZzWjcNChm19",
        "outputId": "22c90524-bdaf-4d40-d434-3fab6eb4adda"
      },
      "execution_count": 9,
      "outputs": [
        {
          "output_type": "stream",
          "name": "stdout",
          "text": [
            "True\n"
          ]
        }
      ]
    },
    {
      "cell_type": "markdown",
      "source": [
        "Question 2\n",
        "\n",
        "Given a number n, find the sum of the first natural numbers.\n"
      ],
      "metadata": {
        "id": "36ExbbZ8gIzY"
      }
    },
    {
      "cell_type": "code",
      "source": [
        "def sumofn(n):\n",
        "    return (n * (n + 1)) // 2\n"
      ],
      "metadata": {
        "id": "_c-EGVPYgS3s"
      },
      "execution_count": 13,
      "outputs": []
    },
    {
      "cell_type": "code",
      "source": [
        "print(f\"sum of first 10 natural numbers is {sumofn(10)}\")\n",
        "print(f\"sum of first 4 natural numbers is {sumofn(4)}\")"
      ],
      "metadata": {
        "colab": {
          "base_uri": "https://localhost:8080/"
        },
        "id": "CIAYRG0GiOaL",
        "outputId": "ce747abb-8406-4411-a7b2-5e47f9a5db5d"
      },
      "execution_count": 15,
      "outputs": [
        {
          "output_type": "stream",
          "name": "stdout",
          "text": [
            "sum of first 10 natural numbers is 55\n",
            "sum of first 4 natural numbers is 10\n"
          ]
        }
      ]
    },
    {
      "cell_type": "markdown",
      "source": [
        "Question 3\n",
        "\n",
        "Given a positive integer, N. Find the factorial of N. \n"
      ],
      "metadata": {
        "id": "fs8rfQCRgTB5"
      }
    },
    {
      "cell_type": "code",
      "source": [
        "def factorial(N):\n",
        "    result = 1\n",
        "    for i in range(1, N + 1):\n",
        "        result *= i\n",
        "    return result\n"
      ],
      "metadata": {
        "id": "uybUzVnXgXsA"
      },
      "execution_count": 17,
      "outputs": []
    },
    {
      "cell_type": "code",
      "source": [
        "print(factorial(8))  \n",
        "print(factorial(3)) \n"
      ],
      "metadata": {
        "colab": {
          "base_uri": "https://localhost:8080/"
        },
        "id": "ubXoT2u4i5Lw",
        "outputId": "a88ef745-793a-437c-dfed-849f03c52841"
      },
      "execution_count": 19,
      "outputs": [
        {
          "output_type": "stream",
          "name": "stdout",
          "text": [
            "40320\n",
            "6\n"
          ]
        }
      ]
    },
    {
      "cell_type": "markdown",
      "source": [
        "Question 4\n",
        "\n",
        "Given a number N and a power P, the task is to find the exponent of this number raised to the given power, i.e. N^P.\n"
      ],
      "metadata": {
        "id": "0fq5MoJ5gX2y"
      }
    },
    {
      "cell_type": "code",
      "source": [
        "def exponentiation(N, P):\n",
        "    result = N ** P\n",
        "    return result\n"
      ],
      "metadata": {
        "id": "Bgxax4CEgbte"
      },
      "execution_count": 21,
      "outputs": []
    },
    {
      "cell_type": "code",
      "source": [
        "print(exponentiation(6, 2)) \n",
        "print(exponentiation(2, 3)) \n"
      ],
      "metadata": {
        "colab": {
          "base_uri": "https://localhost:8080/"
        },
        "id": "ON-wNxsQjP63",
        "outputId": "038f6c9a-09dc-49ce-aa31-c7ff24c73707"
      },
      "execution_count": 23,
      "outputs": [
        {
          "output_type": "stream",
          "name": "stdout",
          "text": [
            "36\n",
            "8\n"
          ]
        }
      ]
    },
    {
      "cell_type": "markdown",
      "source": [
        "Question 5\n",
        "\n",
        "Given an array of integers **arr**, the task is to find maximum element of that array using recursion.\n"
      ],
      "metadata": {
        "id": "tjkukazVgb6H"
      }
    },
    {
      "cell_type": "code",
      "source": [
        "def findMax(arr, n):\n",
        "    if n == 1:\n",
        "        return arr[0]\n",
        "    \n",
        "    max_val = findMax(arr, n - 1)\n",
        "    \n",
        "    if arr[n - 1] > max_val:\n",
        "        return arr[n - 1]\n",
        "    else:\n",
        "        return max_val\n"
      ],
      "metadata": {
        "id": "TpjaA_DpgfOW"
      },
      "execution_count": 24,
      "outputs": []
    },
    {
      "cell_type": "code",
      "source": [
        "arr1 = [1, 2, 3, -6, -4, 13, 5]\n",
        "print(findMax(arr1, len(arr1)))  \n",
        "\n",
        "arr2 = [1, 4, 32, 8, 12, -6]\n",
        "print(findMax(arr2, len(arr2)))  \n"
      ],
      "metadata": {
        "colab": {
          "base_uri": "https://localhost:8080/"
        },
        "id": "HbOE1TcmjhwL",
        "outputId": "1a0a8913-be40-4b14-86de-ba6f22d56c1d"
      },
      "execution_count": 25,
      "outputs": [
        {
          "output_type": "stream",
          "name": "stdout",
          "text": [
            "13\n",
            "32\n"
          ]
        }
      ]
    },
    {
      "cell_type": "markdown",
      "source": [
        "Question 6\n",
        "\n",
        "Given first term (a), common difference (d) and a integer N of the Arithmetic Progression series, the task is to find Nth term of the series.\n"
      ],
      "metadata": {
        "id": "DrHzKwoOgfa4"
      }
    },
    {
      "cell_type": "code",
      "source": [
        "def findNthTerm(a, d, N):\n",
        "    nth_term = a + (N - 1) * d\n",
        "    return nth_term\n"
      ],
      "metadata": {
        "id": "uxESXVSpgjKN"
      },
      "execution_count": 26,
      "outputs": []
    },
    {
      "cell_type": "code",
      "source": [
        "print(findNthTerm(3, 1, 4))   \n",
        "print(findNthTerm(6, 3, 9)) \n"
      ],
      "metadata": {
        "colab": {
          "base_uri": "https://localhost:8080/"
        },
        "id": "dDkmyOH5kAVz",
        "outputId": "2ce415b3-27a0-43e2-8679-2413343e86f1"
      },
      "execution_count": 27,
      "outputs": [
        {
          "output_type": "stream",
          "name": "stdout",
          "text": [
            "6\n",
            "30\n"
          ]
        }
      ]
    },
    {
      "cell_type": "markdown",
      "source": [
        "Question 7\n",
        "\n",
        "Given a string S, the task is to write a program to print all permutations of a given string.\n"
      ],
      "metadata": {
        "id": "PhDvtBWBgjcI"
      }
    },
    {
      "cell_type": "code",
      "source": [
        "def permutations(S, l, r):\n",
        "    if l == r:\n",
        "        print(\"\".join(S))\n",
        "    else:\n",
        "        for i in range(l, r + 1):\n",
        "            S[l], S[i] = S[i], S[l]\n",
        "            permutations(S, l + 1, r)\n",
        "            S[l], S[i] = S[i], S[l]  \n",
        "\n",
        "def printPermutations(string):\n",
        "    n = len(string)\n",
        "    S = list(string)\n",
        "    permutations(S, 0, n - 1)\n"
      ],
      "metadata": {
        "id": "tk_HgP9qgoIt"
      },
      "execution_count": 30,
      "outputs": []
    },
    {
      "cell_type": "code",
      "source": [
        "printPermutations(\"EYE\")\n",
        "print(\"___\")\n",
        "printPermutations(\"WE\")\n"
      ],
      "metadata": {
        "colab": {
          "base_uri": "https://localhost:8080/"
        },
        "id": "MMPtBbk3kOZH",
        "outputId": "0f7ec91e-fbdc-4d9a-fb8b-e6d11b739c85"
      },
      "execution_count": 33,
      "outputs": [
        {
          "output_type": "stream",
          "name": "stdout",
          "text": [
            "EYE\n",
            "EEY\n",
            "YEE\n",
            "YEE\n",
            "EYE\n",
            "EEY\n",
            "___\n",
            "WE\n",
            "EW\n"
          ]
        }
      ]
    },
    {
      "cell_type": "markdown",
      "source": [
        "*Question 8\n",
        "\n",
        "Given an array, find a product of all array elements.\n"
      ],
      "metadata": {
        "id": "WP60Ko96goWj"
      }
    },
    {
      "cell_type": "code",
      "source": [
        "def arrayproduct(arr):\n",
        "    product = 1\n",
        "    for num in arr:\n",
        "        product *= num\n",
        "    return product\n"
      ],
      "metadata": {
        "id": "3rJrgxi2gsaW"
      },
      "execution_count": 34,
      "outputs": []
    },
    {
      "cell_type": "code",
      "source": [
        "arr1 = [2, 4, 6, 8, 10]\n",
        "print(arrayproduct(arr1)) \n",
        "\n",
        "arr2 = [3, 6, 1]\n",
        "print(arrayproduct(arr2)) \n"
      ],
      "metadata": {
        "colab": {
          "base_uri": "https://localhost:8080/"
        },
        "id": "P9hrvAYqk9P5",
        "outputId": "e63be054-b38a-40b9-8ea3-e25b171380ff"
      },
      "execution_count": 37,
      "outputs": [
        {
          "output_type": "stream",
          "name": "stdout",
          "text": [
            "3840\n",
            "18\n"
          ]
        }
      ]
    }
  ]
}