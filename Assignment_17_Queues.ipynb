{
  "nbformat": 4,
  "nbformat_minor": 0,
  "metadata": {
    "colab": {
      "provenance": [],
      "include_colab_link": true
    },
    "kernelspec": {
      "name": "python3",
      "display_name": "Python 3"
    },
    "language_info": {
      "name": "python"
    }
  },
  "cells": [
    {
      "cell_type": "markdown",
      "metadata": {
        "id": "view-in-github",
        "colab_type": "text"
      },
      "source": [
        "<a href=\"https://colab.research.google.com/github/athulsunny/Pre_Placement_Training_Program/blob/main/Assignment_17_Queues.ipynb\" target=\"_parent\"><img src=\"https://colab.research.google.com/assets/colab-badge.svg\" alt=\"Open In Colab\"/></a>"
      ]
    },
    {
      "cell_type": "markdown",
      "source": [
        "Question 1"
      ],
      "metadata": {
        "id": "wPWJw_A6t2eE"
      }
    },
    {
      "cell_type": "code",
      "execution_count": 1,
      "metadata": {
        "colab": {
          "base_uri": "https://localhost:8080/"
        },
        "id": "zYKmD5Pyt08T",
        "outputId": "37e81f79-c8d5-4860-e63e-3344f1fbcd0f"
      },
      "outputs": [
        {
          "output_type": "stream",
          "name": "stdout",
          "text": [
            "Output: 0\n"
          ]
        }
      ],
      "source": [
        "def first_uniq_char(s):\n",
        "    char_count = {}\n",
        "\n",
        "    # Count the occurrences of each character\n",
        "    for char in s:\n",
        "        if char in char_count:\n",
        "            char_count[char] += 1\n",
        "        else:\n",
        "            char_count[char] = 1\n",
        "\n",
        "    # Find the index of the first non-repeating character\n",
        "    for i, char in enumerate(s):\n",
        "        if char_count[char] == 1:\n",
        "            return i\n",
        "\n",
        "    return -1\n",
        "\n",
        "\n",
        "s = \"leetcode\"\n",
        "result = first_uniq_char(s)\n",
        "print(\"Output:\", result)\n"
      ]
    },
    {
      "cell_type": "markdown",
      "source": [
        "Question 2"
      ],
      "metadata": {
        "id": "KisABzlNt_6n"
      }
    },
    {
      "cell_type": "code",
      "source": [
        "def kadane(nums):\n",
        "    max_sum = float('-inf')\n",
        "    curr_sum = 0\n",
        "\n",
        "    for num in nums:\n",
        "        curr_sum = max(num, curr_sum + num)\n",
        "        max_sum = max(max_sum, curr_sum)\n",
        "\n",
        "    return max_sum\n",
        "\n",
        "def max_subarray_sum(nums):\n",
        "    total_sum = sum(nums)\n",
        "    max_subarray_sum = kadane(nums)\n",
        "    min_subarray_sum = kadane([-num for num in nums])\n",
        "\n",
        "    if max_subarray_sum > 0:\n",
        "        return max(max_subarray_sum, total_sum + min_subarray_sum)\n",
        "    else:\n",
        "        return max_subarray_sum\n",
        "\n",
        "\n",
        "nums = [5, -3, 5]\n",
        "result = max_subarray_sum(nums)\n",
        "print(\"Output:\", result)\n"
      ],
      "metadata": {
        "colab": {
          "base_uri": "https://localhost:8080/"
        },
        "id": "OgNqQCSwuACc",
        "outputId": "36943554-4ef8-46ec-cf08-f81172bc35c7"
      },
      "execution_count": 2,
      "outputs": [
        {
          "output_type": "stream",
          "name": "stdout",
          "text": [
            "Output: 10\n"
          ]
        }
      ]
    },
    {
      "cell_type": "markdown",
      "source": [
        "Question 3"
      ],
      "metadata": {
        "id": "EAb1Ky7MuAIA"
      }
    },
    {
      "cell_type": "code",
      "source": [
        "from collections import deque\n",
        "\n",
        "def count_students(students, sandwiches):\n",
        "    student_queue = deque(students)\n",
        "    sandwich_stack = deque(sandwiches)\n",
        "\n",
        "    while student_queue:\n",
        "        if student_queue[0] == sandwich_stack[0]:\n",
        "            # If the student prefers the sandwich, they take it and leave the queue\n",
        "            student_queue.popleft()\n",
        "            sandwich_stack.popleft()\n",
        "        else:\n",
        "            # If the student doesn't prefer the sandwich, they go to the end of the queue\n",
        "            student_queue.append(student_queue.popleft())\n",
        "\n",
        "        # Check if all sandwiches have been consumed\n",
        "        if not sandwich_stack:\n",
        "            return 0\n",
        "\n",
        "        # Check if the queue is in a loop and no one can eat\n",
        "        if student_queue[0] == student_queue[-1]:\n",
        "            break\n",
        "\n",
        "    return len(student_queue)\n",
        "\n",
        "\n",
        "students = [1, 1, 0, 0]\n",
        "sandwiches = [0, 1, 0, 1]\n",
        "result = count_students(students, sandwiches)\n",
        "print(\"Output:\", result)\n"
      ],
      "metadata": {
        "colab": {
          "base_uri": "https://localhost:8080/"
        },
        "id": "mr67f2g_uANC",
        "outputId": "4c00428c-b8be-4282-9ae6-b891650fb27f"
      },
      "execution_count": 3,
      "outputs": [
        {
          "output_type": "stream",
          "name": "stdout",
          "text": [
            "Output: 4\n"
          ]
        }
      ]
    },
    {
      "cell_type": "markdown",
      "source": [
        "Question 4"
      ],
      "metadata": {
        "id": "LFa7cVsKuASW"
      }
    },
    {
      "cell_type": "code",
      "source": [
        "from collections import deque\n",
        "\n",
        "class RecentCounter:\n",
        "    def __init__(self):\n",
        "        self.requests = deque()\n",
        "\n",
        "    def ping(self, t: int) -> int:\n",
        "        # Add the current request to the queue\n",
        "        self.requests.append(t)\n",
        "\n",
        "        # Remove all requests that fall outside the time frame [t - 3000, t]\n",
        "        while self.requests and self.requests[0] < t - 3000:\n",
        "            self.requests.popleft()\n",
        "\n",
        "        # Return the number of requests remaining in the queue\n",
        "        return len(self.requests)\n",
        "\n",
        "\n",
        "recentCounter = RecentCounter()\n",
        "print(recentCounter.ping(1))\n",
        "print(recentCounter.ping(100))\n",
        "print(recentCounter.ping(3001))\n",
        "print(recentCounter.ping(3002))\n"
      ],
      "metadata": {
        "colab": {
          "base_uri": "https://localhost:8080/"
        },
        "id": "NeuVFwi2uAXG",
        "outputId": "22ca3f6f-33c7-40ff-afe0-8611d0399dbe"
      },
      "execution_count": 4,
      "outputs": [
        {
          "output_type": "stream",
          "name": "stdout",
          "text": [
            "1\n",
            "2\n",
            "3\n",
            "3\n"
          ]
        }
      ]
    },
    {
      "cell_type": "markdown",
      "source": [
        "Question 5"
      ],
      "metadata": {
        "id": "-BmXsPRTuAcz"
      }
    },
    {
      "cell_type": "code",
      "source": [
        "def findTheWinner(n: int, k: int) -> int:\n",
        "    friends = list(range(1, n + 1))\n",
        "    index = 0\n",
        "\n",
        "    while len(friends) > 1:\n",
        "        # Find the friend to be removed\n",
        "        index = (index + k - 1) % len(friends)\n",
        "        # Remove the friend from the list\n",
        "        friends.pop(index)\n",
        "\n",
        "    return friends[0]\n",
        "\n",
        "\n",
        "print(findTheWinner(5, 2))\n"
      ],
      "metadata": {
        "colab": {
          "base_uri": "https://localhost:8080/"
        },
        "id": "wCT0Iy-QuAiD",
        "outputId": "be69842c-8c01-4e0b-a416-11f1d6c45745"
      },
      "execution_count": 5,
      "outputs": [
        {
          "output_type": "stream",
          "name": "stdout",
          "text": [
            "3\n"
          ]
        }
      ]
    },
    {
      "cell_type": "markdown",
      "source": [
        "Question 6"
      ],
      "metadata": {
        "id": "28Ve4OLnuAm_"
      }
    },
    {
      "cell_type": "code",
      "source": [
        "from collections import deque\n",
        "import heapq\n",
        "\n",
        "def deckRevealedIncreasing(deck):\n",
        "\n",
        "    deck.sort()\n",
        "\n",
        "\n",
        "    indices = deque(range(len(deck)))\n",
        "\n",
        "\n",
        "    revealed = []\n",
        "\n",
        "\n",
        "    while indices:\n",
        "\n",
        "        revealed.append(indices.popleft())\n",
        "\n",
        "        if indices:\n",
        "\n",
        "            indices.append(indices.popleft())\n",
        "\n",
        "\n",
        "    ordered_deck = [0] * len(deck)\n",
        "    for i, card in enumerate(deck):\n",
        "        ordered_deck[revealed[i]] = card\n",
        "\n",
        "    return ordered_deck\n",
        "\n",
        "\n",
        "deck = [17, 13, 11, 2, 3, 5, 7]\n",
        "print(deckRevealedIncreasing(deck))\n"
      ],
      "metadata": {
        "colab": {
          "base_uri": "https://localhost:8080/"
        },
        "id": "Ynr-S_56uAsE",
        "outputId": "34d19787-3d04-443a-fab8-197d9092e8cd"
      },
      "execution_count": 6,
      "outputs": [
        {
          "output_type": "stream",
          "name": "stdout",
          "text": [
            "[2, 13, 3, 11, 5, 17, 7]\n"
          ]
        }
      ]
    },
    {
      "cell_type": "markdown",
      "source": [
        "Question 7"
      ],
      "metadata": {
        "id": "TwRc0w30uAwl"
      }
    },
    {
      "cell_type": "code",
      "source": [
        "from collections import deque\n",
        "\n",
        "class FrontMiddleBackQueue:\n",
        "    def __init__(self):\n",
        "        self.front = deque()\n",
        "        self.back = deque()\n",
        "        self.middle = None\n",
        "        self.middle_index = 0\n",
        "\n",
        "    def pushFront(self, val):\n",
        "        self.front.appendleft(val)\n",
        "        self._adjustMiddleIndex()\n",
        "\n",
        "    def pushMiddle(self, val):\n",
        "        if self.middle_index <= len(self.front):\n",
        "            self.front.append(self.middle)\n",
        "            self.front.appendleft(val)\n",
        "        else:\n",
        "            self.back.appendleft(self.middle)\n",
        "            self.back.append(val)\n",
        "        self._adjustMiddleIndex()\n",
        "\n",
        "    def pushBack(self, val):\n",
        "        self.back.append(val)\n",
        "        self._adjustMiddleIndex()\n",
        "\n",
        "    def popFront(self):\n",
        "        if self.front:\n",
        "            val = self.front.popleft()\n",
        "            self._adjustMiddleIndex()\n",
        "            return val\n",
        "        elif self.back:\n",
        "            val = self.back.popleft()\n",
        "            self._adjustMiddleIndex()\n",
        "            return val\n",
        "        else:\n",
        "            return -1\n",
        "\n",
        "    def popMiddle(self):\n",
        "        if self.middle is None:\n",
        "            return -1\n",
        "\n",
        "        if self.middle_index <= len(self.front):\n",
        "            val = self.front.pop()\n",
        "            self._adjustMiddleIndex()\n",
        "            return val\n",
        "        else:\n",
        "            val = self.back.popleft()\n",
        "            self._adjustMiddleIndex()\n",
        "            return val\n",
        "\n",
        "    def popBack(self):\n",
        "        if self.back:\n",
        "            val = self.back.pop()\n",
        "            self._adjustMiddleIndex()\n",
        "            return val\n",
        "        elif self.front:\n",
        "            val = self.front.pop()\n",
        "            self._adjustMiddleIndex()\n",
        "            return val\n",
        "        else:\n",
        "            return -1\n",
        "\n",
        "    def _adjustMiddleIndex(self):\n",
        "        total_length = len(self.front) + len(self.back)\n",
        "        if total_length == 0:\n",
        "            self.middle = None\n",
        "            self.middle_index = 0\n",
        "        elif total_length % 2 == 0:\n",
        "            if len(self.front) > len(self.back):\n",
        "                self.middle = self.front[-1]\n",
        "                self.middle_index = len(self.front)\n",
        "            else:\n",
        "                self.middle = self.back[0]\n",
        "                self.middle_index = len(self.front) + 1\n",
        "        else:\n",
        "            self.middle = self.front[-1] if len(self.front) > len(self.back) else self.back[0]\n",
        "            self.middle_index = len(self.front) + 1\n"
      ],
      "metadata": {
        "id": "W3FQYpLeuA1Q"
      },
      "execution_count": 7,
      "outputs": []
    },
    {
      "cell_type": "code",
      "source": [
        "q = FrontMiddleBackQueue()\n",
        "print(q.popFront())\n",
        "q.pushFront(1)\n",
        "q.pushBack(2)\n",
        "q.pushMiddle(3)\n",
        "q.pushMiddle(4)\n",
        "print(q.popFront())\n",
        "print(q.popMiddle())\n",
        "print(q.popMiddle())\n",
        "print(q.popBack())\n",
        "print(q.popFront())\n"
      ],
      "metadata": {
        "colab": {
          "base_uri": "https://localhost:8080/"
        },
        "id": "XqKYgzBKvHVW",
        "outputId": "77a84630-0848-4b12-a169-8e7541efc0a0"
      },
      "execution_count": 8,
      "outputs": [
        {
          "output_type": "stream",
          "name": "stdout",
          "text": [
            "-1\n",
            "1\n",
            "2\n",
            "2\n",
            "4\n",
            "2\n"
          ]
        }
      ]
    },
    {
      "cell_type": "markdown",
      "source": [
        "Question 8"
      ],
      "metadata": {
        "id": "1QI5h-3OuA5r"
      }
    },
    {
      "cell_type": "code",
      "source": [
        "class DataStream:\n",
        "    def __init__(self, value, k):\n",
        "        self.value = value\n",
        "        self.k = k\n",
        "        self.buffer = [None] * k\n",
        "        self.count = 0\n",
        "        self.idx = 0\n",
        "\n",
        "    def consec(self, num):\n",
        "        self.buffer[self.idx] = num\n",
        "        self.idx = (self.idx + 1) % self.k\n",
        "        self.count = min(self.count + 1, self.k)\n",
        "\n",
        "        if self.count < self.k:\n",
        "            return False\n",
        "\n",
        "        for i in range(self.count):\n",
        "            if self.buffer[i] != self.value:\n",
        "                return False\n",
        "\n",
        "        return True\n"
      ],
      "metadata": {
        "id": "QgShOIwguA-Z"
      },
      "execution_count": 9,
      "outputs": []
    },
    {
      "cell_type": "code",
      "source": [
        "dataStream = DataStream(4, 3)\n",
        "print(dataStream.consec(4))\n",
        "print(dataStream.consec(4))\n",
        "print(dataStream.consec(4))\n",
        "print(dataStream.consec(3))\n"
      ],
      "metadata": {
        "colab": {
          "base_uri": "https://localhost:8080/"
        },
        "id": "x7nG5YP0uBHT",
        "outputId": "41f36d88-1f35-49e8-949d-ae2cba552760"
      },
      "execution_count": 10,
      "outputs": [
        {
          "output_type": "stream",
          "name": "stdout",
          "text": [
            "False\n",
            "False\n",
            "True\n",
            "False\n"
          ]
        }
      ]
    },
    {
      "cell_type": "markdown",
      "source": [],
      "metadata": {
        "id": "utsI4dJEuBCz"
      }
    }
  ]
}