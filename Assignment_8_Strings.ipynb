{
  "nbformat": 4,
  "nbformat_minor": 0,
  "metadata": {
    "colab": {
      "provenance": [],
      "include_colab_link": true
    },
    "kernelspec": {
      "name": "python3",
      "display_name": "Python 3"
    },
    "language_info": {
      "name": "python"
    }
  },
  "cells": [
    {
      "cell_type": "markdown",
      "metadata": {
        "id": "view-in-github",
        "colab_type": "text"
      },
      "source": [
        "<a href=\"https://colab.research.google.com/github/athulsunny/Pre_Placement_Training_Program/blob/main/Assignment_8_Strings.ipynb\" target=\"_parent\"><img src=\"https://colab.research.google.com/assets/colab-badge.svg\" alt=\"Open In Colab\"/></a>"
      ]
    },
    {
      "cell_type": "markdown",
      "source": [
        "Question 1"
      ],
      "metadata": {
        "id": "tcEsu3lFJJGf"
      }
    },
    {
      "cell_type": "code",
      "execution_count": null,
      "metadata": {
        "colab": {
          "base_uri": "https://localhost:8080/"
        },
        "id": "wWh7MWKIJGcZ",
        "outputId": "8b8c9fb2-b5d8-4140-c7a4-944177635ddc"
      },
      "outputs": [
        {
          "output_type": "stream",
          "name": "stdout",
          "text": [
            "231\n"
          ]
        }
      ],
      "source": [
        "def minimumDeleteSum(s1, s2):\n",
        "    m, n = len(s1), len(s2)\n",
        "    \n",
        "    # Create a 2D table to store the minimum ASCII sum\n",
        "    dp = [[0] * (n+1) for _ in range(m+1)]\n",
        "    \n",
        "    # Calculate the minimum ASCII sum\n",
        "    for i in range(1, m+1):\n",
        "        dp[i][0] = dp[i-1][0] + ord(s1[i-1])\n",
        "    for j in range(1, n+1):\n",
        "        dp[0][j] = dp[0][j-1] + ord(s2[j-1])\n",
        "        \n",
        "    for i in range(1, m+1):\n",
        "        for j in range(1, n+1):\n",
        "            if s1[i-1] == s2[j-1]:\n",
        "                dp[i][j] = dp[i-1][j-1]\n",
        "            else:\n",
        "                dp[i][j] = min(dp[i-1][j] + ord(s1[i-1]), dp[i][j-1] + ord(s2[j-1]))\n",
        "    \n",
        "    return dp[m][n]\n",
        "\n",
        "# Example usage\n",
        "s1 = \"sea\"\n",
        "s2 = \"eat\"\n",
        "result = minimumDeleteSum(s1, s2)\n",
        "print(result)\n",
        "\n"
      ]
    },
    {
      "cell_type": "markdown",
      "source": [
        "Question 2"
      ],
      "metadata": {
        "id": "ctuTJRN1JMbK"
      }
    },
    {
      "cell_type": "code",
      "source": [
        "def checkValidString(s):\n",
        "    stack = []\n",
        "    asterisks = []\n",
        "    \n",
        "    for i, char in enumerate(s):\n",
        "        if char == '(':\n",
        "            stack.append(i)\n",
        "        elif char == '*':\n",
        "            asterisks.append(i)\n",
        "        else:  # char == ')'\n",
        "            if stack:\n",
        "                stack.pop()\n",
        "            elif asterisks:\n",
        "                asterisks.pop()\n",
        "            else:\n",
        "                return False\n",
        "    \n",
        "    while stack and asterisks:\n",
        "        if stack[-1] > asterisks[-1]:\n",
        "            return False\n",
        "        stack.pop()\n",
        "        asterisks.pop()\n",
        "    \n",
        "    return len(stack) == 0\n",
        "\n",
        "# Example usage\n",
        "s = \"((*)\"\n",
        "result = checkValidString(s)\n",
        "print(result)\n"
      ],
      "metadata": {
        "colab": {
          "base_uri": "https://localhost:8080/"
        },
        "id": "xU-NV7nTJMsr",
        "outputId": "735aec95-a091-4e4d-f43a-ec542c133ec8"
      },
      "execution_count": null,
      "outputs": [
        {
          "output_type": "stream",
          "name": "stdout",
          "text": [
            "True\n"
          ]
        }
      ]
    },
    {
      "cell_type": "markdown",
      "source": [
        "Question 3"
      ],
      "metadata": {
        "id": "yuB-5Km3JMxu"
      }
    },
    {
      "cell_type": "code",
      "source": [
        "def minDistance(word1, word2):\n",
        "    m, n = len(word1), len(word2)\n",
        "    \n",
        "    # Create a 2D table to store the lengths of LCS\n",
        "    dp = [[0] * (n+1) for _ in range(m+1)]\n",
        "    \n",
        "    # Calculate the lengths of LCS\n",
        "    for i in range(1, m+1):\n",
        "        for j in range(1, n+1):\n",
        "            if word1[i-1] == word2[j-1]:\n",
        "                dp[i][j] = dp[i-1][j-1] + 1\n",
        "            else:\n",
        "                dp[i][j] = max(dp[i-1][j], dp[i][j-1])\n",
        "    \n",
        "    # Calculate the minimum number of steps\n",
        "    lcs_length = dp[m][n]\n",
        "    steps = m + n - 2 * lcs_length\n",
        "    \n",
        "    return steps\n",
        "\n",
        "# Example usage\n",
        "word1 = \"sea\"\n",
        "word2 = \"eat\"\n",
        "result = minDistance(word1, word2)\n",
        "print(result)\n"
      ],
      "metadata": {
        "colab": {
          "base_uri": "https://localhost:8080/"
        },
        "id": "fysCgJEsJM2q",
        "outputId": "361c58f7-2b0d-4793-811a-db9436fd9c18"
      },
      "execution_count": null,
      "outputs": [
        {
          "output_type": "stream",
          "name": "stdout",
          "text": [
            "2\n"
          ]
        }
      ]
    },
    {
      "cell_type": "markdown",
      "source": [
        "Question 4"
      ],
      "metadata": {
        "id": "sj_CgzEWJM8k"
      }
    },
    {
      "cell_type": "code",
      "source": [
        "class TreeNode:\n",
        "    def __init__(self, val=0, left=None, right=None):\n",
        "        self.val = val\n",
        "        self.left = left\n",
        "        self.right = right\n",
        "\n",
        "def str2tree(s):\n",
        "    def helper(s, start, end):\n",
        "        if start > end:\n",
        "            return None\n",
        "\n",
        "        # Find the root value\n",
        "        val_end = start\n",
        "        while val_end <= end and s[val_end] not in {'(', ')'}:\n",
        "            val_end += 1\n",
        "        root_val = int(s[start:val_end])\n",
        "\n",
        "        # Create the root node\n",
        "        root = TreeNode(root_val)\n",
        "\n",
        "        # Find the left and right subtree boundaries\n",
        "        left_start = val_end\n",
        "        left_end = left_start\n",
        "        count = 0\n",
        "        while left_end <= end:\n",
        "            if s[left_end] == '(':\n",
        "                count += 1\n",
        "            elif s[left_end] == ')':\n",
        "                count -= 1\n",
        "            if count == 0:\n",
        "                break\n",
        "            left_end += 1\n",
        "\n",
        "        # Recursively construct the left and right subtrees\n",
        "        root.left = helper(s, left_start+1, left_end-1)\n",
        "        root.right = helper(s, left_end+2, end-1)\n",
        "\n",
        "        return root\n",
        "\n",
        "    if not s:\n",
        "        return None\n",
        "\n",
        "    return helper(s, 0, len(s)-1)\n",
        "\n",
        "# Example usage\n",
        "s = \"4(2(3)(1))(6(5))\"\n",
        "result = str2tree(s)\n",
        "def printTree(root):\n",
        "    if root is None:\n",
        "        return\n",
        "\n",
        "    print(root.val, end=\" \")\n",
        "    printTree(root.left)\n",
        "    printTree(root.right)\n",
        "\n",
        "# Example usage\n",
        "s = \"4(2(3)(1))(6(5))\"\n",
        "result = str2tree(s)\n",
        "printTree(result)\n"
      ],
      "metadata": {
        "colab": {
          "base_uri": "https://localhost:8080/"
        },
        "id": "mK3WtlrbJNBX",
        "outputId": "b03edf81-8263-4b68-e674-58a14d0e0aa3"
      },
      "execution_count": null,
      "outputs": [
        {
          "output_type": "stream",
          "name": "stdout",
          "text": [
            "4 2 3 1 6 5 "
          ]
        }
      ]
    },
    {
      "cell_type": "markdown",
      "source": [
        "Question 5"
      ],
      "metadata": {
        "id": "1c8IJYHnJNGO"
      }
    },
    {
      "cell_type": "code",
      "source": [
        "def compress(chars):\n",
        "    read = 0  # Pointer for reading characters\n",
        "    write = 0  # Pointer for writing compressed characters\n",
        "    count = 0  # Count of consecutive repeating characters\n",
        "    \n",
        "    # Iterate through the array\n",
        "    while read < len(chars):\n",
        "        # Check if the current character is the same as the previous one\n",
        "        if read > 0 and chars[read] != chars[read - 1]:\n",
        "            # Write the compressed character to the array\n",
        "            chars[write] = chars[read - 1]\n",
        "            write += 1\n",
        "            \n",
        "            # Write the count if it is greater than 1\n",
        "            if count > 1:\n",
        "                count_str = str(count)\n",
        "                for digit in count_str:\n",
        "                    chars[write] = digit\n",
        "                    write += 1\n",
        "            \n",
        "            # Reset the count for the new group of repeating characters\n",
        "            count = 0\n",
        "        \n",
        "        # Increment the count and move the read pointer\n",
        "        count += 1\n",
        "        read += 1\n",
        "    \n",
        "    # Write the last compressed character to the array\n",
        "    chars[write] = chars[read - 1]\n",
        "    write += 1\n",
        "    \n",
        "    # Write the count if it is greater than 1\n",
        "    if count > 1:\n",
        "        count_str = str(count)\n",
        "        for digit in count_str:\n",
        "            chars[write] = digit\n",
        "            write += 1\n",
        "    \n",
        "    # Return the new length of the array\n",
        "    return write\n",
        "\n",
        "# Example usage\n",
        "chars = ['a', 'a', 'b', 'b', 'c', 'c', 'c']\n",
        "result = compress(chars)\n",
        "print(result)  # Output: 6\n",
        "print(chars[:result])  # Output: ['a', '2', 'b', '2', 'c', '3']\n"
      ],
      "metadata": {
        "colab": {
          "base_uri": "https://localhost:8080/"
        },
        "id": "d0irQ9iCJNLS",
        "outputId": "963820d2-12c6-4a16-9f26-a82041f77e5c"
      },
      "execution_count": null,
      "outputs": [
        {
          "output_type": "stream",
          "name": "stdout",
          "text": [
            "6\n",
            "['a', '2', 'b', '2', 'c', '3']\n"
          ]
        }
      ]
    },
    {
      "cell_type": "markdown",
      "source": [
        "Question 6"
      ],
      "metadata": {
        "id": "4-4FCIcTJNQK"
      }
    },
    {
      "cell_type": "code",
      "source": [
        "from collections import Counter\n",
        "\n",
        "def findAnagrams(s, p):\n",
        "    result = []\n",
        "    p_freq = Counter(p)  # Frequency map of characters in p\n",
        "    window_freq = Counter(s[:len(p)])  # Frequency map of characters in the initial window\n",
        "    \n",
        "    # Check if the initial window is an anagram of p\n",
        "    if p_freq == window_freq:\n",
        "        result.append(0)\n",
        "    \n",
        "    # Slide the window and compare frequencies\n",
        "    for i in range(1, len(s) - len(p) + 1):\n",
        "        # Remove the character at the left end of the window\n",
        "        if window_freq[s[i - 1]] == 1:\n",
        "            del window_freq[s[i - 1]]\n",
        "        else:\n",
        "            window_freq[s[i - 1]] -= 1\n",
        "        \n",
        "        # Add the character at the right end of the window\n",
        "        window_freq[s[i + len(p) - 1]] += 1\n",
        "        \n",
        "        # Check if the window is an anagram of p\n",
        "        if p_freq == window_freq:\n",
        "            result.append(i)\n",
        "    \n",
        "    return result\n",
        "\n",
        "# Example usage\n",
        "s = \"cbaebabacd\"\n",
        "p = \"abc\"\n",
        "result = findAnagrams(s, p)\n",
        "print(result)  # Output: [0, 6]\n"
      ],
      "metadata": {
        "colab": {
          "base_uri": "https://localhost:8080/"
        },
        "id": "Flqr2jJ5JNU3",
        "outputId": "ad493e9d-39c6-4886-d02a-0f694ba43793"
      },
      "execution_count": null,
      "outputs": [
        {
          "output_type": "stream",
          "name": "stdout",
          "text": [
            "[0, 6]\n"
          ]
        }
      ]
    },
    {
      "cell_type": "markdown",
      "source": [
        "Question 7"
      ],
      "metadata": {
        "id": "u28WUmLJJNZM"
      }
    },
    {
      "cell_type": "code",
      "source": [
        "def decodeString(s):\n",
        "    stack = []\n",
        "    curr_str = ''\n",
        "\n",
        "    for char in s:\n",
        "        if char == ']':\n",
        "            decoded_str = ''\n",
        "            repeat_times = 0\n",
        "\n",
        "            while stack[-1] != '[':\n",
        "                decoded_str = stack.pop() + decoded_str\n",
        "\n",
        "            stack.pop()  # Remove '[' from the stack\n",
        "\n",
        "            while stack and stack[-1].isdigit():\n",
        "                repeat_times = int(stack.pop() + str(repeat_times))\n",
        "\n",
        "            decoded_str *= repeat_times\n",
        "            stack.append(decoded_str)\n",
        "\n",
        "        else:\n",
        "            stack.append(char)\n",
        "\n",
        "    return ''.join(stack)\n",
        "\n",
        "# Example usage\n",
        "encoded_str = \"3[a2[c]]\"\n",
        "decoded_str = decodeString(encoded_str)\n",
        "print(decoded_str)  # Output: \"accaccacc\"\n"
      ],
      "metadata": {
        "colab": {
          "base_uri": "https://localhost:8080/"
        },
        "id": "iS69pwtIJNd0",
        "outputId": "e1ff9f42-6f83-4535-ee1b-758ac487fc53"
      },
      "execution_count": 1,
      "outputs": [
        {
          "output_type": "stream",
          "name": "stdout",
          "text": [
            "accccccccccccccccccccaccccccccccccccccccccaccccccccccccccccccccaccccccccccccccccccccaccccccccccccccccccccaccccccccccccccccccccaccccccccccccccccccccaccccccccccccccccccccaccccccccccccccccccccaccccccccccccccccccccaccccccccccccccccccccaccccccccccccccccccccaccccccccccccccccccccaccccccccccccccccccccaccccccccccccccccccccaccccccccccccccccccccaccccccccccccccccccccaccccccccccccccccccccaccccccccccccccccccccaccccccccccccccccccccaccccccccccccccccccccaccccccccccccccccccccaccccccccccccccccccccaccccccccccccccccccccaccccccccccccccccccccaccccccccccccccccccccaccccccccccccccccccccaccccccccccccccccccccaccccccccccccccccccccacccccccccccccccccccc\n"
          ]
        }
      ]
    },
    {
      "cell_type": "markdown",
      "source": [
        "Question 8"
      ],
      "metadata": {
        "id": "hig79hsBJNkf"
      }
    },
    {
      "cell_type": "code",
      "source": [
        "def canBeEqual(s, goal):\n",
        "    diff = []\n",
        "    positions = []\n",
        "\n",
        "    for i, (char_s, char_goal) in enumerate(zip(s, goal)):\n",
        "        if char_s != char_goal:\n",
        "            diff.append((char_s, char_goal))\n",
        "            positions.append(i)\n",
        "\n",
        "    if len(diff) == 0:\n",
        "        return True\n",
        "    elif len(diff) == 2:\n",
        "        char_s1, char_goal1 = diff[0]\n",
        "        char_s2, char_goal2 = diff[1]\n",
        "        if char_s1 == char_goal2 and char_s2 == char_goal1:\n",
        "            return True\n",
        "\n",
        "    return False\n",
        "\n",
        "# Example usage\n",
        "s = \"abcd\"\n",
        "goal = \"cbad\"\n",
        "result = canBeEqual(s, goal)\n",
        "print(result)  # Output: True\n"
      ],
      "metadata": {
        "colab": {
          "base_uri": "https://localhost:8080/"
        },
        "id": "fNrEJtSbJNpv",
        "outputId": "ac35b2dc-36cb-4169-a3b1-a78e598b7f94"
      },
      "execution_count": null,
      "outputs": [
        {
          "output_type": "stream",
          "name": "stdout",
          "text": [
            "True\n"
          ]
        }
      ]
    }
  ]
}