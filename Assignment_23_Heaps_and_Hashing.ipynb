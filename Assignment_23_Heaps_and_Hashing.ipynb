{
  "nbformat": 4,
  "nbformat_minor": 0,
  "metadata": {
    "colab": {
      "provenance": [],
      "include_colab_link": true
    },
    "kernelspec": {
      "name": "python3",
      "display_name": "Python 3"
    },
    "language_info": {
      "name": "python"
    }
  },
  "cells": [
    {
      "cell_type": "markdown",
      "metadata": {
        "id": "view-in-github",
        "colab_type": "text"
      },
      "source": [
        "<a href=\"https://colab.research.google.com/github/athulsunny/Pre_Placement_Training_Program/blob/main/Assignment_23_Heaps_and_Hashing.ipynb\" target=\"_parent\"><img src=\"https://colab.research.google.com/assets/colab-badge.svg\" alt=\"Open In Colab\"/></a>"
      ]
    },
    {
      "cell_type": "markdown",
      "source": [
        "Question 1"
      ],
      "metadata": {
        "id": "YpisgXPnL1Jo"
      }
    },
    {
      "cell_type": "code",
      "source": [
        "def calculate_depth(preorder):\n",
        "    count = 0\n",
        "    depth = 0\n",
        "\n",
        "    for char in preorder:\n",
        "        if char == 'n':\n",
        "            count += 1\n",
        "        elif char == 'l':\n",
        "            count -= 1\n",
        "\n",
        "        # Check if the count becomes zero (indicating a complete level)\n",
        "        if count == 0:\n",
        "            depth += 1\n",
        "\n",
        "    return depth\n",
        "\n",
        "\n",
        "# Example usage:\n",
        "preorder = 'nlnll'\n",
        "depth = calculate_depth(preorder)\n",
        "print(\"Depth of the binary tree:\", depth)\n"
      ],
      "metadata": {
        "id": "0YTlXJ0iL2vd",
        "colab": {
          "base_uri": "https://localhost:8080/"
        },
        "outputId": "f0ea3873-a2e8-4039-b547-293ffd1c89a9"
      },
      "execution_count": 1,
      "outputs": [
        {
          "output_type": "stream",
          "name": "stdout",
          "text": [
            "Depth of the binary tree: 2\n"
          ]
        }
      ]
    },
    {
      "cell_type": "markdown",
      "source": [
        "Question 2"
      ],
      "metadata": {
        "id": "OpP66UQnMBCe"
      }
    },
    {
      "cell_type": "code",
      "source": [
        "class TreeNode:\n",
        "    def __init__(self, value):\n",
        "        self.val = value\n",
        "        self.left = None\n",
        "        self.right = None\n",
        "\n",
        "\n",
        "def print_left_view(root):\n",
        "    if root is None:\n",
        "        return\n",
        "\n",
        "    queue = [root]\n",
        "\n",
        "    while queue:\n",
        "\n",
        "        level_size = len(queue)\n",
        "\n",
        "        print(queue[0].val, end=' ')\n",
        "\n",
        "        for _ in range(level_size):\n",
        "            node = queue.pop(0)\n",
        "\n",
        "\n",
        "            if node.left:\n",
        "                queue.append(node.left)\n",
        "\n",
        "            if node.right:\n",
        "                queue.append(node.right)\n",
        "\n",
        "\n",
        "root = TreeNode(4)\n",
        "root.left = TreeNode(5)\n",
        "root.right = TreeNode(2)\n",
        "root.right.left = TreeNode(3)\n",
        "root.right.right = TreeNode(1)\n",
        "root.right.left.left = TreeNode(6)\n",
        "root.right.left.right = TreeNode(7)\n",
        "\n",
        "print(\"Left view of the binary tree:\")\n",
        "print_left_view(root)\n"
      ],
      "metadata": {
        "id": "1xNRtq-SMC1z",
        "colab": {
          "base_uri": "https://localhost:8080/"
        },
        "outputId": "f72cd271-4e47-4a9f-a4cf-6a4574806eb9"
      },
      "execution_count": 2,
      "outputs": [
        {
          "output_type": "stream",
          "name": "stdout",
          "text": [
            "Left view of the binary tree:\n",
            "4 5 3 6 "
          ]
        }
      ]
    },
    {
      "cell_type": "markdown",
      "source": [
        "Question 3"
      ],
      "metadata": {
        "id": "ByY4IjU7MDDV"
      }
    },
    {
      "cell_type": "code",
      "source": [
        "class TreeNode:\n",
        "    def __init__(self, value):\n",
        "        self.val = value\n",
        "        self.left = None\n",
        "        self.right = None\n",
        "\n",
        "\n",
        "def print_right_view(root):\n",
        "    if root is None:\n",
        "        return\n",
        "\n",
        "\n",
        "    def dfs(node, level, max_level):\n",
        "        nonlocal result\n",
        "        if node is None:\n",
        "            return\n",
        "\n",
        "        if level > max_level[0]:\n",
        "            result.append(node.val)\n",
        "            max_level[0] = level\n",
        "\n",
        "        dfs(node.right, level + 1, max_level)\n",
        "        dfs(node.left, level + 1, max_level)\n",
        "\n",
        "    result = []\n",
        "    max_level = [0]\n",
        "\n",
        "\n",
        "    dfs(root, 1, max_level)\n",
        "\n",
        "    print(\"Right view of the binary tree:\")\n",
        "    print(*result)\n",
        "\n",
        "\n",
        "\n",
        "root = TreeNode(1)\n",
        "root.left = TreeNode(2)\n",
        "root.right = TreeNode(3)\n",
        "root.left.left = TreeNode(4)\n",
        "root.left.right = TreeNode(5)\n",
        "root.right.left = TreeNode(6)\n",
        "root.right.right = TreeNode(7)\n",
        "root.right.left.right = TreeNode(8)\n",
        "\n",
        "print_right_view(root)\n"
      ],
      "metadata": {
        "id": "C1DfUACnMEdd",
        "colab": {
          "base_uri": "https://localhost:8080/"
        },
        "outputId": "11b54642-5541-41dc-8629-9ef1f180c5e3"
      },
      "execution_count": 3,
      "outputs": [
        {
          "output_type": "stream",
          "name": "stdout",
          "text": [
            "Right view of the binary tree:\n",
            "1 3 7 8\n"
          ]
        }
      ]
    },
    {
      "cell_type": "markdown",
      "source": [
        "Question 4"
      ],
      "metadata": {
        "id": "SDsqxVZlMEo3"
      }
    },
    {
      "cell_type": "code",
      "source": [
        "from collections import deque\n",
        "\n",
        "\n",
        "class TreeNode:\n",
        "    def __init__(self, value):\n",
        "        self.val = value\n",
        "        self.left = None\n",
        "        self.right = None\n",
        "\n",
        "\n",
        "def print_bottom_view(root):\n",
        "    if root is None:\n",
        "        return\n",
        "\n",
        "\n",
        "    bottom_view_dict = {}\n",
        "\n",
        "    queue = deque([(root, 0)])\n",
        "\n",
        "    while queue:\n",
        "        node, horizontal_distance = queue.popleft()\n",
        "\n",
        "\n",
        "        bottom_view_dict[horizontal_distance] = node.val\n",
        "\n",
        "\n",
        "        if node.left:\n",
        "            queue.append((node.left, horizontal_distance - 1))\n",
        "\n",
        "        if node.right:\n",
        "            queue.append((node.right, horizontal_distance + 1))\n",
        "\n",
        "\n",
        "    print(\"Bottom view of the binary tree:\")\n",
        "    for value in sorted(bottom_view_dict.keys()):\n",
        "        print(bottom_view_dict[value], end=' ')\n",
        "\n",
        "\n",
        "root = TreeNode(20)\n",
        "root.left = TreeNode(8)\n",
        "root.right = TreeNode(22)\n",
        "root.left.left = TreeNode(5)\n",
        "root.left.right = TreeNode(3)\n",
        "root.right.right = TreeNode(25)\n",
        "root.left.right.left = TreeNode(10)\n",
        "root.left.right.right = TreeNode(14)\n",
        "\n",
        "print_bottom_view(root)\n"
      ],
      "metadata": {
        "id": "1Ltbp19SMGuG",
        "colab": {
          "base_uri": "https://localhost:8080/"
        },
        "outputId": "3d9f7090-8ae2-4bdf-835c-5384be88fb81"
      },
      "execution_count": 4,
      "outputs": [
        {
          "output_type": "stream",
          "name": "stdout",
          "text": [
            "Bottom view of the binary tree:\n",
            "5 10 3 14 25 "
          ]
        }
      ]
    }
  ]
}