{
  "nbformat": 4,
  "nbformat_minor": 0,
  "metadata": {
    "colab": {
      "provenance": [],
      "include_colab_link": true
    },
    "kernelspec": {
      "name": "python3",
      "display_name": "Python 3"
    },
    "language_info": {
      "name": "python"
    }
  },
  "cells": [
    {
      "cell_type": "markdown",
      "metadata": {
        "id": "view-in-github",
        "colab_type": "text"
      },
      "source": [
        "<a href=\"https://colab.research.google.com/github/athulsunny/Pre_Placement_Training_Program/blob/main/Assignment_19_Searching_and_Sorting.ipynb\" target=\"_parent\"><img src=\"https://colab.research.google.com/assets/colab-badge.svg\" alt=\"Open In Colab\"/></a>"
      ]
    },
    {
      "cell_type": "markdown",
      "source": [
        "Question 1"
      ],
      "metadata": {
        "id": "Z0wh-vxNpkPw"
      }
    },
    {
      "cell_type": "code",
      "execution_count": 1,
      "metadata": {
        "id": "pg-3CD02pULV"
      },
      "outputs": [],
      "source": [
        "import heapq\n",
        "\n",
        "class ListNode:\n",
        "    def __init__(self, val=0, next=None):\n",
        "        self.val = val\n",
        "        self.next = next\n",
        "\n",
        "def mergeKLists(lists):\n",
        "    # Create a min-heap\n",
        "    heap = []\n",
        "\n",
        "    # Push the first node of each linked list into the min-heap\n",
        "    for i, head in enumerate(lists):\n",
        "        if head:\n",
        "            heapq.heappush(heap, (head.val, i))\n",
        "\n",
        "    # Create a dummy node as the result linked list\n",
        "    dummy = ListNode(0)\n",
        "    curr = dummy\n",
        "\n",
        "    # Merge the lists by popping the minimum value node from the min-heap\n",
        "    while heap:\n",
        "        val, i = heapq.heappop(heap)\n",
        "        node = lists[i]\n",
        "        curr.next = ListNode(val)\n",
        "        curr = curr.next\n",
        "\n",
        "        # Move to the next node in the list\n",
        "        if node.next:\n",
        "            lists[i] = node.next\n",
        "            heapq.heappush(heap, (node.next.val, i))\n",
        "\n",
        "    return dummy.next\n"
      ]
    },
    {
      "cell_type": "markdown",
      "source": [
        "Question 2"
      ],
      "metadata": {
        "id": "hsMIN5I-plqQ"
      }
    },
    {
      "cell_type": "code",
      "source": [
        "class TreeNode:\n",
        "    def __init__(self, val):\n",
        "        self.val = val\n",
        "        self.left = None\n",
        "        self.right = None\n",
        "        self.count = 1\n",
        "        self.left_count = 0\n",
        "\n",
        "def insert(node, val, smaller_count, index, result):\n",
        "    if node.val == val:\n",
        "        node.count += 1\n",
        "        result[index] = smaller_count + node.left_count\n",
        "    elif val < node.val:\n",
        "        node.left_count += 1\n",
        "        if node.left is None:\n",
        "            node.left = TreeNode(val)\n",
        "            result[index] = smaller_count\n",
        "        else:\n",
        "            insert(node.left, val, smaller_count, index, result)\n",
        "    else:\n",
        "        smaller_count += node.count + node.left_count\n",
        "        if node.right is None:\n",
        "            node.right = TreeNode(val)\n",
        "            result[index] = smaller_count\n",
        "        else:\n",
        "            insert(node.right, val, smaller_count, index, result)\n",
        "\n",
        "def countSmaller(nums):\n",
        "    n = len(nums)\n",
        "    if n == 0:\n",
        "        return []\n",
        "\n",
        "    root = TreeNode(nums[-1])\n",
        "    result = [0] * n\n",
        "\n",
        "    for i in range(n - 2, -1, -1):\n",
        "        insert(root, nums[i], 0, i, result)\n",
        "\n",
        "    return result\n"
      ],
      "metadata": {
        "id": "KyKaarjLpl3w"
      },
      "execution_count": 2,
      "outputs": []
    },
    {
      "cell_type": "markdown",
      "source": [
        "Question 3"
      ],
      "metadata": {
        "id": "JMQun8bvpl_A"
      }
    },
    {
      "cell_type": "code",
      "source": [
        "def sortArray(nums):\n",
        "    if len(nums) <= 1:\n",
        "        return nums\n",
        "\n",
        "    mid = len(nums) // 2\n",
        "    left = sortArray(nums[:mid])\n",
        "    right = sortArray(nums[mid:])\n",
        "    return merge(left, right)\n",
        "\n",
        "def merge(left, right):\n",
        "    merged = []\n",
        "    i, j = 0, 0\n",
        "\n",
        "    while i < len(left) and j < len(right):\n",
        "        if left[i] <= right[j]:\n",
        "            merged.append(left[i])\n",
        "            i += 1\n",
        "        else:\n",
        "            merged.append(right[j])\n",
        "            j += 1\n",
        "\n",
        "    while i < len(left):\n",
        "        merged.append(left[i])\n",
        "        i += 1\n",
        "\n",
        "    while j < len(right):\n",
        "        merged.append(right[j])\n",
        "        j += 1\n",
        "\n",
        "    return merged\n"
      ],
      "metadata": {
        "id": "6sm48IMnpmEr"
      },
      "execution_count": 3,
      "outputs": []
    },
    {
      "cell_type": "markdown",
      "source": [
        "Question 4"
      ],
      "metadata": {
        "id": "MHp9aqecpmJT"
      }
    },
    {
      "cell_type": "code",
      "source": [
        "def moveZeroes(arr):\n",
        "    n = len(arr)\n",
        "    # Initialize two pointers: one for iterating the array (i) and one for placing non-zero elements (j)\n",
        "    j = 0\n",
        "\n",
        "    # Iterate through the array\n",
        "    for i in range(n):\n",
        "        # If the current element is non-zero, place it at the j-th position and increment j\n",
        "        if arr[i] != 0:\n",
        "            arr[j] = arr[i]\n",
        "            j += 1\n",
        "\n",
        "    # Fill the remaining positions with zeros\n",
        "    while j < n:\n",
        "        arr[j] = 0\n",
        "        j += 1\n",
        "\n",
        "    return arr\n"
      ],
      "metadata": {
        "id": "Qk0P3BYlpmNx"
      },
      "execution_count": 4,
      "outputs": []
    },
    {
      "cell_type": "code",
      "source": [
        "arr = [1, 9, 8, 4, 0, 0, 2, 7, 0, 6, 0]\n",
        "print(moveZeroes(arr))\n"
      ],
      "metadata": {
        "colab": {
          "base_uri": "https://localhost:8080/"
        },
        "id": "OZRW3mGMqFts",
        "outputId": "9b55006f-1a39-44a5-aa29-4fbca5e0a9f9"
      },
      "execution_count": 5,
      "outputs": [
        {
          "output_type": "stream",
          "name": "stdout",
          "text": [
            "[1, 9, 8, 4, 2, 7, 6, 0, 0, 0, 0]\n"
          ]
        }
      ]
    },
    {
      "cell_type": "markdown",
      "source": [
        "Question 5"
      ],
      "metadata": {
        "id": "oahE7uQypmSK"
      }
    },
    {
      "cell_type": "code",
      "source": [
        "def rearrangeArray(arr):\n",
        "    n = len(arr)\n",
        "    i = 0\n",
        "    j = 1\n",
        "\n",
        "    while i < n and j < n:\n",
        "        # Find the next positive element starting from the current i position\n",
        "        while i < n and arr[i] >= 0:\n",
        "            i += 2\n",
        "\n",
        "        # Find the next negative element starting from the current j position\n",
        "        while j < n and arr[j] < 0:\n",
        "            j += 2\n",
        "\n",
        "        # If both positive and negative elements are found, swap them\n",
        "        if i < n and j < n:\n",
        "            arr[i], arr[j] = arr[j], arr[i]\n",
        "\n",
        "    return arr\n"
      ],
      "metadata": {
        "id": "Q8MQq2RxpmXl"
      },
      "execution_count": 6,
      "outputs": []
    },
    {
      "cell_type": "code",
      "source": [
        "arr = [-5, -2, 5, 2, 4, 7, 1, 8, 0, -8]\n",
        "print(rearrangeArray(arr))\n"
      ],
      "metadata": {
        "colab": {
          "base_uri": "https://localhost:8080/"
        },
        "id": "YFbzjhTDqPcd",
        "outputId": "a25b98f6-7cda-42ab-94e9-09b95766d4b7"
      },
      "execution_count": 7,
      "outputs": [
        {
          "output_type": "stream",
          "name": "stdout",
          "text": [
            "[2, -2, 5, -5, 4, 7, 1, 8, 0, -8]\n"
          ]
        }
      ]
    },
    {
      "cell_type": "markdown",
      "source": [
        "Question 6"
      ],
      "metadata": {
        "id": "46_dyqaKpmbs"
      }
    },
    {
      "cell_type": "code",
      "source": [
        "def mergeArrays(arr1, arr2):\n",
        "    merged = []\n",
        "    i = 0  # Pointer for arr1\n",
        "    j = 0  # Pointer for arr2\n",
        "\n",
        "    while i < len(arr1) and j < len(arr2):\n",
        "        # Compare elements from both arrays and add the smaller element to the merged array\n",
        "        if arr1[i] < arr2[j]:\n",
        "            merged.append(arr1[i])\n",
        "            i += 1\n",
        "        else:\n",
        "            merged.append(arr2[j])\n",
        "            j += 1\n",
        "\n",
        "    # Add the remaining elements from arr1, if any\n",
        "    while i < len(arr1):\n",
        "        merged.append(arr1[i])\n",
        "        i += 1\n",
        "\n",
        "    # Add the remaining elements from arr2, if any\n",
        "    while j < len(arr2):\n",
        "        merged.append(arr2[j])\n",
        "        j += 1\n",
        "\n",
        "    return merged\n"
      ],
      "metadata": {
        "id": "Cy_adqNzpmf-"
      },
      "execution_count": 8,
      "outputs": []
    },
    {
      "cell_type": "code",
      "source": [
        "arr1 = [5, 8, 9]\n",
        "arr2 = [4, 7, 8]\n",
        "print(mergeArrays(arr1, arr2))\n"
      ],
      "metadata": {
        "colab": {
          "base_uri": "https://localhost:8080/"
        },
        "id": "1RcQs36dqZt8",
        "outputId": "22f9c0a2-6f7d-4dfd-b13b-7e434dfc201c"
      },
      "execution_count": 9,
      "outputs": [
        {
          "output_type": "stream",
          "name": "stdout",
          "text": [
            "[4, 5, 7, 8, 8, 9]\n"
          ]
        }
      ]
    },
    {
      "cell_type": "markdown",
      "source": [
        "Question 7"
      ],
      "metadata": {
        "id": "5nzmhCCbpmmW"
      }
    },
    {
      "cell_type": "code",
      "source": [
        "def intersection(nums1, nums2):\n",
        "    set1 = set(nums1)\n",
        "    intersect = set()\n",
        "\n",
        "    for num in nums2:\n",
        "        if num in set1:\n",
        "            intersect.add(num)\n",
        "\n",
        "    return list(intersect)\n"
      ],
      "metadata": {
        "id": "SYawIZltpmqx"
      },
      "execution_count": 10,
      "outputs": []
    },
    {
      "cell_type": "code",
      "source": [
        "nums1 = [4, 9, 5]\n",
        "nums2 = [9, 4, 9, 8, 4]\n",
        "print(intersection(nums1, nums2))\n"
      ],
      "metadata": {
        "colab": {
          "base_uri": "https://localhost:8080/"
        },
        "id": "t7wRYnu5qcOF",
        "outputId": "caa76956-4f5d-4459-f557-5e7a36b93548"
      },
      "execution_count": 11,
      "outputs": [
        {
          "output_type": "stream",
          "name": "stdout",
          "text": [
            "[9, 4]\n"
          ]
        }
      ]
    },
    {
      "cell_type": "markdown",
      "source": [
        "Question 8"
      ],
      "metadata": {
        "id": "QhswpjV-pmvT"
      }
    },
    {
      "cell_type": "code",
      "source": [
        "from collections import defaultdict\n",
        "\n",
        "def intersect(nums1, nums2):\n",
        "    count = defaultdict(int)\n",
        "    intersect = []\n",
        "\n",
        "    # Count the occurrences of each element in nums1\n",
        "    for num in nums1:\n",
        "        count[num] += 1\n",
        "\n",
        "    # Check if each element in nums2 is present in nums1 and has a count greater than zero\n",
        "    for num in nums2:\n",
        "        if count[num] > 0:\n",
        "            intersect.append(num)\n",
        "            count[num] -= 1\n",
        "\n",
        "    return intersect\n"
      ],
      "metadata": {
        "id": "dIHlkUhhpmzO"
      },
      "execution_count": 12,
      "outputs": []
    },
    {
      "cell_type": "code",
      "source": [
        "nums1 = [1, 2, 2, 1]\n",
        "nums2 = [2, 2]\n",
        "print(intersect(nums1, nums2))\n"
      ],
      "metadata": {
        "id": "30L86jLeqjy6",
        "outputId": "c310f072-c1ea-446f-df85-7a785a283189",
        "colab": {
          "base_uri": "https://localhost:8080/"
        }
      },
      "execution_count": 13,
      "outputs": [
        {
          "output_type": "stream",
          "name": "stdout",
          "text": [
            "[2, 2]\n"
          ]
        }
      ]
    }
  ]
}