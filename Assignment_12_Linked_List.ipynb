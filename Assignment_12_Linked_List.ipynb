{
  "nbformat": 4,
  "nbformat_minor": 0,
  "metadata": {
    "colab": {
      "provenance": [],
      "include_colab_link": true
    },
    "kernelspec": {
      "name": "python3",
      "display_name": "Python 3"
    },
    "language_info": {
      "name": "python"
    }
  },
  "cells": [
    {
      "cell_type": "markdown",
      "metadata": {
        "id": "view-in-github",
        "colab_type": "text"
      },
      "source": [
        "<a href=\"https://colab.research.google.com/github/athulsunny/Pre_Placement_Training_Program/blob/main/Assignment_12_Linked_List.ipynb\" target=\"_parent\"><img src=\"https://colab.research.google.com/assets/colab-badge.svg\" alt=\"Open In Colab\"/></a>"
      ]
    },
    {
      "cell_type": "markdown",
      "source": [
        "Question 1"
      ],
      "metadata": {
        "id": "F-p3_TbE8GBO"
      }
    },
    {
      "cell_type": "code",
      "source": [
        "class Node:\n",
        "    def __init__(self, data=None):\n",
        "        self.data = data\n",
        "        self.next = None\n",
        "\n",
        "def delete_middle_node(head):\n",
        "    if head is None or head.next is None:\n",
        "        return head\n",
        "\n",
        "    slow_ptr = head\n",
        "    fast_ptr = head\n",
        "    prev_ptr = None\n",
        "\n",
        "    while fast_ptr is not None and fast_ptr.next is not None:\n",
        "        fast_ptr = fast_ptr.next.next\n",
        "        prev_ptr = slow_ptr\n",
        "        slow_ptr = slow_ptr.next\n",
        "\n",
        "    prev_ptr.next = slow_ptr.next\n",
        "\n",
        "    return head\n",
        "\n",
        "def print_linked_list(head):\n",
        "    curr = head\n",
        "    while curr is not None:\n",
        "        print(curr.data, end=\" \")\n",
        "        curr = curr.next\n",
        "    print()\n",
        "\n",
        "\n",
        "head = Node(1)\n",
        "head.next = Node(2)\n",
        "head.next.next = Node(3)\n",
        "head.next.next.next = Node(4)\n",
        "head.next.next.next.next = Node(5)\n",
        "\n",
        "print(\"Original linked list:\")\n",
        "print_linked_list(head)\n",
        "\n",
        "head = delete_middle_node(head)\n",
        "\n",
        "print(\"Linked list after deleting middle node(s):\")\n",
        "print_linked_list(head)\n"
      ],
      "metadata": {
        "colab": {
          "base_uri": "https://localhost:8080/"
        },
        "id": "3gpyhvzf8ga-",
        "outputId": "034f63f4-7814-4448-e082-3d64790c176e"
      },
      "execution_count": null,
      "outputs": [
        {
          "output_type": "stream",
          "name": "stdout",
          "text": [
            "Original linked list:\n",
            "1 2 3 4 5 \n",
            "Linked list after deleting middle node(s):\n",
            "1 2 4 5 \n"
          ]
        }
      ]
    },
    {
      "cell_type": "markdown",
      "source": [
        "Question 2"
      ],
      "metadata": {
        "id": "4_gGdWs98JU-"
      }
    },
    {
      "cell_type": "code",
      "source": [
        "class Node:\n",
        "    def __init__(self, data=None):\n",
        "        self.data = data\n",
        "        self.next = None\n",
        "\n",
        "def detect_loop(head):\n",
        "    if head is None or head.next is None:\n",
        "        return False\n",
        "\n",
        "    slow_ptr = head\n",
        "    fast_ptr = head\n",
        "\n",
        "    while fast_ptr is not None and fast_ptr.next is not None:\n",
        "        slow_ptr = slow_ptr.next\n",
        "        fast_ptr = fast_ptr.next.next\n",
        "\n",
        "        if slow_ptr == fast_ptr:\n",
        "            return True\n",
        "\n",
        "    return False\n",
        "\n",
        "\n",
        "\n",
        "head = Node(1)\n",
        "head.next = Node(2)\n",
        "head.next.next = Node(3)\n",
        "head.next.next.next = Node(4)\n",
        "head.next.next.next.next = Node(5)\n",
        "\n",
        "\n",
        "head.next.next.next.next.next = head.next\n",
        "\n",
        "has_loop = detect_loop(head)\n",
        "\n",
        "print(\"Does the linked list have a loop?\", has_loop)\n",
        "\n"
      ],
      "metadata": {
        "colab": {
          "base_uri": "https://localhost:8080/"
        },
        "id": "IYfGsoh38In4",
        "outputId": "0fe9ef09-b3d8-4cfe-cb7c-3da77e3629e2"
      },
      "execution_count": null,
      "outputs": [
        {
          "output_type": "stream",
          "name": "stdout",
          "text": [
            "Does the linked list have a loop? True\n"
          ]
        }
      ]
    },
    {
      "cell_type": "markdown",
      "source": [
        "Question 3\n",
        "\n"
      ],
      "metadata": {
        "id": "D-1IuFGt8pUl"
      }
    },
    {
      "cell_type": "code",
      "source": [
        "class Node:\n",
        "    def __init__(self, data=None):\n",
        "        self.data = data\n",
        "        self.next = None\n",
        "\n",
        "def find_nth_node_from_end(head, n):\n",
        "    if head is None or n <= 0:\n",
        "        return None\n",
        "\n",
        "    main_ptr = head\n",
        "    ref_ptr = head\n",
        "\n",
        "\n",
        "    for _ in range(n):\n",
        "        if main_ptr is None:\n",
        "            return None\n",
        "        main_ptr = main_ptr.next\n",
        "\n",
        "\n",
        "    while main_ptr is not None:\n",
        "        main_ptr = main_ptr.next\n",
        "        ref_ptr = ref_ptr.next\n",
        "\n",
        "    return ref_ptr.data\n",
        "\n",
        "\n",
        "head = Node(1)\n",
        "head.next = Node(2)\n",
        "head.next.next = Node(3)\n",
        "head.next.next.next = Node(4)\n",
        "head.next.next.next.next = Node(5)\n",
        "head.next.next.next.next.next = Node(6)\n",
        "head.next.next.next.next.next.next = Node(7)\n",
        "head.next.next.next.next.next.next.next = Node(8)\n",
        "head.next.next.next.next.next.next.next.next = Node(9)\n",
        "\n",
        "n = 2\n",
        "\n",
        "nth_node = find_nth_node_from_end(head, n)\n",
        "\n",
        "print(f\"The {n}th node from the end is:\", nth_node)\n"
      ],
      "metadata": {
        "colab": {
          "base_uri": "https://localhost:8080/"
        },
        "id": "u9L3MEEf8qVv",
        "outputId": "82a0a709-2bb5-4f52-bfc9-6e0de5281f61"
      },
      "execution_count": null,
      "outputs": [
        {
          "output_type": "stream",
          "name": "stdout",
          "text": [
            "The 2th node from the end is: 8\n"
          ]
        }
      ]
    },
    {
      "cell_type": "markdown",
      "source": [
        "Question 4\n",
        "\n"
      ],
      "metadata": {
        "id": "rj_vsKie9Cwq"
      }
    },
    {
      "cell_type": "code",
      "source": [
        "class Node:\n",
        "    def __init__(self, data=None):\n",
        "        self.data = data\n",
        "        self.next = None\n",
        "\n",
        "def is_palindrome(head):\n",
        "    if head is None or head.next is None:\n",
        "        return True\n",
        "\n",
        "    stack = []\n",
        "    curr = head\n",
        "\n",
        "\n",
        "    while curr is not None:\n",
        "        stack.append(curr.data)\n",
        "        curr = curr.next\n",
        "\n",
        "    curr = head\n",
        "\n",
        "\n",
        "    while curr is not None:\n",
        "        if curr.data != stack.pop():\n",
        "            return False\n",
        "        curr = curr.next\n",
        "\n",
        "    return True\n",
        "\n",
        "\n",
        "head = Node('R')\n",
        "head.next = Node('A')\n",
        "head.next.next = Node('D')\n",
        "head.next.next.next = Node('A')\n",
        "head.next.next.next.next = Node('R')\n",
        "\n",
        "is_pal = is_palindrome(head)\n",
        "\n",
        "print(\"Is the linked list a palindrome?\", is_pal)\n"
      ],
      "metadata": {
        "colab": {
          "base_uri": "https://localhost:8080/"
        },
        "id": "KQjMtUId9C2i",
        "outputId": "6ec22e05-580b-4537-dfc1-32ed2724e502"
      },
      "execution_count": null,
      "outputs": [
        {
          "output_type": "stream",
          "name": "stdout",
          "text": [
            "Is the linked list a palindrome? True\n"
          ]
        }
      ]
    },
    {
      "cell_type": "markdown",
      "source": [
        "Question 5\n",
        "\n"
      ],
      "metadata": {
        "id": "s0uKcnqt9C-R"
      }
    },
    {
      "cell_type": "code",
      "source": [
        "class Node:\n",
        "    def __init__(self, data=None):\n",
        "        self.data = data\n",
        "        self.next = None\n",
        "\n",
        "def detect_and_remove_loop(head):\n",
        "    if head is None or head.next is None:\n",
        "        return head\n",
        "\n",
        "    slow_ptr = head\n",
        "    fast_ptr = head\n",
        "\n",
        "\n",
        "    while fast_ptr is not None and fast_ptr.next is not None:\n",
        "        slow_ptr = slow_ptr.next\n",
        "        fast_ptr = fast_ptr.next.next\n",
        "\n",
        "        if slow_ptr == fast_ptr:\n",
        "            break\n",
        "\n",
        "\n",
        "    if slow_ptr != fast_ptr:\n",
        "        return head\n",
        "\n",
        "\n",
        "    slow_ptr = head\n",
        "    while slow_ptr.next != fast_ptr.next:\n",
        "        slow_ptr = slow_ptr.next\n",
        "        fast_ptr = fast_ptr.next\n",
        "\n",
        "\n",
        "    fast_ptr.next = None\n",
        "\n",
        "    return head\n",
        "\n",
        "def print_linked_list(head):\n",
        "    curr = head\n",
        "    while curr is not None:\n",
        "        print(curr.data, end=\" \")\n",
        "        curr = curr.next\n",
        "    print()\n",
        "\n",
        "\n",
        "head = Node(1)\n",
        "head.next = Node(8)\n",
        "head.next.next = Node(3)\n",
        "head.next.next.next = Node(4)\n",
        "\n",
        "print(\"Original linked list:\")\n",
        "print_linked_list(head)\n",
        "\n",
        "head = detect_and_remove_loop(head)\n",
        "\n",
        "print(\"Linked list after removing the loop:\")\n",
        "print_linked_list(head)\n"
      ],
      "metadata": {
        "colab": {
          "base_uri": "https://localhost:8080/"
        },
        "id": "vQ0q6Gf29DD2",
        "outputId": "13226838-5106-4c3b-8be8-4eebd3ba72db"
      },
      "execution_count": null,
      "outputs": [
        {
          "output_type": "stream",
          "name": "stdout",
          "text": [
            "Original linked list:\n",
            "1 8 3 4 \n",
            "Linked list after removing the loop:\n",
            "1 8 3 4 \n"
          ]
        }
      ]
    },
    {
      "cell_type": "markdown",
      "source": [
        "Question 6\n"
      ],
      "metadata": {
        "id": "6sxmXoU69DJU"
      }
    },
    {
      "cell_type": "code",
      "source": [
        "class Node:\n",
        "    def __init__(self, data=None):\n",
        "        self.data = data\n",
        "        self.next = None\n",
        "\n",
        "def retain_delete(head, M, N):\n",
        "    if head is None or M <= 0 or N <= 0:\n",
        "        return head\n",
        "\n",
        "    curr = head\n",
        "    prev = None\n",
        "\n",
        "\n",
        "    while curr is not None:\n",
        "\n",
        "        for _ in range(M):\n",
        "            if curr is None:\n",
        "                return head\n",
        "            prev = curr\n",
        "            curr = curr.next\n",
        "\n",
        "\n",
        "        for _ in range(N):\n",
        "            if curr is None:\n",
        "                break\n",
        "            curr = curr.next\n",
        "\n",
        "\n",
        "        prev.next = curr\n",
        "\n",
        "    return head\n",
        "\n",
        "def print_linked_list(head):\n",
        "    curr = head\n",
        "    while curr is not None:\n",
        "        print(curr.data, end=\" \")\n",
        "        curr = curr.next\n",
        "    print()\n",
        "\n",
        "head = Node(1)\n",
        "head.next = Node(2)\n",
        "head.next.next = Node(3)\n",
        "head.next.next.next = Node(4)\n",
        "head.next.next.next.next = Node(5)\n",
        "head.next.next.next.next.next = Node(6)\n",
        "head.next.next.next.next.next.next = Node(7)\n",
        "head.next.next.next.next.next.next.next = Node(8)\n",
        "\n",
        "M = 2\n",
        "N = 2\n",
        "\n",
        "print(\"Original linked list:\")\n",
        "print_linked_list(head)\n",
        "\n",
        "head = retain_delete(head, M, N)\n",
        "\n",
        "print(\"Linked list after retain-delete operation:\")\n",
        "print_linked_list(head)\n"
      ],
      "metadata": {
        "colab": {
          "base_uri": "https://localhost:8080/"
        },
        "id": "cch1Saqs9DOT",
        "outputId": "db7493cd-6e7e-40ba-d910-848aa3d69f66"
      },
      "execution_count": null,
      "outputs": [
        {
          "output_type": "stream",
          "name": "stdout",
          "text": [
            "Original linked list:\n",
            "1 2 3 4 5 6 7 8 \n",
            "Linked list after retain-delete operation:\n",
            "1 2 5 6 \n"
          ]
        }
      ]
    },
    {
      "cell_type": "markdown",
      "source": [
        "Question 7"
      ],
      "metadata": {
        "id": "J-Jaf39_9DUy"
      }
    },
    {
      "cell_type": "code",
      "source": [
        "class Node:\n",
        "    def __init__(self, data=None):\n",
        "        self.data = data\n",
        "        self.next = None\n",
        "\n",
        "def merge_lists(first_head, second_head):\n",
        "    if first_head is None:\n",
        "        return second_head\n",
        "    if second_head is None:\n",
        "        return first_head\n",
        "\n",
        "    first_curr = first_head\n",
        "    second_curr = second_head\n",
        "\n",
        "    while first_curr is not None and second_curr is not None:\n",
        "        first_next = first_curr.next\n",
        "        second_next = second_curr.next\n",
        "\n",
        "        first_curr.next = second_curr\n",
        "        second_curr.next = first_next\n",
        "\n",
        "        first_curr = first_next\n",
        "        second_curr = second_next\n",
        "\n",
        "    if second_curr is not None:\n",
        "        first_curr.next = second_curr\n",
        "\n",
        "    return first_head\n",
        "\n",
        "def print_linked_list(head):\n",
        "    curr = head\n",
        "    while curr is not None:\n",
        "        print(curr.data, end=\" \")\n",
        "        curr = curr.next\n",
        "    print()\n",
        "\n",
        "\n",
        "first_head = Node(5)\n",
        "first_head.next = Node(7)\n",
        "first_head.next.next = Node(17)\n",
        "first_head.next.next.next = Node(13)\n",
        "first_head.next.next.next.next = Node(11)\n",
        "\n",
        "\n",
        "second_head = Node(12)\n",
        "second_head.next = Node(10)\n",
        "second_head.next.next = Node(2)\n",
        "second_head.next.next.next = Node(4)\n",
        "second_head.next.next.next.next = Node(6)\n",
        "\n",
        "print(\"First linked list:\")\n",
        "print_linked_list(first_head)\n",
        "print(\"Second linked list:\")\n",
        "print_linked_list(second_head)\n",
        "\n",
        "first_head = merge_lists(first_head, second_head)\n",
        "\n",
        "print(\"First linked list after merging:\")\n",
        "print_linked_list(first_head)\n",
        "print(\"Second linked list after merging:\")\n",
        "print_linked_list(second_head)\n"
      ],
      "metadata": {
        "colab": {
          "base_uri": "https://localhost:8080/"
        },
        "id": "j2ZK_lzw9Dbb",
        "outputId": "9a0d3421-ae0e-4bcd-db32-d94df59d32b6"
      },
      "execution_count": null,
      "outputs": [
        {
          "output_type": "stream",
          "name": "stdout",
          "text": [
            "First linked list:\n",
            "5 7 17 13 11 \n",
            "Second linked list:\n",
            "12 10 2 4 6 \n",
            "First linked list after merging:\n",
            "5 12 7 10 17 2 13 4 11 6 \n",
            "Second linked list after merging:\n",
            "12 7 10 17 2 13 4 11 6 \n"
          ]
        }
      ]
    },
    {
      "cell_type": "markdown",
      "source": [
        "Question 8"
      ],
      "metadata": {
        "id": "HB5Igq5M9bTv"
      }
    },
    {
      "cell_type": "code",
      "source": [
        "class Node:\n",
        "    def __init__(self, data=None):\n",
        "        self.data = data\n",
        "        self.next = None\n",
        "\n",
        "def is_circular(head):\n",
        "    if head is None:\n",
        "        return False\n",
        "\n",
        "    slow_ptr = head\n",
        "    fast_ptr = head.next\n",
        "\n",
        "    while fast_ptr is not None and fast_ptr.next is not None:\n",
        "        if slow_ptr == fast_ptr:\n",
        "            return True\n",
        "\n",
        "        slow_ptr = slow_ptr.next\n",
        "        fast_ptr = fast_ptr.next.next\n",
        "\n",
        "    return False\n",
        "\n",
        "\n",
        "head = Node(1)\n",
        "head.next = Node(2)\n",
        "head.next.next = Node(3)\n",
        "head.next.next.next = Node(4)\n",
        "head.next.next.next.next = Node(5)\n",
        "head.next.next.next.next.next = head.next\n",
        "\n",
        "print(\"Is the linked list circular? \", is_circular(head))\n"
      ],
      "metadata": {
        "colab": {
          "base_uri": "https://localhost:8080/"
        },
        "id": "zoa8mvg49bb5",
        "outputId": "e6a29e5d-19ae-4b0f-bf22-c35c92dda1f5"
      },
      "execution_count": null,
      "outputs": [
        {
          "output_type": "stream",
          "name": "stdout",
          "text": [
            "Is the linked list circular?  True\n"
          ]
        }
      ]
    }
  ]
}