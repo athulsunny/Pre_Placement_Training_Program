{
  "cells": [
    {
      "attachments": {},
      "cell_type": "markdown",
      "metadata": {
        "id": "3_MdHnVoKdbW"
      },
      "source": [
        "Question 1\n",
        "Given three integer arrays arr1, arr2 and arr3 sorted in strictly increasing order, return a sorted array of only the integers that appeared in all three arrays."
      ]
    },
    {
      "cell_type": "code",
      "execution_count": 1,
      "metadata": {
        "id": "iqatTONwKeU9"
      },
      "outputs": [],
      "source": [
        "def commonElements(arr1, arr2, arr3):\n",
        "    p1, p2, p3 = 0, 0, 0\n",
        "    result = []\n",
        "\n",
        "    while p1 < len(arr1) and p2 < len(arr2) and p3 < len(arr3):\n",
        "        if arr1[p1] == arr2[p2] == arr3[p3]:\n",
        "            result.append(arr1[p1])\n",
        "            p1 += 1\n",
        "            p2 += 1\n",
        "            p3 += 1\n",
        "        elif arr1[p1] <= arr2[p2] and arr1[p1] <= arr3[p3]:\n",
        "            p1 += 1\n",
        "        elif arr2[p2] <= arr1[p1] and arr2[p2] <= arr3[p3]:\n",
        "            p2 += 1\n",
        "        else:\n",
        "            p3 += 1\n",
        "\n",
        "    return result\n"
      ]
    },
    {
      "attachments": {},
      "cell_type": "markdown",
      "metadata": {
        "id": "j48JEUBQKfpH"
      },
      "source": [
        "<aside>\n",
        "💡 **Question 2**\n",
        "\n",
        "Given two **0-indexed** integer arrays nums1 and nums2, return *a list* answer *of size* 2 *where:*\n",
        "\n",
        "- answer[0] *is a list of all **distinct** integers in* nums1 *which are **not** present in* nums2*.*\n",
        "- answer[1] *is a list of all **distinct** integers in* nums2 *which are **not** present in* nums1.\n",
        "\n",
        "**Note** that the integers in the lists may be returned in **any** order.\n",
        "\n",
        "</aside>"
      ]
    },
    {
      "cell_type": "code",
      "execution_count": 2,
      "metadata": {
        "id": "kiSLgiK0KfVb"
      },
      "outputs": [],
      "source": [
        "def findDisjoint(nums1, nums2):\n",
        "    set1 = set(nums1)\n",
        "    set2 = set(nums2)\n",
        "\n",
        "    list1 = list(set1 - set2)\n",
        "    list2 = list(set2 - set1)\n",
        "\n",
        "    return [list1, list2]\n",
        "\n"
      ]
    },
    {
      "attachments": {},
      "cell_type": "markdown",
      "metadata": {
        "id": "0NWvUtGbKhLZ"
      },
      "source": [
        "<aside>\n",
        "💡 **Question 3**\n",
        "Given a 2D integer array matrix, return *the **transpose** of* matrix.\n",
        "\n",
        "The **transpose** of a matrix is the matrix flipped over its main diagonal, switching the matrix's row and column indices.\n",
        "\n",
        "</aside>"
      ]
    },
    {
      "cell_type": "code",
      "execution_count": 3,
      "metadata": {
        "id": "QtHvKgB8KhnO"
      },
      "outputs": [],
      "source": [
        "def transpose(matrix):\n",
        "    rows = len(matrix)\n",
        "    cols = len(matrix[0])\n",
        "\n",
        "    transpose = []\n",
        "\n",
        "    for colIndex in range(cols):\n",
        "        row = []\n",
        "        for rowIndex in range(rows):\n",
        "            row.append(matrix[rowIndex][colIndex])\n",
        "        transpose.append(row)\n",
        "\n",
        "    return transpose\n"
      ]
    },
    {
      "attachments": {},
      "cell_type": "markdown",
      "metadata": {
        "id": "YU4vdYF5Kh0A"
      },
      "source": [
        "Question 4\n",
        "Given an integer array nums of 2n integers, group these integers into n pairs (a1, b1), (a2, b2), ..., (an, bn) such that the sum of min(ai, bi) for all i is maximized. Return the maximized sum."
      ]
    },
    {
      "cell_type": "code",
      "execution_count": 4,
      "metadata": {
        "id": "1V19pxvvKh7z"
      },
      "outputs": [],
      "source": [
        "def arrayPairSum(nums):\n",
        "    nums.sort()\n",
        "    max_sum = 0\n",
        "    for i in range(0, len(nums), 2):\n",
        "        max_sum += nums[i]\n",
        "    return max_sum\n"
      ]
    },
    {
      "attachments": {},
      "cell_type": "markdown",
      "metadata": {
        "id": "1AYjlloEKiBQ"
      },
      "source": [
        "<aside>\n",
        "💡 **Question 5**\n",
        "You have n coins and you want to build a staircase with these coins. The staircase consists of k rows where the ith row has exactly i coins. The last row of the staircase **may be** incomplete.\n",
        "\n",
        "Given the integer n, return *the number of **complete rows** of the staircase you will build*.\n",
        "\n",
        "</aside>"
      ]
    },
    {
      "cell_type": "code",
      "execution_count": 5,
      "metadata": {
        "id": "ZR2oY7RBKiGP"
      },
      "outputs": [],
      "source": [
        "def arrangeCoins(n):\n",
        "    left = 0\n",
        "    right = n\n",
        "\n",
        "    while left <= right:\n",
        "        mid = (left + right) // 2\n",
        "        total_coins = (mid * (mid + 1)) // 2\n",
        "\n",
        "        if total_coins <= n:\n",
        "            left = mid + 1\n",
        "        else:\n",
        "            right = mid - 1\n",
        "\n",
        "    return right\n"
      ]
    },
    {
      "attachments": {},
      "cell_type": "markdown",
      "metadata": {
        "id": "OwIGz_iqKiKI"
      },
      "source": [
        "Question 6\n",
        "Given an integer array nums sorted in non-decreasing order, return an array of the squares of each number sorted in non-decreasing order."
      ]
    },
    {
      "cell_type": "code",
      "execution_count": 6,
      "metadata": {
        "id": "QDpMzfUsKiOk"
      },
      "outputs": [],
      "source": [
        "def sortedSquares(nums):\n",
        "    left = 0\n",
        "    right = len(nums) - 1\n",
        "    result = []\n",
        "\n",
        "    while left <= right:\n",
        "        square_left = nums[left] * nums[left]\n",
        "        square_right = nums[right] * nums[right]\n",
        "\n",
        "        if square_left > square_right:\n",
        "            result.append(square_left)\n",
        "            left += 1\n",
        "        else:\n",
        "            result.append(square_right)\n",
        "            right -= 1\n",
        "\n",
        "    return result[::-1]\n"
      ]
    },
    {
      "attachments": {},
      "cell_type": "markdown",
      "metadata": {
        "id": "GYECV0qmKiRs"
      },
      "source": [
        "<aside>\n",
        "💡 **Question 7**\n",
        "You are given an m x n matrix M initialized with all 0's and an array of operations ops, where ops[i] = [ai, bi] means M[x][y] should be incremented by one for all 0 <= x < ai and 0 <= y < bi.\n",
        "\n",
        "Count and return *the number of maximum integers in the matrix after performing all the operations*\n",
        "\n",
        "</aside>"
      ]
    },
    {
      "cell_type": "code",
      "execution_count": 7,
      "metadata": {
        "id": "m11Nfk13KiW-"
      },
      "outputs": [],
      "source": [
        "def maxCount(m, n, ops):\n",
        "    min_row = m\n",
        "    min_col = n\n",
        "\n",
        "    for op in ops:\n",
        "        min_row = min(min_row, op[0])\n",
        "        min_col = min(min_col, op[1])\n",
        "\n",
        "    return min_row * min_col\n"
      ]
    },
    {
      "attachments": {},
      "cell_type": "markdown",
      "metadata": {
        "id": "EubPDNcfKigc"
      },
      "source": [
        "<aside>\n",
        "💡 **Question 8**\n",
        "\n",
        "Given the array nums consisting of 2n elements in the form [x1,x2,...,xn,y1,y2,...,yn].\n",
        "\n",
        "*Return the array in the form* [x1,y1,x2,y2,...,xn,yn].\n",
        "\n",
        "</aside>"
      ]
    },
    {
      "cell_type": "code",
      "execution_count": 8,
      "metadata": {
        "id": "txGa2KHgKikk"
      },
      "outputs": [],
      "source": [
        "def shuffle(nums, n):\n",
        "    result = []\n",
        "    for i in range(n):\n",
        "        result.append(nums[i])\n",
        "        result.append(nums[i+n])\n",
        "    return result\n"
      ]
    },
    {
      "attachments": {},
      "cell_type": "markdown",
      "metadata": {
        "id": "zift0jpyKioG"
      },
      "source": []
    }
  ],
  "metadata": {
    "colab": {
      "provenance": []
    },
    "kernelspec": {
      "display_name": "Python 3",
      "name": "python3"
    },
    "language_info": {
      "codemirror_mode": {
        "name": "ipython",
        "version": 3
      },
      "file_extension": ".py",
      "mimetype": "text/x-python",
      "name": "python",
      "nbconvert_exporter": "python",
      "pygments_lexer": "ipython3",
      "version": "3.10.9"
    }
  },
  "nbformat": 4,
  "nbformat_minor": 0
}
