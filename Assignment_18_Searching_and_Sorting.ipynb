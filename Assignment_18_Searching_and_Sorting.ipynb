{
  "nbformat": 4,
  "nbformat_minor": 0,
  "metadata": {
    "colab": {
      "provenance": [],
      "include_colab_link": true
    },
    "kernelspec": {
      "name": "python3",
      "display_name": "Python 3"
    },
    "language_info": {
      "name": "python"
    }
  },
  "cells": [
    {
      "cell_type": "markdown",
      "metadata": {
        "id": "view-in-github",
        "colab_type": "text"
      },
      "source": [
        "<a href=\"https://colab.research.google.com/github/athulsunny/Pre_Placement_Training_Program/blob/main/Assignment_18_Searching_and_Sorting.ipynb\" target=\"_parent\"><img src=\"https://colab.research.google.com/assets/colab-badge.svg\" alt=\"Open In Colab\"/></a>"
      ]
    },
    {
      "cell_type": "markdown",
      "source": [
        "Question 1\n"
      ],
      "metadata": {
        "id": "QD0FCOeGnqIJ"
      }
    },
    {
      "cell_type": "code",
      "execution_count": 25,
      "metadata": {
        "id": "EoF2T1jynlmJ"
      },
      "outputs": [],
      "source": [
        "def merge_intervals(intervals):\n",
        "    # Sort intervals based on start time\n",
        "    intervals.sort(key=lambda x: x[0])\n",
        "\n",
        "    merged = []  # Result list to store merged intervals\n",
        "\n",
        "    for interval in intervals:\n",
        "        # If merged list is empty or current interval does not overlap with the last interval\n",
        "        if not merged or interval[0] > merged[-1][1]:\n",
        "            merged.append(interval)\n",
        "        else:\n",
        "            # Update the end time of the last interval in merged list\n",
        "            merged[-1][1] = max(merged[-1][1], interval[1])\n",
        "\n",
        "    return merged\n"
      ]
    },
    {
      "cell_type": "markdown",
      "source": [
        "Question 2"
      ],
      "metadata": {
        "id": "NF_FTdotnrK5"
      }
    },
    {
      "cell_type": "code",
      "source": [
        "def sortColors(nums):\n",
        "    left = 0\n",
        "    right = len(nums) - 1\n",
        "    current = 0\n",
        "\n",
        "    while current <= right:\n",
        "        if nums[current] == 0:\n",
        "            nums[current], nums[left] = nums[left], nums[current]\n",
        "            left += 1\n",
        "            current += 1\n",
        "        elif nums[current] == 1:\n",
        "            current += 1\n",
        "        else:\n",
        "            nums[current], nums[right] = nums[right], nums[current]\n",
        "            right -= 1\n",
        "\n",
        "    return nums\n"
      ],
      "metadata": {
        "id": "cMtYhtVznrZ6"
      },
      "execution_count": 26,
      "outputs": []
    },
    {
      "cell_type": "markdown",
      "source": [
        "Question 3"
      ],
      "metadata": {
        "id": "UOVL7HJcnrfM"
      }
    },
    {
      "cell_type": "code",
      "source": [
        "def firstBadVersion(n):\n",
        "    left = 1\n",
        "    right = n\n",
        "\n",
        "    while left < right:\n",
        "        mid = left + (right - left) // 2\n",
        "        if isBadVersion(mid):\n",
        "            right = mid\n",
        "        else:\n",
        "            left = mid + 1\n",
        "\n",
        "    return left\n",
        "\n"
      ],
      "metadata": {
        "id": "k4SmNSa6nrkY"
      },
      "execution_count": 27,
      "outputs": []
    },
    {
      "cell_type": "markdown",
      "source": [
        "Question 4"
      ],
      "metadata": {
        "id": "R9l8j6Wxnrqb"
      }
    },
    {
      "cell_type": "code",
      "source": [
        "def maximumGap(nums):\n",
        "    if len(nums) < 2:\n",
        "        return 0\n",
        "\n",
        "    max_num = max(nums)\n",
        "    exp = 1\n",
        "    output = [0] * len(nums)\n",
        "\n",
        "    while max_num // exp > 0:\n",
        "        count = [0] * 10\n",
        "\n",
        "        for num in nums:\n",
        "            count[(num // exp) % 10] += 1\n",
        "\n",
        "        for i in range(1, 10):\n",
        "            count[i] += count[i - 1]\n",
        "\n",
        "        for i in range(len(nums) - 1, -1, -1):\n",
        "            digit = (nums[i] // exp) % 10\n",
        "            output[count[digit] - 1] = nums[i]\n",
        "            count[digit] -= 1\n",
        "\n",
        "        nums = output.copy()\n",
        "        exp *= 10\n",
        "\n",
        "    max_diff = 0\n",
        "    for i in range(1, len(nums)):\n",
        "        max_diff = max(max_diff, nums[i] - nums[i - 1])\n",
        "\n",
        "    return max_diff\n"
      ],
      "metadata": {
        "id": "NkoLTiadnrvp"
      },
      "execution_count": 28,
      "outputs": []
    },
    {
      "cell_type": "markdown",
      "source": [
        "Question  5"
      ],
      "metadata": {
        "id": "OCXoJ6B9nr1T"
      }
    },
    {
      "cell_type": "code",
      "source": [
        "def containsDuplicate(nums):\n",
        "    seen = set()\n",
        "\n",
        "    for num in nums:\n",
        "        if num in seen:\n",
        "            return True\n",
        "        seen.add(num)\n",
        "\n",
        "    return False\n"
      ],
      "metadata": {
        "id": "vKgcsgQAnr6E"
      },
      "execution_count": 29,
      "outputs": []
    },
    {
      "cell_type": "markdown",
      "source": [
        "Question 6"
      ],
      "metadata": {
        "id": "vOl2qzt9nr_p"
      }
    },
    {
      "cell_type": "code",
      "source": [
        "def findMinArrowShots(points):\n",
        "    if not points:\n",
        "        return 0\n",
        "\n",
        "    # Sort balloons based on end points\n",
        "    points.sort(key=lambda x: x[1])\n",
        "\n",
        "    arrows = 1\n",
        "    curr_end = points[0][1]\n",
        "\n",
        "    for i in range(1, len(points)):\n",
        "        if points[i][0] > curr_end:\n",
        "            # Need a new arrow\n",
        "            arrows += 1\n",
        "            curr_end = points[i][1]\n",
        "\n",
        "    return arrows\n"
      ],
      "metadata": {
        "id": "gDqqF6fFnsEw"
      },
      "execution_count": 30,
      "outputs": []
    },
    {
      "cell_type": "markdown",
      "source": [
        "Question  7"
      ],
      "metadata": {
        "id": "HQf2exvKnsKe"
      }
    },
    {
      "cell_type": "code",
      "source": [
        "def lengthOfLIS(nums):\n",
        "    if not nums:\n",
        "        return 0\n",
        "\n",
        "    dp = [1] * len(nums)  # Initialize the dp array with 1s\n",
        "\n",
        "    for i in range(1, len(nums)):\n",
        "        for j in range(i):\n",
        "            if nums[i] > nums[j]:\n",
        "                dp[i] = max(dp[i], dp[j] + 1)\n",
        "\n",
        "    return max(dp)\n"
      ],
      "metadata": {
        "id": "vtLaj31TnsQd"
      },
      "execution_count": 31,
      "outputs": []
    },
    {
      "cell_type": "markdown",
      "source": [
        "Question 8"
      ],
      "metadata": {
        "id": "83DAr-5dnsZQ"
      }
    },
    {
      "cell_type": "code",
      "source": [
        "def find132pattern(nums):\n",
        "    stack = []\n",
        "    s3 = float('-inf')\n",
        "\n",
        "    for i in range(len(nums)-1, -1, -1):\n",
        "        if nums[i] < s3:\n",
        "            return True\n",
        "\n",
        "        while stack and nums[i] > stack[-1]:\n",
        "            s3 = stack.pop()\n",
        "\n",
        "        stack.append(nums[i])\n",
        "\n",
        "    return False\n"
      ],
      "metadata": {
        "id": "lErLYKL5nsfa"
      },
      "execution_count": 32,
      "outputs": []
    }
  ]
}