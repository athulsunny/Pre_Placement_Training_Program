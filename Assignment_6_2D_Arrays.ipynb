{
  "nbformat": 4,
  "nbformat_minor": 0,
  "metadata": {
    "colab": {
      "provenance": [],
      "authorship_tag": "ABX9TyNWZynN0jNOI8HqGwIzDP4u",
      "include_colab_link": true
    },
    "kernelspec": {
      "name": "python3",
      "display_name": "Python 3"
    },
    "language_info": {
      "name": "python"
    }
  },
  "cells": [
    {
      "cell_type": "markdown",
      "metadata": {
        "id": "view-in-github",
        "colab_type": "text"
      },
      "source": [
        "<a href=\"https://colab.research.google.com/github/athulsunny/Pre_Placement_Training_Program/blob/main/Assignment_6_2D_Arrays.ipynb\" target=\"_parent\"><img src=\"https://colab.research.google.com/assets/colab-badge.svg\" alt=\"Open In Colab\"/></a>"
      ]
    },
    {
      "cell_type": "markdown",
      "source": [
        "Question 1\n",
        "\n",
        "A permutation perm of n + 1 integers of all the integers in the range [0, n] can be represented as a string s of length n where:\n",
        "\n",
        "- s[i] == 'I' if perm[i] < perm[i + 1], and\n",
        "- s[i] == 'D' if perm[i] > perm[i + 1].\n",
        "\n",
        "Given a string s, reconstruct the permutation perm and return it. If there are multiple valid permutations perm, return **any of them**.\n"
      ],
      "metadata": {
        "id": "rwlw7gXArFs5"
      }
    },
    {
      "cell_type": "code",
      "source": [
        "def findPermutation(s):\n",
        "    n = len(s)\n",
        "    perm = list(range(n + 1))\n",
        "\n",
        "    result = []\n",
        "    for i in range(n):\n",
        "        if s[i] == 'I':\n",
        "            result.append(perm.pop(0))\n",
        "        else:\n",
        "            result.append(perm.pop())\n",
        "\n",
        "    result.append(perm.pop())  \n",
        "    return result\n"
      ],
      "metadata": {
        "id": "xNYctsObrKKu"
      },
      "execution_count": 1,
      "outputs": []
    },
    {
      "cell_type": "code",
      "source": [
        "s = \"ATHUL\"\n",
        "perm = findPermutation(s)\n",
        "print(perm)\n"
      ],
      "metadata": {
        "colab": {
          "base_uri": "https://localhost:8080/"
        },
        "id": "005xz1c9sJk1",
        "outputId": "80e6596f-6379-4d08-c20a-7e3160536a62"
      },
      "execution_count": 27,
      "outputs": [
        {
          "output_type": "stream",
          "name": "stdout",
          "text": [
            "[5, 4, 3, 2, 1, 0]\n"
          ]
        }
      ]
    },
    {
      "cell_type": "markdown",
      "source": [
        "Question 2\n",
        "\n",
        "You are given an m x n integer matrix matrix with the following two properties:\n",
        "\n",
        "- Each row is sorted in non-decreasing order.\n",
        "- The first integer of each row is greater than the last integer of the previous row.\n",
        "\n",
        "Given an integer target, return true *if* target *is in* matrix *or* false *otherwise*.\n",
        "\n",
        "You must write a solution in O(log(m * n)) time complexity.\n",
        "\n"
      ],
      "metadata": {
        "id": "vACXirBtrKSG"
      }
    },
    {
      "cell_type": "code",
      "source": [
        "def searchMatrix(matrix, target):\n",
        "    if not matrix or not matrix[0]:\n",
        "        return False\n",
        "\n",
        "    rows, cols = len(matrix), len(matrix[0])\n",
        "    left, right = 0, rows * cols - 1\n",
        "\n",
        "    while left <= right:\n",
        "        mid = (left + right) // 2\n",
        "        row = mid // cols\n",
        "        col = mid % cols\n",
        "\n",
        "        if matrix[row][col] == target:\n",
        "            return True\n",
        "        elif matrix[row][col] < target:\n",
        "            left = mid + 1\n",
        "        else:\n",
        "            right = mid - 1\n",
        "\n",
        "    return False\n"
      ],
      "metadata": {
        "id": "71LlN07-rOzH"
      },
      "execution_count": 3,
      "outputs": []
    },
    {
      "cell_type": "code",
      "source": [
        "matrix = [[2, 3, 5, 7], [11, 15, 16, 20], [23, 32, 34, 62]]\n",
        "target = 3\n",
        "\n",
        "print(searchMatrix(matrix, target))\n"
      ],
      "metadata": {
        "colab": {
          "base_uri": "https://localhost:8080/"
        },
        "id": "nIcJ5I8TskhJ",
        "outputId": "c6dc2a20-1948-4170-8272-270a41f12c8f"
      },
      "execution_count": 28,
      "outputs": [
        {
          "output_type": "stream",
          "name": "stdout",
          "text": [
            "True\n"
          ]
        }
      ]
    },
    {
      "cell_type": "markdown",
      "source": [
        "Question 3\n",
        "\n",
        "Given an array of integers arr, return *true if and only if it is a valid mountain array*.\n",
        "\n",
        "Recall that arr is a mountain array if and only if:\n",
        "\n",
        "- arr.length >= 3\n",
        "- There exists some i with 0 < i < arr.length - 1 such that:\n",
        "    - arr[0] < arr[1] < ... < arr[i - 1] < arr[i]\n",
        "    - arr[i] > arr[i + 1] > ... > arr[arr.length - 1]\n"
      ],
      "metadata": {
        "id": "v-ej6bbKrPPG"
      }
    },
    {
      "cell_type": "code",
      "source": [
        "def validMountainArray(arr):\n",
        "    n = len(arr)\n",
        "    if n < 3:\n",
        "        return False\n",
        "\n",
        "    i = 0\n",
        "    while i < n - 1 and arr[i] < arr[i + 1]:\n",
        "        i += 1\n",
        "\n",
        "    if i == 0 or i == n - 1:\n",
        "        return False\n",
        "\n",
        "    while i < n - 1 and arr[i] > arr[i + 1]:\n",
        "        i += 1\n",
        "\n",
        "    return i == n - 1\n"
      ],
      "metadata": {
        "id": "BPka6c9Crb6D"
      },
      "execution_count": 5,
      "outputs": []
    },
    {
      "cell_type": "code",
      "source": [
        "arr = [4, 2]\n",
        "print(validMountainArray(arr))\n"
      ],
      "metadata": {
        "colab": {
          "base_uri": "https://localhost:8080/"
        },
        "id": "MVQZstlos5Z5",
        "outputId": "dd98b255-d083-4aa6-f7b0-ca516c604957"
      },
      "execution_count": 29,
      "outputs": [
        {
          "output_type": "stream",
          "name": "stdout",
          "text": [
            "False\n"
          ]
        }
      ]
    },
    {
      "cell_type": "markdown",
      "source": [
        "Question 4\n",
        "\n",
        "Given a binary array nums, return *the maximum length of a contiguous subarray with an equal number of* 0 *and* 1.\n",
        "\n"
      ],
      "metadata": {
        "id": "PP5MkrjPrc-W"
      }
    },
    {
      "cell_type": "code",
      "source": [
        "def findMaxLength(nums):\n",
        "    max_len = 0\n",
        "    count = 0\n",
        "    hash_map = {0: -1}\n",
        "\n",
        "    for i in range(len(nums)):\n",
        "        if nums[i] == 0:\n",
        "            count -= 1\n",
        "        else:\n",
        "            count += 1\n",
        "\n",
        "        if count in hash_map:\n",
        "            max_len = max(max_len, i - hash_map[count])\n",
        "        else:\n",
        "            hash_map[count] = i\n",
        "\n",
        "    return max_len\n"
      ],
      "metadata": {
        "id": "p9DTktLorjEt"
      },
      "execution_count": 7,
      "outputs": []
    },
    {
      "cell_type": "code",
      "source": [
        "nums = [0, 2]\n",
        "print(findMaxLength(nums))\n"
      ],
      "metadata": {
        "colab": {
          "base_uri": "https://localhost:8080/"
        },
        "id": "smmcasY5tIYY",
        "outputId": "1101100e-f336-4530-ef27-fce2ada644bf"
      },
      "execution_count": 32,
      "outputs": [
        {
          "output_type": "stream",
          "name": "stdout",
          "text": [
            "2\n"
          ]
        }
      ]
    },
    {
      "cell_type": "markdown",
      "source": [
        "Question 5\n",
        "\n",
        "The **product sum** of two equal-length arrays a and b is equal to the sum of a[i] * b[i] for all 0 <= i < a.length (**0-indexed**).\n",
        "\n",
        "- For example, if a = [1,2,3,4] and b = [5,2,3,1], the **product sum** would be 1*5 + 2*2 + 3*3 + 4*1 = 22.\n",
        "\n",
        "Given two arrays nums1 and nums2 of length n, return *the **minimum product sum** if you are allowed to **rearrange** the **order** of the elements in* nums1.\n"
      ],
      "metadata": {
        "id": "EKHXLYoGrjP9"
      }
    },
    {
      "cell_type": "code",
      "source": [
        "def minProductSum(nums1, nums2):\n",
        "    nums1.sort()\n",
        "    nums2.sort()\n",
        "\n",
        "    min_product_sum = 0\n",
        "    n = len(nums1)\n",
        "\n",
        "    for i in range(n):\n",
        "        min_product_sum += nums1[i] * nums2[n - i - 1]\n",
        "\n",
        "    return min_product_sum\n"
      ],
      "metadata": {
        "id": "q38871kYrnp8"
      },
      "execution_count": 9,
      "outputs": []
    },
    {
      "cell_type": "code",
      "source": [
        "nums1 = [6 ,3, 8, 2]\n",
        "nums2 = [8, 2, 2, 6]\n",
        "print(minProductSum(nums1, nums2))\n"
      ],
      "metadata": {
        "colab": {
          "base_uri": "https://localhost:8080/"
        },
        "id": "B-Wy6RW9tW9r",
        "outputId": "92592dba-a519-48e9-f8b3-9e97fb4ecccd"
      },
      "execution_count": 33,
      "outputs": [
        {
          "output_type": "stream",
          "name": "stdout",
          "text": [
            "62\n"
          ]
        }
      ]
    },
    {
      "cell_type": "markdown",
      "source": [
        "\n",
        "Question 6\n",
        "\n",
        "An integer array original is transformed into a **doubled** array changed by appending **twice the value** of every element in original, and then randomly **shuffling** the resulting array.\n",
        "\n",
        "Given an array changed, return original *if* changed *is a **doubled** array. If* changed *is not a **doubled** array, return an empty array. The elements in* original *may be returned in **any** order*.\n"
      ],
      "metadata": {
        "id": "NxW0wX7brn1C"
      }
    },
    {
      "cell_type": "code",
      "source": [
        "from collections import defaultdict\n",
        "\n",
        "def findOriginalArray(changed):\n",
        "    count = defaultdict(int)\n",
        "\n",
        "    for num in changed:\n",
        "        count[num] += 1\n",
        "\n",
        "    original = []\n",
        "\n",
        "    for num in sorted(changed):\n",
        "        if count[num] == 0:\n",
        "            continue\n",
        "\n",
        "        if count[num * 2] == 0:\n",
        "            return []\n",
        "\n",
        "        original.append(num)\n",
        "        count[num] -= 1\n",
        "        count[num * 2] -= 1\n",
        "\n",
        "    return original\n"
      ],
      "metadata": {
        "id": "TTXhlGTQrsqc"
      },
      "execution_count": 18,
      "outputs": []
    },
    {
      "cell_type": "code",
      "source": [
        "changed = [1, 3, 4, 2, 6, 8]\n",
        "print(findOriginalArray(changed))\n",
        "\n"
      ],
      "metadata": {
        "colab": {
          "base_uri": "https://localhost:8080/"
        },
        "id": "ZptpFX1HtkBr",
        "outputId": "fe3b3c32-ac4f-41f5-8f86-f8a23994ed8e"
      },
      "execution_count": 42,
      "outputs": [
        {
          "output_type": "stream",
          "name": "stdout",
          "text": [
            "[1, 3, 4]\n"
          ]
        }
      ]
    },
    {
      "cell_type": "markdown",
      "source": [
        "Question 7\n",
        "\n",
        "Given a positive integer n, generate an n x n matrix filled with elements from 1 to n2 in spiral order.\n",
        "\n"
      ],
      "metadata": {
        "id": "v6GBVc6WrszX"
      }
    },
    {
      "cell_type": "code",
      "source": [
        "def generateMatrix(n):\n",
        "    matrix = [[0] * n for _ in range(n)]\n",
        "    num = 1\n",
        "    row_start, row_end = 0, n - 1\n",
        "    col_start, col_end = 0, n - 1\n",
        "\n",
        "    while num <= n * n:\n",
        "        for j in range(col_start, col_end + 1):\n",
        "            matrix[row_start][j] = num\n",
        "            num += 1\n",
        "        row_start += 1\n",
        "\n",
        "        for i in range(row_start, row_end + 1):\n",
        "            matrix[i][col_end] = num\n",
        "            num += 1\n",
        "        col_end -= 1\n",
        "\n",
        "        for j in range(col_end, col_start - 1, -1):\n",
        "            matrix[row_end][j] = num\n",
        "            num += 1\n",
        "        row_end -= 1\n",
        "\n",
        "        for i in range(row_end, row_start - 1, -1):\n",
        "            matrix[i][col_start] = num\n",
        "            num += 1\n",
        "        col_start += 1\n",
        "\n",
        "    return matrix\n"
      ],
      "metadata": {
        "id": "acldHRX-rw97"
      },
      "execution_count": 20,
      "outputs": []
    },
    {
      "cell_type": "code",
      "source": [
        "n = 4\n",
        "print(generateMatrix(n))\n"
      ],
      "metadata": {
        "colab": {
          "base_uri": "https://localhost:8080/"
        },
        "id": "qHMTi-nUuUph",
        "outputId": "3600182f-29fe-48ae-f7b5-14fc0e7ee0aa"
      },
      "execution_count": 44,
      "outputs": [
        {
          "output_type": "stream",
          "name": "stdout",
          "text": [
            "[[1, 2, 3, 4], [12, 13, 14, 5], [11, 16, 15, 6], [10, 9, 8, 7]]\n"
          ]
        }
      ]
    },
    {
      "cell_type": "markdown",
      "source": [
        "Question 8\n",
        "\n",
        "Given two [sparse matrices](https://en.wikipedia.org/wiki/Sparse_matrix) mat1 of size m x k and mat2 of size k x n, return the result of mat1 x mat2. You may assume that multiplication is always possible.\n"
      ],
      "metadata": {
        "id": "uwgus0F9rxHr"
      }
    },
    {
      "cell_type": "code",
      "source": [
        "def multiply(mat1, mat2):\n",
        "    m = len(mat1)\n",
        "    k = len(mat1[0])\n",
        "    n = len(mat2[0])\n",
        "\n",
        "    result = [[0] * n for _ in range(m)]\n",
        "\n",
        "    for i in range(m):\n",
        "        for j in range(k):\n",
        "            if mat1[i][j] != 0:\n",
        "                for col in range(n):\n",
        "                    if mat2[j][col] != 0:\n",
        "                        result[i][col] += mat1[i][j] * mat2[j][col]\n",
        "\n",
        "    return result\n"
      ],
      "metadata": {
        "id": "r1GMsbh9r1xz"
      },
      "execution_count": 25,
      "outputs": []
    },
    {
      "cell_type": "code",
      "source": [
        "mat1 = [[2, 0, 0], [-2, 0, 4]]\n",
        "mat2 = [[9, 0, 0], [0, 0, 0], [0, 0, 1]]\n",
        "print(multiply(mat1, mat2))\n"
      ],
      "metadata": {
        "colab": {
          "base_uri": "https://localhost:8080/"
        },
        "id": "G1SzERMWusdq",
        "outputId": "4dae96e1-7815-4e56-aee4-cea3f740bc82"
      },
      "execution_count": 45,
      "outputs": [
        {
          "output_type": "stream",
          "name": "stdout",
          "text": [
            "[[18, 0, 0], [-18, 0, 4]]\n"
          ]
        }
      ]
    },
    {
      "cell_type": "code",
      "source": [],
      "metadata": {
        "id": "OuV3A-IWwAPj"
      },
      "execution_count": null,
      "outputs": []
    }
  ]
}