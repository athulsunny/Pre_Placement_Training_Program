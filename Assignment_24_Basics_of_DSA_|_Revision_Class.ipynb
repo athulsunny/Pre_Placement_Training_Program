{
  "nbformat": 4,
  "nbformat_minor": 0,
  "metadata": {
    "colab": {
      "provenance": [],
      "include_colab_link": true
    },
    "kernelspec": {
      "name": "python3",
      "display_name": "Python 3"
    },
    "language_info": {
      "name": "python"
    }
  },
  "cells": [
    {
      "cell_type": "markdown",
      "metadata": {
        "id": "view-in-github",
        "colab_type": "text"
      },
      "source": [
        "<a href=\"https://colab.research.google.com/github/athulsunny/Pre_Placement_Training_Program/blob/main/Assignment_24_Basics_of_DSA_%7C_Revision_Class.ipynb\" target=\"_parent\"><img src=\"https://colab.research.google.com/assets/colab-badge.svg\" alt=\"Open In Colab\"/></a>"
      ]
    },
    {
      "cell_type": "markdown",
      "source": [
        "Question 1"
      ],
      "metadata": {
        "id": "YpisgXPnL1Jo"
      }
    },
    {
      "cell_type": "code",
      "source": [
        "def roman_to_integer(s):\n",
        "    roman_to_int = {\n",
        "        'I': 1,\n",
        "        'V': 5,\n",
        "        'X': 10,\n",
        "        'L': 50,\n",
        "        'C': 100,\n",
        "        'D': 500,\n",
        "        'M': 1000\n",
        "    }\n",
        "    result = 0\n",
        "    prev_value = 0\n",
        "\n",
        "\n",
        "    for c in reversed(s):\n",
        "        value = roman_to_int[c]\n",
        "\n",
        "        if value < prev_value:\n",
        "            result -= value\n",
        "        else:\n",
        "            result += value\n",
        "\n",
        "        prev_value = value\n",
        "\n",
        "    return result\n",
        "\n",
        "\n",
        "\n",
        "roman_numeral = \"LVIII\"\n",
        "integer_value = roman_to_integer(roman_numeral)\n",
        "print(\"Integer value:\", integer_value)\n"
      ],
      "metadata": {
        "id": "0YTlXJ0iL2vd",
        "colab": {
          "base_uri": "https://localhost:8080/"
        },
        "outputId": "0bdf741b-4095-4bb5-ca70-024819d18bd9"
      },
      "execution_count": 2,
      "outputs": [
        {
          "output_type": "stream",
          "name": "stdout",
          "text": [
            "Integer value: 58\n"
          ]
        }
      ]
    },
    {
      "cell_type": "markdown",
      "source": [
        "Question 2"
      ],
      "metadata": {
        "id": "OpP66UQnMBCe"
      }
    },
    {
      "cell_type": "code",
      "source": [
        "def length_of_longest_substring(s):\n",
        "    char_map = {}\n",
        "    max_length = 0\n",
        "    start = 0\n",
        "\n",
        "    for end in range(len(s)):\n",
        "        if s[end] in char_map:\n",
        "\n",
        "            start = max(start, char_map[s[end]] + 1)\n",
        "\n",
        "        char_map[s[end]] = end\n",
        "        max_length = max(max_length, end - start + 1)\n",
        "\n",
        "    return max_length\n",
        "\n",
        "\n",
        "string = \"abcabcbb\"\n",
        "length = length_of_longest_substring(string)\n",
        "print(\"Length of the longest substring without repeating characters:\", length)\n"
      ],
      "metadata": {
        "id": "1xNRtq-SMC1z",
        "colab": {
          "base_uri": "https://localhost:8080/"
        },
        "outputId": "a8529887-91db-4f39-cdf1-68f7cd98c9d0"
      },
      "execution_count": 3,
      "outputs": [
        {
          "output_type": "stream",
          "name": "stdout",
          "text": [
            "Length of the longest substring without repeating characters: 3\n"
          ]
        }
      ]
    },
    {
      "cell_type": "markdown",
      "source": [
        "Question 3"
      ],
      "metadata": {
        "id": "ByY4IjU7MDDV"
      }
    },
    {
      "cell_type": "code",
      "source": [
        "def majority_element(nums):\n",
        "    candidate = None\n",
        "    count = 0\n",
        "\n",
        "    for num in nums:\n",
        "        if count == 0:\n",
        "            candidate = num\n",
        "            count = 1\n",
        "        elif num == candidate:\n",
        "            count += 1\n",
        "        else:\n",
        "            count -= 1\n",
        "\n",
        "    return candidate\n",
        "\n",
        "\n",
        "\n",
        "nums = [2, 2, 1, 1, 1, 2, 2]\n",
        "majority = majority_element(nums)\n",
        "print(\"Majority element:\", majority)\n"
      ],
      "metadata": {
        "id": "C1DfUACnMEdd",
        "colab": {
          "base_uri": "https://localhost:8080/"
        },
        "outputId": "f0717021-ae48-4a78-a9e1-e27a0e814634"
      },
      "execution_count": 4,
      "outputs": [
        {
          "output_type": "stream",
          "name": "stdout",
          "text": [
            "Majority element: 2\n"
          ]
        }
      ]
    },
    {
      "cell_type": "markdown",
      "source": [
        "Question 4"
      ],
      "metadata": {
        "id": "SDsqxVZlMEo3"
      }
    },
    {
      "cell_type": "code",
      "source": [
        "from collections import defaultdict\n",
        "\n",
        "\n",
        "def group_anagrams(strs):\n",
        "    anagram_map = defaultdict(list)\n",
        "\n",
        "    for string in strs:\n",
        "        sorted_string = ''.join(sorted(string))\n",
        "        anagram_map[sorted_string].append(string)\n",
        "\n",
        "    return list(anagram_map.values())\n",
        "\n",
        "\n",
        "strs = [\"eat\", \"tea\", \"tan\", \"ate\", \"nat\", \"bat\"]\n",
        "anagram_groups = group_anagrams(strs)\n",
        "print(\"Anagram groups:\", anagram_groups)\n"
      ],
      "metadata": {
        "id": "1Ltbp19SMGuG",
        "colab": {
          "base_uri": "https://localhost:8080/"
        },
        "outputId": "8877cae7-a3d7-4348-a3a3-9c2cfa46a19f"
      },
      "execution_count": 5,
      "outputs": [
        {
          "output_type": "stream",
          "name": "stdout",
          "text": [
            "Anagram groups: [['eat', 'tea', 'ate'], ['tan', 'nat'], ['bat']]\n"
          ]
        }
      ]
    },
    {
      "cell_type": "markdown",
      "source": [
        "Question 5"
      ],
      "metadata": {
        "id": "hAUVPCgdMHlC"
      }
    },
    {
      "cell_type": "code",
      "source": [
        "def nth_ugly_number(n):\n",
        "    ugly_numbers = [1]\n",
        "    p2 = p3 = p5 = 0\n",
        "\n",
        "    for _ in range(1, n):\n",
        "        next_ugly_number = min(ugly_numbers[p2] * 2, ugly_numbers[p3] * 3, ugly_numbers[p5] * 5)\n",
        "        ugly_numbers.append(next_ugly_number)\n",
        "\n",
        "        if next_ugly_number == ugly_numbers[p2] * 2:\n",
        "            p2 += 1\n",
        "        if next_ugly_number == ugly_numbers[p3] * 3:\n",
        "            p3 += 1\n",
        "        if next_ugly_number == ugly_numbers[p5] * 5:\n",
        "            p5 += 1\n",
        "\n",
        "    return ugly_numbers[-1]\n",
        "\n",
        "\n",
        "\n",
        "n = 10\n",
        "ugly_number = nth_ugly_number(n)\n",
        "print(\"The\", n, \"th ugly number is:\", ugly_number)\n"
      ],
      "metadata": {
        "id": "rTrU9wX9MIck",
        "colab": {
          "base_uri": "https://localhost:8080/"
        },
        "outputId": "3d8abb16-6306-4322-e327-ee0ef61a2e02"
      },
      "execution_count": 6,
      "outputs": [
        {
          "output_type": "stream",
          "name": "stdout",
          "text": [
            "The 10 th ugly number is: 12\n"
          ]
        }
      ]
    },
    {
      "cell_type": "markdown",
      "source": [
        "Question 6"
      ],
      "metadata": {
        "id": "eiLARlJHMJq2"
      }
    },
    {
      "cell_type": "code",
      "source": [
        "from collections import Counter\n",
        "\n",
        "\n",
        "def top_k_frequent_words(words, k):\n",
        "    word_count = Counter(words)\n",
        "\n",
        "    sorted_words = sorted(word_count.keys(), key=lambda w: (-word_count[w], w))\n",
        "\n",
        "    return sorted_words[:k]\n",
        "\n",
        "\n",
        "\n",
        "words = [\"i\", \"love\", \"leetcode\", \"i\", \"love\", \"coding\"]\n",
        "k = 2\n",
        "top_k = top_k_frequent_words(words, k)\n",
        "print(\"Top\", k, \"frequent words:\", top_k)\n"
      ],
      "metadata": {
        "id": "ERR-XAwyMMDZ",
        "colab": {
          "base_uri": "https://localhost:8080/"
        },
        "outputId": "a388911f-3619-4a47-b3be-ee8f3402b16a"
      },
      "execution_count": 9,
      "outputs": [
        {
          "output_type": "stream",
          "name": "stdout",
          "text": [
            "Top 2 frequent words: ['i', 'love']\n"
          ]
        }
      ]
    },
    {
      "cell_type": "markdown",
      "source": [
        "Question 7"
      ],
      "metadata": {
        "id": "yfnh8UyqMN1l"
      }
    },
    {
      "cell_type": "code",
      "source": [
        "from collections import deque\n",
        "\n",
        "\n",
        "def max_sliding_window(nums, k):\n",
        "    result = []\n",
        "    window = deque()\n",
        "\n",
        "    for i, num in enumerate(nums):\n",
        "\n",
        "        if window and window[0] <= i - k:\n",
        "            window.popleft()\n",
        "\n",
        "\n",
        "        while window and nums[window[-1]] < num:\n",
        "            window.pop()\n",
        "\n",
        "\n",
        "        window.append(i)\n",
        "\n",
        "\n",
        "        if i >= k - 1:\n",
        "            result.append(nums[window[0]])\n",
        "\n",
        "    return result\n",
        "\n",
        "\n",
        "\n",
        "nums = [1, 3, -1, -3, 5, 3, 6, 7]\n",
        "k = 3\n",
        "max_window = max_sliding_window(nums, k)\n",
        "print(\"Max sliding window:\", max_window)\n"
      ],
      "metadata": {
        "id": "6U_J8T2LMPCk",
        "colab": {
          "base_uri": "https://localhost:8080/"
        },
        "outputId": "380e49c3-9c6c-4297-df7c-a05cc52b8f46"
      },
      "execution_count": 10,
      "outputs": [
        {
          "output_type": "stream",
          "name": "stdout",
          "text": [
            "Max sliding window: [3, 3, 5, 5, 6, 7]\n"
          ]
        }
      ]
    },
    {
      "cell_type": "markdown",
      "source": [
        "Question 8"
      ],
      "metadata": {
        "id": "Rug_pE_YMP2f"
      }
    },
    {
      "cell_type": "code",
      "source": [
        "def find_closest_elements(arr, k, x):\n",
        "    left = 0\n",
        "    right = len(arr) - 1\n",
        "\n",
        "    while right - left + 1 > k:\n",
        "        if abs(arr[left] - x) <= abs(arr[right] - x):\n",
        "            right -= 1\n",
        "        else:\n",
        "            left += 1\n",
        "\n",
        "    return arr[left:right + 1]\n",
        "\n",
        "\n",
        "arr = [1, 2, 3, 4, 5]\n",
        "k = 4\n",
        "x = 3\n",
        "closest_elements = find_closest_elements(arr, k, x)\n",
        "print(\"Closest elements:\", closest_elements)\n"
      ],
      "metadata": {
        "id": "PYScjH4MMRCc",
        "colab": {
          "base_uri": "https://localhost:8080/"
        },
        "outputId": "7e06f2b4-ce9b-458c-9a73-fcb6ed90e6b0"
      },
      "execution_count": 11,
      "outputs": [
        {
          "output_type": "stream",
          "name": "stdout",
          "text": [
            "Closest elements: [1, 2, 3, 4]\n"
          ]
        }
      ]
    }
  ]
}