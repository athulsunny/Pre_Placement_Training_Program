{
  "nbformat": 4,
  "nbformat_minor": 0,
  "metadata": {
    "colab": {
      "provenance": [],
      "authorship_tag": "ABX9TyOchTGzcpi2poxI+oq+Vnx9",
      "include_colab_link": true
    },
    "kernelspec": {
      "name": "python3",
      "display_name": "Python 3"
    },
    "language_info": {
      "name": "python"
    }
  },
  "cells": [
    {
      "cell_type": "markdown",
      "metadata": {
        "id": "view-in-github",
        "colab_type": "text"
      },
      "source": [
        "<a href=\"https://colab.research.google.com/github/athulsunny/Pre_Placement_Training_Program/blob/main/Assignment_20_Tree.ipynb\" target=\"_parent\"><img src=\"https://colab.research.google.com/assets/colab-badge.svg\" alt=\"Open In Colab\"/></a>"
      ]
    },
    {
      "cell_type": "markdown",
      "source": [
        "Question-1\n",
        "\n",
        "Given a binary tree, your task is to find subtree with maximum sum in tree.\n"
      ],
      "metadata": {
        "id": "yF-U94vKS59J"
      }
    },
    {
      "cell_type": "code",
      "source": [
        "class Node:\n",
        "    def __init__(self, data):\n",
        "        self.data = data\n",
        "        self.left = None\n",
        "        self.right = None\n",
        "\n",
        "\n",
        "def find_max_subtree_sum(root):\n",
        "    max_sum = float('-inf')\n",
        "\n",
        "    def postorder(node):\n",
        "        nonlocal max_sum\n",
        "\n",
        "        if node is None:\n",
        "            return 0\n",
        "\n",
        "        left_sum = postorder(node.left)\n",
        "        right_sum = postorder(node.right)\n",
        "\n",
        "        subtree_sum = node.data + left_sum + right_sum\n",
        "\n",
        "        max_sum = max(max_sum, subtree_sum)\n",
        "\n",
        "        return subtree_sum\n",
        "\n",
        "    postorder(root)\n",
        "    return max_sum\n",
        "\n",
        "\n",
        "root1 = Node(1)\n",
        "root1.left = Node(-2)\n",
        "root1.right = Node(3)\n",
        "root1.left.left = Node(4)\n",
        "root1.left.right = Node(-5)\n",
        "root1.right.left = Node(6)\n",
        "root1.right.right = Node(-7)\n",
        "\n",
        "print(\"Output1:\", find_max_subtree_sum(root1))"
      ],
      "metadata": {
        "colab": {
          "base_uri": "https://localhost:8080/"
        },
        "id": "akNaBilmS-JB",
        "outputId": "f8e2b65f-bc2f-4cb3-bae4-541df0dad377"
      },
      "execution_count": 4,
      "outputs": [
        {
          "output_type": "stream",
          "name": "stdout",
          "text": [
            "Output1: 6\n"
          ]
        }
      ]
    },
    {
      "cell_type": "markdown",
      "source": [
        "Question-2\n",
        "\n",
        "Construct the BST (Binary Search Tree) from its given level order traversal.\n"
      ],
      "metadata": {
        "id": "L-moVc3vS-t8"
      }
    },
    {
      "cell_type": "code",
      "source": [
        "class Node:\n",
        "    def __init__(self, data):\n",
        "        self.data = data\n",
        "        self.left = None\n",
        "        self.right = None\n",
        "\n",
        "\n",
        "def construct_bst(arr):\n",
        "    if not arr:\n",
        "        return None\n",
        "\n",
        "    root = Node(arr[0])\n",
        "    n = len(arr)\n",
        "    i = 1\n",
        "\n",
        "    while i < n:\n",
        "        node = Node(arr[i])\n",
        "        current = root\n",
        "\n",
        "        while True:\n",
        "            if arr[i] < current.data:\n",
        "                if current.left is None:\n",
        "                    current.left = node\n",
        "                    break\n",
        "                current = current.left\n",
        "            else:\n",
        "                if current.right is None:\n",
        "                    current.right = node\n",
        "                    break\n",
        "                current = current.right\n",
        "\n",
        "        i += 1\n",
        "\n",
        "    return root\n",
        "\n",
        "\n",
        "arr = [7, 4, 12, 3, 6, 8, 1, 5, 10]\n",
        "bst_root = construct_bst(arr)\n",
        "\n",
        "\n",
        "def inorder(node):\n",
        "    if node is None:\n",
        "        return\n",
        "    inorder(node.left)\n",
        "    print(node.data, end=\" \")\n",
        "    inorder(node.right)\n",
        "\n",
        "print(\"BST:\")\n",
        "inorder(bst_root)\n"
      ],
      "metadata": {
        "colab": {
          "base_uri": "https://localhost:8080/"
        },
        "id": "WSf0q6ymTEBc",
        "outputId": "eca84e46-e40c-4980-f8dd-67fbd6662779"
      },
      "execution_count": 5,
      "outputs": [
        {
          "output_type": "stream",
          "name": "stdout",
          "text": [
            "BST:\n",
            "1 3 4 5 6 7 8 10 12 "
          ]
        }
      ]
    },
    {
      "cell_type": "markdown",
      "source": [
        "Question-3\n",
        "\n",
        "Given an array of size n. The problem is to check whether the given array can represent the level order traversal of a Binary Search Tree or not.\n"
      ],
      "metadata": {
        "id": "vM1jvwMaTEMr"
      }
    },
    {
      "cell_type": "code",
      "source": [
        "from collections import deque\n",
        "\n",
        "\n",
        "class Node:\n",
        "    def __init__(self, data):\n",
        "        self.data = data\n",
        "        self.left = None\n",
        "        self.right = None\n",
        "\n",
        "\n",
        "def check_level_order_bst(arr):\n",
        "    if not arr:\n",
        "        return \"No\"\n",
        "\n",
        "    queue = deque()\n",
        "    queue.append((Node(arr[0]), float('-inf'), float('inf')))\n",
        "    idx = 1\n",
        "\n",
        "    while queue:\n",
        "        node, min_val, max_val = queue.popleft()\n",
        "\n",
        "        if idx < len(arr):\n",
        "            if arr[idx] < node.data and min_val < arr[idx] < max_val:\n",
        "                node.left = Node(arr[idx])\n",
        "                queue.append((node.left, min_val, node.data))\n",
        "                idx += 1\n",
        "\n",
        "        if idx < len(arr):\n",
        "            if arr[idx] > node.data and min_val < arr[idx] < max_val:\n",
        "                node.right = Node(arr[idx])\n",
        "                queue.append((node.right, node.data, max_val))\n",
        "                idx += 1\n",
        "\n",
        "    return \"Yes\" if idx >= len(arr) else \"No\"\n",
        "\n",
        "\n",
        "arr1 = [7, 4, 12, 3, 6, 8, 1, 5, 10]\n",
        "print(\"Output1:\", check_level_order_bst(arr1))\n",
        "\n",
        "arr2 = [11, 4, 15, 9, 10, 8]\n",
        "print(\"Output2:\", check_level_order_bst(arr2))\n"
      ],
      "metadata": {
        "colab": {
          "base_uri": "https://localhost:8080/"
        },
        "id": "ZXBxJxmCTHp7",
        "outputId": "622b9d31-f0bf-4970-893e-e77574e7405e"
      },
      "execution_count": 12,
      "outputs": [
        {
          "output_type": "stream",
          "name": "stdout",
          "text": [
            "Output1: Yes\n",
            "Output2: No\n"
          ]
        }
      ]
    }
  ]
}