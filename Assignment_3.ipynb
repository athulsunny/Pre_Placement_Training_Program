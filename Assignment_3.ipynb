{
  "nbformat": 4,
  "nbformat_minor": 0,
  "metadata": {
    "colab": {
      "provenance": [],
      "include_colab_link": true
    },
    "kernelspec": {
      "name": "python3",
      "display_name": "Python 3"
    },
    "language_info": {
      "name": "python"
    }
  },
  "cells": [
    {
      "cell_type": "markdown",
      "metadata": {
        "id": "view-in-github",
        "colab_type": "text"
      },
      "source": [
        "<a href=\"https://colab.research.google.com/github/athulsunny/Pre_Placement_Training_Program/blob/main/Assignment_3.ipynb\" target=\"_parent\"><img src=\"https://colab.research.google.com/assets/colab-badge.svg\" alt=\"Open In Colab\"/></a>"
      ]
    },
    {
      "cell_type": "markdown",
      "source": [
        "Question 1"
      ],
      "metadata": {
        "id": "YpisgXPnL1Jo"
      }
    },
    {
      "cell_type": "code",
      "source": [
        "def calculate_mean_sales(region_data):\n",
        "    total_sales = sum(region_data)\n",
        "    num_sales = len(region_data)\n",
        "    mean_sales = total_sales / num_sales\n",
        "    return mean_sales\n",
        "\n",
        "# Sales data for Region A\n",
        "region_a_sales = [10, 15, 12, 8, 14]\n",
        "mean_sales_region_a = calculate_mean_sales(region_a_sales)\n",
        "\n",
        "# Sales data for Region B\n",
        "region_b_sales = [18, 20, 16, 22, 25]\n",
        "mean_sales_region_b = calculate_mean_sales(region_b_sales)\n",
        "\n",
        "# Print the mean sales for each region\n",
        "print(\"Mean sales for Region A:\", mean_sales_region_a)\n",
        "print(\"Mean sales for Region B:\", mean_sales_region_b)\n"
      ],
      "metadata": {
        "id": "0YTlXJ0iL2vd",
        "colab": {
          "base_uri": "https://localhost:8080/"
        },
        "outputId": "ec79a25e-0b2d-4eea-ee72-124fa34488cb"
      },
      "execution_count": 1,
      "outputs": [
        {
          "output_type": "stream",
          "name": "stdout",
          "text": [
            "Mean sales for Region A: 11.8\n",
            "Mean sales for Region B: 20.2\n"
          ]
        }
      ]
    },
    {
      "cell_type": "markdown",
      "source": [
        "Question 2"
      ],
      "metadata": {
        "id": "OpP66UQnMBCe"
      }
    },
    {
      "cell_type": "code",
      "source": [
        "from collections import Counter\n",
        "\n",
        "def calculate_mode(data):\n",
        "    counter = Counter(data)\n",
        "    max_count = max(counter.values())\n",
        "    mode = [value for value, count in counter.items() if count == max_count]\n",
        "    return mode\n",
        "\n",
        "# Survey responses\n",
        "survey_data = [4, 5, 2, 3, 5, 4, 3, 2, 4, 5]\n",
        "mode_survey = calculate_mode(survey_data)\n",
        "\n",
        "# Print the mode of the survey responses\n",
        "print(\"Mode of the survey responses:\", mode_survey)\n"
      ],
      "metadata": {
        "id": "1xNRtq-SMC1z",
        "colab": {
          "base_uri": "https://localhost:8080/"
        },
        "outputId": "9fe14397-9cfd-43e2-e113-c1f322f460dc"
      },
      "execution_count": 2,
      "outputs": [
        {
          "output_type": "stream",
          "name": "stdout",
          "text": [
            "Mode of the survey responses: [4, 5]\n"
          ]
        }
      ]
    },
    {
      "cell_type": "markdown",
      "source": [
        "Question 3"
      ],
      "metadata": {
        "id": "ByY4IjU7MDDV"
      }
    },
    {
      "cell_type": "code",
      "source": [
        "def calculate_median(salary_data):\n",
        "    sorted_data = sorted(salary_data)\n",
        "    num_salaries = len(sorted_data)\n",
        "\n",
        "    if num_salaries % 2 == 0:\n",
        "        mid = num_salaries // 2\n",
        "        median = (sorted_data[mid - 1] + sorted_data[mid]) / 2\n",
        "    else:\n",
        "        mid = num_salaries // 2\n",
        "        median = sorted_data[mid]\n",
        "\n",
        "    return median\n",
        "\n",
        "# Salary data for Department A\n",
        "department_a_salaries = [5000, 6000, 5500, 7000]\n",
        "median_salary_department_a = calculate_median(department_a_salaries)\n",
        "\n",
        "# Salary data for Department B\n",
        "department_b_salaries = [4500, 5500, 5800, 6000, 5200]\n",
        "median_salary_department_b = calculate_median(department_b_salaries)\n",
        "\n",
        "# Print the median salary for each department\n",
        "print(\"Median salary for Department A:\", median_salary_department_a)\n",
        "print(\"Median salary for Department B:\", median_salary_department_b)\n"
      ],
      "metadata": {
        "id": "C1DfUACnMEdd",
        "colab": {
          "base_uri": "https://localhost:8080/"
        },
        "outputId": "8a134cdb-c6f1-420d-c45a-c57e15a3d3a3"
      },
      "execution_count": 3,
      "outputs": [
        {
          "output_type": "stream",
          "name": "stdout",
          "text": [
            "Median salary for Department A: 5750.0\n",
            "Median salary for Department B: 5500\n"
          ]
        }
      ]
    },
    {
      "cell_type": "markdown",
      "source": [
        "Question 4"
      ],
      "metadata": {
        "id": "SDsqxVZlMEo3"
      }
    },
    {
      "cell_type": "code",
      "source": [
        "def calculate_range(stock_prices):\n",
        "    min_price = min(stock_prices)\n",
        "    max_price = max(stock_prices)\n",
        "    price_range = max_price - min_price\n",
        "    return price_range\n",
        "\n",
        "# Stock price data\n",
        "stock_prices = [25.5, 24.8, 26.1, 25.3, 24.9]\n",
        "price_range = calculate_range(stock_prices)\n",
        "\n",
        "# Print the range of the stock prices\n",
        "print(\"Range of the stock prices:\", price_range)\n"
      ],
      "metadata": {
        "id": "1Ltbp19SMGuG",
        "colab": {
          "base_uri": "https://localhost:8080/"
        },
        "outputId": "f97ce0e4-bd74-458e-dd29-6ecc092baca1"
      },
      "execution_count": 6,
      "outputs": [
        {
          "output_type": "stream",
          "name": "stdout",
          "text": [
            "Range of the stock prices: 1.3000000000000007\n"
          ]
        }
      ]
    },
    {
      "cell_type": "markdown",
      "source": [
        "Question 5"
      ],
      "metadata": {
        "id": "hAUVPCgdMHlC"
      }
    },
    {
      "cell_type": "code",
      "source": [
        "from scipy.stats import ttest_ind\n",
        "\n",
        "def perform_ttest(group_a_scores, group_b_scores):\n",
        "    t_statistic, p_value = ttest_ind(group_a_scores, group_b_scores)\n",
        "    return t_statistic, p_value\n",
        "\n",
        "# Test scores for Group A\n",
        "group_a_scores = [85, 90, 92, 88, 91]\n",
        "\n",
        "# Test scores for Group B\n",
        "group_b_scores = [82, 88, 90, 86, 87]\n",
        "\n",
        "# Perform the t-test\n",
        "t_stat, p_val = perform_ttest(group_a_scores, group_b_scores)\n",
        "\n",
        "# Print the t-statistic and p-value\n",
        "print(\"T-statistic:\", t_stat)\n",
        "print(\"P-value:\", p_val)\n"
      ],
      "metadata": {
        "id": "rTrU9wX9MIck",
        "colab": {
          "base_uri": "https://localhost:8080/"
        },
        "outputId": "7d6e58ce-eba7-4765-e08d-288df444bd27"
      },
      "execution_count": 5,
      "outputs": [
        {
          "output_type": "stream",
          "name": "stdout",
          "text": [
            "T-statistic: 1.4312528946642733\n",
            "P-value: 0.19023970239078333\n"
          ]
        }
      ]
    },
    {
      "cell_type": "markdown",
      "source": [
        "Question 6"
      ],
      "metadata": {
        "id": "eiLARlJHMJq2"
      }
    },
    {
      "cell_type": "code",
      "source": [
        "import numpy as np\n",
        "\n",
        "def calculate_correlation(x, y):\n",
        "    correlation_coefficient = np.corrcoef(x, y)[0, 1]\n",
        "    return correlation_coefficient\n",
        "\n",
        "# Advertising expenditure data (in thousands)\n",
        "advertising_expenditure = [10, 15, 12, 8, 14]\n",
        "\n",
        "# Sales data (in thousands)\n",
        "sales = [25, 30, 28, 20, 26]\n",
        "\n",
        "# Calculate the correlation coefficient\n",
        "correlation = calculate_correlation(advertising_expenditure, sales)\n",
        "\n",
        "# Print the correlation coefficient\n",
        "print(\"Correlation coefficient:\", correlation)\n"
      ],
      "metadata": {
        "id": "ERR-XAwyMMDZ",
        "colab": {
          "base_uri": "https://localhost:8080/"
        },
        "outputId": "28163392-3d88-4ff5-fed0-7a200d5b1ca9"
      },
      "execution_count": 7,
      "outputs": [
        {
          "output_type": "stream",
          "name": "stdout",
          "text": [
            "Correlation coefficient: 0.8757511375750132\n"
          ]
        }
      ]
    },
    {
      "cell_type": "markdown",
      "source": [
        "Question 7"
      ],
      "metadata": {
        "id": "yfnh8UyqMN1l"
      }
    },
    {
      "cell_type": "code",
      "source": [
        "import numpy as np\n",
        "\n",
        "def calculate_standard_deviation(data):\n",
        "    standard_deviation = np.std(data)\n",
        "    return standard_deviation\n",
        "\n",
        "# Heights data\n",
        "heights = [160, 170, 165, 155, 175, 180, 170]\n",
        "\n",
        "# Calculate the standard deviation\n",
        "standard_deviation = calculate_standard_deviation(heights)\n",
        "\n",
        "# Print the standard deviation\n",
        "print(\"Standard deviation of heights:\", standard_deviation)\n"
      ],
      "metadata": {
        "id": "6U_J8T2LMPCk",
        "colab": {
          "base_uri": "https://localhost:8080/"
        },
        "outputId": "6622e3fa-6191-483e-e7fd-9188e1b7606c"
      },
      "execution_count": 8,
      "outputs": [
        {
          "output_type": "stream",
          "name": "stdout",
          "text": [
            "Standard deviation of heights: 7.953949089757174\n"
          ]
        }
      ]
    },
    {
      "cell_type": "markdown",
      "source": [
        "Question 8"
      ],
      "metadata": {
        "id": "Rug_pE_YMP2f"
      }
    },
    {
      "cell_type": "code",
      "source": [
        "import numpy as np\n",
        "from scipy import stats\n",
        "\n",
        "def perform_linear_regression(x, y):\n",
        "    slope, intercept, r_value, p_value, std_err = stats.linregress(x, y)\n",
        "    return slope, intercept, r_value, p_value, std_err\n",
        "\n",
        "# Employee tenure data (in years)\n",
        "employee_tenure = [2, 3, 5, 4, 6, 2, 4]\n",
        "\n",
        "# Job satisfaction data (on a scale of 1 to 10)\n",
        "job_satisfaction = [7, 8, 6, 9, 5, 7, 6]\n",
        "\n",
        "# Perform linear regression analysis\n",
        "slope, intercept, r_value, p_value, std_err = perform_linear_regression(employee_tenure, job_satisfaction)\n",
        "\n",
        "# Print the results of linear regression analysis\n",
        "print(\"Slope:\", slope)\n",
        "print(\"Intercept:\", intercept)\n",
        "print(\"R-value:\", r_value)\n",
        "print(\"P-value:\", p_value)\n",
        "print(\"Standard error:\", std_err)\n",
        "\n",
        "# Predict job satisfaction for a given tenure\n",
        "given_tenure = 4\n",
        "predicted_satisfaction = slope * given_tenure + intercept\n",
        "print(\"Predicted job satisfaction for tenure\", given_tenure, \"is:\", predicted_satisfaction)\n"
      ],
      "metadata": {
        "id": "PYScjH4MMRCc",
        "colab": {
          "base_uri": "https://localhost:8080/"
        },
        "outputId": "d67f4ba7-0379-4602-cafa-4c62426ed7de"
      },
      "execution_count": 9,
      "outputs": [
        {
          "output_type": "stream",
          "name": "stdout",
          "text": [
            "Slope: -0.4680851063829787\n",
            "Intercept: 8.595744680851062\n",
            "R-value: -0.520573376708331\n",
            "P-value: 0.23095550952297988\n",
            "Standard error: 0.34333860006713723\n",
            "Predicted job satisfaction for tenure 4 is: 6.7234042553191475\n"
          ]
        }
      ]
    },
    {
      "cell_type": "markdown",
      "source": [
        "Question 9"
      ],
      "metadata": {
        "id": "rVwZzJLAMSzC"
      }
    },
    {
      "cell_type": "code",
      "source": [
        "import numpy as np\n",
        "from scipy import stats\n",
        "\n",
        "def perform_anova(data):\n",
        "    f_statistic, p_value = stats.f_oneway(*data)\n",
        "    return f_statistic, p_value\n",
        "\n",
        "# Recovery times for Medication A\n",
        "medication_a = [10, 12, 14, 11, 13]\n",
        "\n",
        "# Recovery times for Medication B\n",
        "medication_b = [15, 17, 16, 14, 18]\n",
        "\n",
        "# Perform ANOVA\n",
        "f_stat, p_val = perform_anova([medication_a, medication_b])\n",
        "\n",
        "# Print the ANOVA results\n",
        "print(\"F-statistic:\", f_stat)\n",
        "print(\"P-value:\", p_val)\n"
      ],
      "metadata": {
        "id": "gF8MpRk1MTj8",
        "colab": {
          "base_uri": "https://localhost:8080/"
        },
        "outputId": "2aa5f9e0-3eb1-447b-8e80-93777b2af709"
      },
      "execution_count": 10,
      "outputs": [
        {
          "output_type": "stream",
          "name": "stdout",
          "text": [
            "F-statistic: 16.0\n",
            "P-value: 0.003949772803445326\n"
          ]
        }
      ]
    },
    {
      "cell_type": "markdown",
      "source": [
        "Question 10"
      ],
      "metadata": {
        "id": "SivSQSFHMUOU"
      }
    },
    {
      "cell_type": "code",
      "source": [
        "import numpy as np\n",
        "\n",
        "def calculate_percentile(data, percentile):\n",
        "    data.sort()\n",
        "    index = int((percentile / 100) * len(data))\n",
        "    if index < len(data) - 1:\n",
        "        percentile_value = data[index]\n",
        "    else:\n",
        "        percentile_value = data[-1]\n",
        "    return percentile_value\n",
        "\n",
        "# Feedback ratings data\n",
        "feedback_ratings = [8, 9, 7, 6, 8, 10, 9, 8, 7, 8]\n",
        "\n",
        "# Calculate the 75th percentile\n",
        "percentile_75 = calculate_percentile(feedback_ratings, 75)\n",
        "\n",
        "# Print the 75th percentile\n",
        "print(\"75th percentile of feedback ratings:\", percentile_75)\n"
      ],
      "metadata": {
        "id": "_n61LACsMVDE",
        "colab": {
          "base_uri": "https://localhost:8080/"
        },
        "outputId": "9508a800-bd94-4a74-9c70-2f1291c478ed"
      },
      "execution_count": 11,
      "outputs": [
        {
          "output_type": "stream",
          "name": "stdout",
          "text": [
            "75th percentile of feedback ratings: 9\n"
          ]
        }
      ]
    },
    {
      "cell_type": "markdown",
      "source": [
        "Question 11"
      ],
      "metadata": {
        "id": "SeMdoERBsklk"
      }
    },
    {
      "cell_type": "code",
      "source": [
        "import numpy as np\n",
        "from scipy import stats\n",
        "\n",
        "def perform_ttest(sample_data, population_mean):\n",
        "    t_statistic, p_value = stats.ttest_1samp(sample_data, population_mean)\n",
        "    return t_statistic, p_value\n",
        "\n",
        "# Weight data of the sample products\n",
        "weights = [10.2, 9.8, 10.0, 10.5, 10.3, 10.1]\n",
        "\n",
        "# Population mean\n",
        "population_mean = 10\n",
        "\n",
        "# Perform the one-sample t-test\n",
        "t_stat, p_val = perform_ttest(weights, population_mean)\n",
        "\n",
        "# Print the t-statistic and p-value\n",
        "print(\"T-statistic:\", t_stat)\n",
        "print(\"P-value:\", p_val)\n"
      ],
      "metadata": {
        "colab": {
          "base_uri": "https://localhost:8080/"
        },
        "id": "LhbgdUEIslPh",
        "outputId": "d1579b12-1746-4838-b803-315691f72304"
      },
      "execution_count": 12,
      "outputs": [
        {
          "output_type": "stream",
          "name": "stdout",
          "text": [
            "T-statistic: 1.5126584522688367\n",
            "P-value: 0.19077595151110102\n"
          ]
        }
      ]
    },
    {
      "cell_type": "markdown",
      "source": [
        "Question 12"
      ],
      "metadata": {
        "id": "aVy0Ch5nslZ8"
      }
    },
    {
      "cell_type": "code",
      "source": [
        "import numpy as np\n",
        "from scipy import stats\n",
        "\n",
        "def perform_chi_square(observed):\n",
        "    chi2_stat, p_value = stats.chisquare(observed)\n",
        "    return chi2_stat, p_value\n",
        "\n",
        "# Click-through rates for Design A\n",
        "design_a = [100, 120, 110, 90, 95]\n",
        "\n",
        "# Click-through rates for Design B\n",
        "design_b = [80, 85, 90, 95, 100]\n",
        "\n",
        "# Perform chi-square test\n",
        "observed = np.array([design_a, design_b])\n",
        "chi2_stat, p_val = perform_chi_square(observed)\n",
        "\n",
        "# Print the chi-square statistic and p-value\n",
        "print(\"Chi-square statistic:\", chi2_stat)\n",
        "print(\"P-value:\", p_val)\n"
      ],
      "metadata": {
        "colab": {
          "base_uri": "https://localhost:8080/"
        },
        "id": "yyunPYatsl-3",
        "outputId": "44f231c4-8afd-49b6-dd0c-bef87432b37d"
      },
      "execution_count": 13,
      "outputs": [
        {
          "output_type": "stream",
          "name": "stdout",
          "text": [
            "Chi-square statistic: [2.22222222 5.97560976 2.         0.13513514 0.12820513]\n",
            "P-value: [0.13603713 0.01450507 0.15729921 0.71316606 0.72030033]\n"
          ]
        }
      ]
    },
    {
      "cell_type": "markdown",
      "source": [
        "Question 13"
      ],
      "metadata": {
        "id": "-vFpxQaasmLq"
      }
    },
    {
      "cell_type": "code",
      "source": [
        "import numpy as np\n",
        "from scipy import stats\n",
        "\n",
        "def calculate_confidence_interval(data, confidence=0.95):\n",
        "    n = len(data)\n",
        "    mean = np.mean(data)\n",
        "    std_err = stats.sem(data)\n",
        "    margin_error = std_err * stats.t.ppf((1 + confidence) / 2, n - 1)\n",
        "    lower_bound = mean - margin_error\n",
        "    upper_bound = mean + margin_error\n",
        "    return lower_bound, upper_bound\n",
        "\n",
        "# Satisfaction scores data\n",
        "satisfaction_scores = [7, 9, 6, 8, 10, 7, 8, 9, 7, 8]\n",
        "\n",
        "# Calculate the 95% confidence interval\n",
        "lower, upper = calculate_confidence_interval(satisfaction_scores)\n",
        "\n",
        "# Print the confidence interval\n",
        "print(\"95% Confidence Interval for population mean satisfaction score:\")\n",
        "print(\"Lower Bound:\", lower)\n",
        "print(\"Upper Bound:\", upper)\n"
      ],
      "metadata": {
        "colab": {
          "base_uri": "https://localhost:8080/"
        },
        "id": "vKWKnG_Bsmw5",
        "outputId": "f33a7fbf-21bf-4bb0-bd3e-b9d789fed9da"
      },
      "execution_count": 14,
      "outputs": [
        {
          "output_type": "stream",
          "name": "stdout",
          "text": [
            "95% Confidence Interval for population mean satisfaction score:\n",
            "Lower Bound: 7.043561120599888\n",
            "Upper Bound: 8.756438879400113\n"
          ]
        }
      ]
    },
    {
      "cell_type": "markdown",
      "source": [
        "Question 14"
      ],
      "metadata": {
        "id": "HtiSA3y1sm4g"
      }
    },
    {
      "cell_type": "code",
      "source": [
        "import numpy as np\n",
        "from scipy import stats\n",
        "\n",
        "def perform_linear_regression(x, y):\n",
        "    slope, intercept, r_value, p_value, std_err = stats.linregress(x, y)\n",
        "    return slope, intercept, r_value, p_value, std_err\n",
        "\n",
        "# Temperature data (in degrees Celsius)\n",
        "temperature = [20, 22, 23, 19, 21]\n",
        "\n",
        "# Performance data (on a scale of 1 to 10)\n",
        "performance = [8, 7, 9, 6, 8]\n",
        "\n",
        "# Perform linear regression analysis\n",
        "slope, intercept, r_value, p_value, std_err = perform_linear_regression(temperature, performance)\n",
        "\n",
        "# Print the results of linear regression analysis\n",
        "print(\"Slope:\", slope)\n",
        "print(\"Intercept:\", intercept)\n",
        "print(\"R-value:\", r_value)\n",
        "print(\"P-value:\", p_value)\n",
        "print(\"Standard error:\", std_err)\n",
        "\n",
        "# Predict performance for a given temperature\n",
        "given_temperature = 24\n",
        "predicted_performance = slope * given_temperature + intercept\n",
        "print(\"Predicted performance for temperature\", given_temperature, \"is:\", predicted_performance)\n"
      ],
      "metadata": {
        "colab": {
          "base_uri": "https://localhost:8080/"
        },
        "id": "zWjscyftsnWR",
        "outputId": "7c57ad56-5ed9-48e1-a418-dad78ac2a902"
      },
      "execution_count": 15,
      "outputs": [
        {
          "output_type": "stream",
          "name": "stdout",
          "text": [
            "Slope: 0.5\n",
            "Intercept: -2.9000000000000004\n",
            "R-value: 0.6933752452815364\n",
            "P-value: 0.19417134561205843\n",
            "Standard error: 0.30000000000000004\n",
            "Predicted performance for temperature 24 is: 9.1\n"
          ]
        }
      ]
    },
    {
      "cell_type": "markdown",
      "source": [
        "Question 15"
      ],
      "metadata": {
        "id": "4wRtas88sne-"
      }
    },
    {
      "cell_type": "code",
      "source": [
        "import numpy as np\n",
        "from scipy import stats\n",
        "\n",
        "def perform_mann_whitneyu(group_a, group_b):\n",
        "    U_statistic, p_value = stats.mannwhitneyu(group_a, group_b, alternative='two-sided')\n",
        "    return U_statistic, p_value\n",
        "\n",
        "# Preferences data for Group A\n",
        "group_a = [4, 3, 5, 2, 4]\n",
        "\n",
        "# Preferences data for Group B\n",
        "group_b = [3, 2, 4, 3, 3]\n",
        "\n",
        "# Perform Mann-Whitney U test\n",
        "U_stat, p_val = perform_mann_whitneyu(group_a, group_b)\n",
        "\n",
        "# Print the Mann-Whitney U statistic and p-value\n",
        "print(\"Mann-Whitney U statistic:\", U_stat)\n",
        "print(\"P-value:\", p_val)\n"
      ],
      "metadata": {
        "colab": {
          "base_uri": "https://localhost:8080/"
        },
        "id": "X66Bfj3Fsn-e",
        "outputId": "31abbff6-5105-4157-de23-ccf58d9d56ff"
      },
      "execution_count": 16,
      "outputs": [
        {
          "output_type": "stream",
          "name": "stdout",
          "text": [
            "Mann-Whitney U statistic: 17.0\n",
            "P-value: 0.380836480306712\n"
          ]
        }
      ]
    },
    {
      "cell_type": "markdown",
      "source": [
        "Question 16"
      ],
      "metadata": {
        "id": "1ZH4YfS1soJf"
      }
    },
    {
      "cell_type": "code",
      "source": [
        "import numpy as np\n",
        "\n",
        "# Ages data\n",
        "ages = [25, 30, 35, 40, 45, 50, 55, 60, 65, 70]\n",
        "\n",
        "# Calculate the IQR\n",
        "q1 = np.percentile(ages, 25)\n",
        "q3 = np.percentile(ages, 75)\n",
        "iqr = q3 - q1\n",
        "\n",
        "# Print the IQR\n",
        "print(\"Interquartile Range (IQR) of ages:\", iqr)\n"
      ],
      "metadata": {
        "colab": {
          "base_uri": "https://localhost:8080/"
        },
        "id": "toP5xLLisolx",
        "outputId": "ae9bcfe3-8a16-4284-edf8-46dc511e3851"
      },
      "execution_count": 17,
      "outputs": [
        {
          "output_type": "stream",
          "name": "stdout",
          "text": [
            "Interquartile Range (IQR) of ages: 22.5\n"
          ]
        }
      ]
    },
    {
      "cell_type": "markdown",
      "source": [
        "Question 17"
      ],
      "metadata": {
        "id": "ZnlL4q9nsov7"
      }
    },
    {
      "cell_type": "code",
      "source": [
        "import numpy as np\n",
        "from scipy import stats\n",
        "\n",
        "def perform_kruskal_wallis(algorithm_a, algorithm_b, algorithm_c):\n",
        "    h_statistic, p_value = stats.kruskal(algorithm_a, algorithm_b, algorithm_c)\n",
        "    return h_statistic, p_value\n",
        "\n",
        "# Accuracy scores for Algorithm A\n",
        "algorithm_a = [0.85, 0.80, 0.82, 0.87, 0.83]\n",
        "\n",
        "# Accuracy scores for Algorithm B\n",
        "algorithm_b = [0.78, 0.82, 0.84, 0.80, 0.79]\n",
        "\n",
        "# Accuracy scores for Algorithm C\n",
        "algorithm_c = [0.90, 0.88, 0.89, 0.86, 0.87]\n",
        "\n",
        "# Perform Kruskal-Wallis test\n",
        "h_stat, p_val = perform_kruskal_wallis(algorithm_a, algorithm_b, algorithm_c)\n",
        "\n",
        "# Print the Kruskal-Wallis H statistic and p-value\n",
        "print(\"Kruskal-Wallis H statistic:\", h_stat)\n",
        "print(\"P-value:\", p_val)\n"
      ],
      "metadata": {
        "colab": {
          "base_uri": "https://localhost:8080/"
        },
        "id": "ZkO8X18dspKw",
        "outputId": "92d11712-81a2-4a59-b98d-7a0100eb97c2"
      },
      "execution_count": 18,
      "outputs": [
        {
          "output_type": "stream",
          "name": "stdout",
          "text": [
            "Kruskal-Wallis H statistic: 9.696947935368053\n",
            "P-value: 0.007840333026249539\n"
          ]
        }
      ]
    },
    {
      "cell_type": "markdown",
      "source": [
        "Question 18"
      ],
      "metadata": {
        "id": "VAGEs4oKspUX"
      }
    },
    {
      "cell_type": "code",
      "source": [
        "import numpy as np\n",
        "from scipy import stats\n",
        "\n",
        "def perform_linear_regression(x, y):\n",
        "    slope, intercept, r_value, p_value, std_err = stats.linregress(x, y)\n",
        "    return slope, intercept, r_value, p_value, std_err\n",
        "\n",
        "# Price data (in dollars)\n",
        "price = [10, 15, 12, 8, 14]\n",
        "\n",
        "# Sales data\n",
        "sales = [100, 80, 90, 110, 95]\n",
        "\n",
        "# Perform linear regression analysis\n",
        "slope, intercept, r_value, p_value, std_err = perform_linear_regression(price, sales)\n",
        "\n",
        "# Print the results of linear regression analysis\n",
        "print(\"Slope:\", slope)\n",
        "print(\"Intercept:\", intercept)\n",
        "print(\"R-value:\", r_value)\n",
        "print(\"P-value:\", p_value)\n",
        "print(\"Standard error:\", std_err)\n",
        "\n",
        "# Predict sales for a given price\n",
        "given_price = 13\n",
        "predicted_sales = slope * given_price + intercept\n",
        "print(\"Predicted sales for price\", given_price, \"is:\", predicted_sales)\n"
      ],
      "metadata": {
        "colab": {
          "base_uri": "https://localhost:8080/"
        },
        "id": "Ff-nSwuJspuZ",
        "outputId": "6c81f0e8-cfe9-4713-a299-bef673152d36"
      },
      "execution_count": 19,
      "outputs": [
        {
          "output_type": "stream",
          "name": "stdout",
          "text": [
            "Slope: -3.506097560975609\n",
            "Intercept: 136.3719512195122\n",
            "R-value: -0.8979991308594848\n",
            "P-value: 0.03850178234753776\n",
            "Standard error: 0.9918303504036147\n",
            "Predicted sales for price 13 is: 90.79268292682929\n"
          ]
        }
      ]
    },
    {
      "cell_type": "markdown",
      "source": [
        "Question 19"
      ],
      "metadata": {
        "id": "k5XD7GbisqLA"
      }
    },
    {
      "cell_type": "code",
      "source": [
        "import numpy as np\n",
        "\n",
        "# Satisfaction scores data\n",
        "satisfaction_scores = [7, 8, 9, 6, 8, 7, 9, 7, 8, 7]\n",
        "\n",
        "# Calculate the standard error of the mean\n",
        "std_err = np.std(satisfaction_scores) / np.sqrt(len(satisfaction_scores))\n",
        "\n",
        "# Print the standard error of the mean\n",
        "print(\"Standard Error of the Mean:\", std_err)\n"
      ],
      "metadata": {
        "colab": {
          "base_uri": "https://localhost:8080/"
        },
        "id": "xQsNf1SGss45",
        "outputId": "e0d30123-ade6-4ab3-adce-7ed4b36490dc"
      },
      "execution_count": 20,
      "outputs": [
        {
          "output_type": "stream",
          "name": "stdout",
          "text": [
            "Standard Error of the Mean: 0.28982753492378877\n"
          ]
        }
      ]
    },
    {
      "cell_type": "markdown",
      "source": [
        "Question 20"
      ],
      "metadata": {
        "id": "7BJXVD9vstLh"
      }
    },
    {
      "cell_type": "code",
      "source": [
        "import numpy as np\n",
        "import statsmodels.api as sm\n",
        "\n",
        "# Advertising expenditure data (in thousands)\n",
        "advertising_expenditure = [10, 15, 12, 8, 14]\n",
        "\n",
        "# Sales data (in thousands)\n",
        "sales = [25, 30, 28, 20, 26]\n",
        "\n",
        "# Add a constant term to the independent variable\n",
        "X = sm.add_constant(advertising_expenditure)\n",
        "\n",
        "# Perform multiple regression analysis\n",
        "model = sm.OLS(sales, X)\n",
        "results = model.fit()\n",
        "\n",
        "# Print the results of multiple regression analysis\n",
        "print(results.summary())\n",
        "\n",
        "# Predict sales for a given advertising expenditure\n",
        "given_expenditure = 13\n",
        "predictors = [1, given_expenditure]\n",
        "predicted_sales = results.predict(predictors)\n",
        "print(\"Predicted sales for advertising expenditure\", given_expenditure, \"is:\", predicted_sales)\n"
      ],
      "metadata": {
        "colab": {
          "base_uri": "https://localhost:8080/"
        },
        "id": "BAGmtpWestpF",
        "outputId": "94c9819f-fbd5-455a-ab71-bf811147ea0f"
      },
      "execution_count": 21,
      "outputs": [
        {
          "output_type": "stream",
          "name": "stdout",
          "text": [
            "                            OLS Regression Results                            \n",
            "==============================================================================\n",
            "Dep. Variable:                      y   R-squared:                       0.767\n",
            "Model:                            OLS   Adj. R-squared:                  0.689\n",
            "Method:                 Least Squares   F-statistic:                     9.872\n",
            "Date:                Sat, 15 Jul 2023   Prob (F-statistic):             0.0516\n",
            "Time:                        18:07:25   Log-Likelihood:                -9.5288\n",
            "No. Observations:                   5   AIC:                             23.06\n",
            "Df Residuals:                       3   BIC:                             22.28\n",
            "Df Model:                           1                                         \n",
            "Covariance Type:            nonrobust                                         \n",
            "==============================================================================\n",
            "                 coef    std err          t      P>|t|      [0.025      0.975]\n",
            "------------------------------------------------------------------------------\n",
            "const         12.2012      4.429      2.755      0.070      -1.893      26.296\n",
            "x1             1.1524      0.367      3.142      0.052      -0.015       2.320\n",
            "==============================================================================\n",
            "Omnibus:                          nan   Durbin-Watson:                   1.136\n",
            "Prob(Omnibus):                    nan   Jarque-Bera (JB):                0.546\n",
            "Skew:                          -0.267   Prob(JB):                        0.761\n",
            "Kurtosis:                       1.471   Cond. No.                         57.3\n",
            "==============================================================================\n",
            "\n",
            "Notes:\n",
            "[1] Standard Errors assume that the covariance matrix of the errors is correctly specified.\n",
            "Predicted sales for advertising expenditure 13 is: [27.18292683]\n"
          ]
        },
        {
          "output_type": "stream",
          "name": "stderr",
          "text": [
            "/usr/local/lib/python3.10/dist-packages/statsmodels/stats/stattools.py:74: ValueWarning: omni_normtest is not valid with less than 8 observations; 5 samples were given.\n",
            "  warn(\"omni_normtest is not valid with less than 8 observations; %i \"\n"
          ]
        }
      ]
    }
  ]
}