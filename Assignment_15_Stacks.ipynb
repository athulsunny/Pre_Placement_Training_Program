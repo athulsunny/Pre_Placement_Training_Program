{
  "nbformat": 4,
  "nbformat_minor": 0,
  "metadata": {
    "colab": {
      "provenance": [],
      "authorship_tag": "ABX9TyNiF2EOsLHMm3f+JjsSa3Nt",
      "include_colab_link": true
    },
    "kernelspec": {
      "name": "python3",
      "display_name": "Python 3"
    },
    "language_info": {
      "name": "python"
    }
  },
  "cells": [
    {
      "cell_type": "markdown",
      "metadata": {
        "id": "view-in-github",
        "colab_type": "text"
      },
      "source": [
        "<a href=\"https://colab.research.google.com/github/athulsunny/Pre_Placement_Training_Program/blob/main/Assignment_15_Stacks.ipynb\" target=\"_parent\"><img src=\"https://colab.research.google.com/assets/colab-badge.svg\" alt=\"Open In Colab\"/></a>"
      ]
    },
    {
      "cell_type": "markdown",
      "source": [
        "**Question 1**"
      ],
      "metadata": {
        "id": "3jbLxxMd9TAQ"
      }
    },
    {
      "cell_type": "code",
      "source": [
        "def find_next_greater_elements(arr):\n",
        "    stack = []\n",
        "    result = [-1] * len(arr)\n",
        "\n",
        "    for i in range(len(arr)):\n",
        "        while stack and arr[i] > arr[stack[-1]]:\n",
        "            index = stack.pop()\n",
        "            result[index] = arr[i]\n",
        "        stack.append(i)\n",
        "\n",
        "    return result\n"
      ],
      "metadata": {
        "id": "JYIhg2hX9Vhw"
      },
      "execution_count": 1,
      "outputs": []
    },
    {
      "cell_type": "code",
      "source": [
        "arr1 = [1, 3, 5, 4]\n",
        "arr2 = [6, 9, 0, 2, 3]\n",
        "\n",
        "print(find_next_greater_elements(arr1))\n",
        "print(find_next_greater_elements(arr2))\n"
      ],
      "metadata": {
        "colab": {
          "base_uri": "https://localhost:8080/"
        },
        "id": "GlZIYAwl_7eE",
        "outputId": "b2d2d830-9c71-48c1-91d5-db12c85e0363"
      },
      "execution_count": 18,
      "outputs": [
        {
          "output_type": "stream",
          "name": "stdout",
          "text": [
            "[3, 5, -1, -1]\n",
            "[9, -1, 2, 3, -1]\n"
          ]
        }
      ]
    },
    {
      "cell_type": "markdown",
      "source": [
        "**Question 2**"
      ],
      "metadata": {
        "id": "mQi-i73_9cmh"
      }
    },
    {
      "cell_type": "code",
      "source": [
        "def find_nearest_smaller_elements(a):\n",
        "    stack = []\n",
        "    result = [-1] * len(a)\n",
        "\n",
        "    for i in range(len(a)):\n",
        "        while stack and a[i] <= a[stack[-1]]:\n",
        "            stack.pop()\n",
        "\n",
        "        if stack:\n",
        "            result[i] = a[stack[-1]]\n",
        "\n",
        "        stack.append(i)\n",
        "\n",
        "    return result\n"
      ],
      "metadata": {
        "id": "XWpM4oME_acX"
      },
      "execution_count": 3,
      "outputs": []
    },
    {
      "cell_type": "code",
      "source": [
        "a1 = [1, 7, 3]\n",
        "a2 = [1, 4, 0, 3, 6, 7]\n",
        "\n",
        "print(find_nearest_smaller_elements(a1))\n",
        "print(find_nearest_smaller_elements(a2))\n"
      ],
      "metadata": {
        "colab": {
          "base_uri": "https://localhost:8080/"
        },
        "id": "WIjsOqPvAyad",
        "outputId": "e3205d82-1be8-4b7f-abd8-5a35bf95ca65"
      },
      "execution_count": 19,
      "outputs": [
        {
          "output_type": "stream",
          "name": "stdout",
          "text": [
            "[-1, 1, 1]\n",
            "[-1, 1, -1, 0, 3, 6]\n"
          ]
        }
      ]
    },
    {
      "cell_type": "markdown",
      "source": [
        "**Question 3**"
      ],
      "metadata": {
        "id": "XqWxSjUT_ayK"
      }
    },
    {
      "cell_type": "code",
      "source": [
        "class Stack:\n",
        "    def __init__(self):\n",
        "        self.q1 = []\n",
        "        self.q2 = []\n",
        "\n",
        "    def push(self, value):\n",
        "        self.q1.append(value)\n",
        "\n",
        "    def pop(self):\n",
        "        if not self.q1:\n",
        "            return -1\n",
        "\n",
        "        while len(self.q1) > 1:\n",
        "            self.q2.append(self.q1.pop(0))\n",
        "\n",
        "        popped_value = self.q1.pop(0)\n",
        "\n",
        "        self.q1, self.q2 = self.q2, self.q1\n",
        "\n",
        "        return popped_value\n"
      ],
      "metadata": {
        "id": "sIwuqIdF_b_S"
      },
      "execution_count": 5,
      "outputs": []
    },
    {
      "cell_type": "code",
      "source": [
        "stack = Stack()\n",
        "stack.push(3)\n",
        "stack.push(4)\n",
        "print(stack.pop())\n",
        "stack.push(5)\n",
        "print(stack.pop())\n",
        "\n",
        "stack = Stack()\n",
        "stack.push(3)\n",
        "print(stack.pop())\n",
        "print(stack.pop())\n",
        "stack.push(4)\n"
      ],
      "metadata": {
        "colab": {
          "base_uri": "https://localhost:8080/"
        },
        "id": "k9jqJdodBQUQ",
        "outputId": "44fbe058-3072-481d-aa5f-56c00ac5b0fb"
      },
      "execution_count": 20,
      "outputs": [
        {
          "output_type": "stream",
          "name": "stdout",
          "text": [
            "4\n",
            "5\n",
            "3\n",
            "-1\n"
          ]
        }
      ]
    },
    {
      "cell_type": "markdown",
      "source": [
        "**Question 4**"
      ],
      "metadata": {
        "id": "-5I7jVso_cjA"
      }
    },
    {
      "cell_type": "code",
      "source": [
        "def reverseStack(stack):\n",
        "    if len(stack) <= 1:\n",
        "        return stack\n",
        "\n",
        "    top = stack.pop()\n",
        "    stack = reverseStack(stack)\n",
        "    stack = insertAtBottom(stack, top)\n",
        "    return stack\n",
        "\n",
        "\n",
        "def insertAtBottom(stack, value):\n",
        "    if len(stack) == 0:\n",
        "        stack.append(value)\n",
        "    else:\n",
        "        temp = stack.pop()\n",
        "        stack = insertAtBottom(stack, value)\n",
        "        stack.append(temp)\n",
        "    return stack\n"
      ],
      "metadata": {
        "id": "jpNreCUc_fxR"
      },
      "execution_count": 9,
      "outputs": []
    },
    {
      "cell_type": "code",
      "source": [
        "stack1 = [4, 2, 1, 8, 9]\n",
        "reversed_stack1 = reverseStack(stack1)\n",
        "print(reversed_stack1)\n",
        "\n",
        "stack2 = [3, 2, 7, 6]\n",
        "reversed_stack2 = reverseStack(stack2)\n",
        "print(reversed_stack2)\n",
        "\n"
      ],
      "metadata": {
        "colab": {
          "base_uri": "https://localhost:8080/"
        },
        "id": "AgipmwSVBgq2",
        "outputId": "895b09c9-ba03-4f45-c277-fc8944fe3d1e"
      },
      "execution_count": 21,
      "outputs": [
        {
          "output_type": "stream",
          "name": "stdout",
          "text": [
            "[9, 8, 1, 2, 4]\n",
            "[6, 7, 2, 3]\n"
          ]
        }
      ]
    },
    {
      "cell_type": "markdown",
      "source": [
        "**Question 5**"
      ],
      "metadata": {
        "id": "SXU54B6h_icW"
      }
    },
    {
      "cell_type": "code",
      "source": [
        "def reverseString(S):\n",
        "    stack = []\n",
        "    for char in S:\n",
        "        stack.append(char)\n",
        "\n",
        "    reversedString = \"\"\n",
        "    while stack:\n",
        "        reversedString += stack.pop()\n",
        "\n",
        "    return reversedString\n"
      ],
      "metadata": {
        "id": "XFG_PdPM_jRA"
      },
      "execution_count": 11,
      "outputs": []
    },
    {
      "cell_type": "code",
      "source": [
        "# Testing the code with example\n",
        "S = \"datascientist\"\n",
        "reversedStr = reverseString(S)\n",
        "print(reversedStr)"
      ],
      "metadata": {
        "colab": {
          "base_uri": "https://localhost:8080/"
        },
        "id": "x63AygVQCP1v",
        "outputId": "610fd44d-2fdb-48a2-f111-e0ecd79b8c46"
      },
      "execution_count": 14,
      "outputs": [
        {
          "output_type": "stream",
          "name": "stdout",
          "text": [
            "tsitneicsatad\n"
          ]
        }
      ]
    },
    {
      "cell_type": "markdown",
      "source": [
        "**Question 6**"
      ],
      "metadata": {
        "id": "ZergbF-1_jZ_"
      }
    },
    {
      "cell_type": "code",
      "source": [
        "def evaluatePostfixExpression(S):\n",
        "    stack = []\n",
        "\n",
        "    for char in S:\n",
        "        if char.isdigit():\n",
        "            stack.append(int(char))\n",
        "        else:\n",
        "            operand2 = stack.pop()\n",
        "            operand1 = stack.pop()\n",
        "\n",
        "            if char == '+':\n",
        "                result = operand1 + operand2\n",
        "            elif char == '-':\n",
        "                result = operand1 - operand2\n",
        "            elif char == '*':\n",
        "                result = operand1 * operand2\n",
        "            elif char == '/':\n",
        "                result = operand1 / operand2\n",
        "\n",
        "            stack.append(result)\n",
        "\n",
        "    return stack.pop()\n",
        "\n",
        "# Testing the code with examples\n",
        "S1 = \"242*+9-\"\n",
        "result1 = evaluatePostfixExpression(S1)\n",
        "print(result1)\n",
        "\n",
        "S2 = \"396+*8-\"\n",
        "result2 = evaluatePostfixExpression(S2)\n",
        "print(result2)\n"
      ],
      "metadata": {
        "colab": {
          "base_uri": "https://localhost:8080/"
        },
        "id": "ft32YOHd_j2l",
        "outputId": "c4bafae9-42c3-4d67-c851-8085076e40aa"
      },
      "execution_count": 22,
      "outputs": [
        {
          "output_type": "stream",
          "name": "stdout",
          "text": [
            "1\n",
            "37\n"
          ]
        }
      ]
    },
    {
      "cell_type": "markdown",
      "source": [
        "**Question 7**"
      ],
      "metadata": {
        "id": "Fg6sweTc_kNM"
      }
    },
    {
      "cell_type": "code",
      "source": [
        "class MinStack:\n",
        "    def __init__(self):\n",
        "        self.stack = []\n",
        "        self.min_stack = []\n",
        "\n",
        "    def push(self, val):\n",
        "        self.stack.append(val)\n",
        "        if not self.min_stack or val <= self.min_stack[-1][0]:\n",
        "            self.min_stack.append((val, len(self.stack) - 1))\n",
        "\n",
        "    def pop(self):\n",
        "        if self.stack:\n",
        "            popped = self.stack.pop()\n",
        "            if len(self.stack) == self.min_stack[-1][1]:\n",
        "                self.min_stack.pop()\n",
        "\n",
        "    def top(self):\n",
        "        if self.stack:\n",
        "            return self.stack[-1]\n",
        "        return None\n",
        "\n",
        "    def getMin(self):\n",
        "        if self.min_stack:\n",
        "            return self.min_stack[-1][0]\n",
        "        return None\n",
        "\n",
        "# Testing the code with the provided example\n",
        "minStack = MinStack()\n",
        "output = [None]\n",
        "\n",
        "operations = [\"push\", \"push\", \"push\", \"getMin\", \"pop\", \"top\", \"getMin\"]\n",
        "operands = [[-2], [0], [-3], [], [], [], []]\n",
        "\n",
        "for op, vals in zip(operations, operands):\n",
        "    if op == \"push\":\n",
        "        minStack.push(vals[0])\n",
        "        output.append(None)\n",
        "    elif op == \"pop\":\n",
        "        minStack.pop()\n",
        "        output.append(None)\n",
        "    elif op == \"top\":\n",
        "        output.append(minStack.top())\n",
        "    elif op == \"getMin\":\n",
        "        output.append(minStack.getMin())\n",
        "\n",
        "print(output)\n"
      ],
      "metadata": {
        "colab": {
          "base_uri": "https://localhost:8080/"
        },
        "id": "66d5IIw4_lOO",
        "outputId": "f1efc37d-9e0a-4280-b1fa-f8b9051d12d9"
      },
      "execution_count": 16,
      "outputs": [
        {
          "output_type": "stream",
          "name": "stdout",
          "text": [
            "[None, None, None, None, -3, None, 0, -2]\n"
          ]
        }
      ]
    },
    {
      "cell_type": "markdown",
      "source": [
        "**Question 8**"
      ],
      "metadata": {
        "id": "lO03T_x2_lYj"
      }
    },
    {
      "cell_type": "code",
      "source": [
        "def trap(height):\n",
        "    left = 0\n",
        "    right = len(height) - 1\n",
        "    left_max = right_max = water = 0\n",
        "\n",
        "    while left <= right:\n",
        "        if height[left] <= height[right]:\n",
        "            if height[left] > left_max:\n",
        "                left_max = height[left]\n",
        "            else:\n",
        "                water += left_max - height[left]\n",
        "            left += 1\n",
        "        else:\n",
        "            if height[right] > right_max:\n",
        "                right_max = height[right]\n",
        "            else:\n",
        "                water += right_max - height[right]\n",
        "            right -= 1\n",
        "\n",
        "    return water\n",
        "\n",
        "# Testing the code with the examples\n",
        "height1 = [0, 1, 0, 2, 1, 0, 1, 3, 2, 1, 2, 1]\n",
        "print(trap(height1))\n",
        "\n",
        "height2 = [6, 2, 0, 3, 1, 5]\n",
        "print(trap(height2))\n"
      ],
      "metadata": {
        "colab": {
          "base_uri": "https://localhost:8080/"
        },
        "id": "O9mZEqGs_l2q",
        "outputId": "d5bc3103-da88-477c-bed3-6a2ba544e14a"
      },
      "execution_count": 23,
      "outputs": [
        {
          "output_type": "stream",
          "name": "stdout",
          "text": [
            "6\n",
            "14\n"
          ]
        }
      ]
    }
  ]
}