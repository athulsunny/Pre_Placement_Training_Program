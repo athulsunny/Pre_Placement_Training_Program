{
  "nbformat": 4,
  "nbformat_minor": 0,
  "metadata": {
    "colab": {
      "provenance": [],
      "include_colab_link": true
    },
    "kernelspec": {
      "name": "python3",
      "display_name": "Python 3"
    },
    "language_info": {
      "name": "python"
    }
  },
  "cells": [
    {
      "cell_type": "markdown",
      "metadata": {
        "id": "view-in-github",
        "colab_type": "text"
      },
      "source": [
        "<a href=\"https://colab.research.google.com/github/athulsunny/Pre_Placement_Training_Program/blob/main/Assignment_10_Recursion.ipynb\" target=\"_parent\"><img src=\"https://colab.research.google.com/assets/colab-badge.svg\" alt=\"Open In Colab\"/></a>"
      ]
    },
    {
      "cell_type": "markdown",
      "source": [
        "Question 1"
      ],
      "metadata": {
        "id": "VfvaYQbZqUoA"
      }
    },
    {
      "cell_type": "code",
      "execution_count": null,
      "metadata": {
        "colab": {
          "base_uri": "https://localhost:8080/"
        },
        "id": "0wE95UlRqGcZ",
        "outputId": "a0952808-e6d7-4dc3-8a03-0ce196df02fd"
      },
      "outputs": [
        {
          "output_type": "stream",
          "name": "stdout",
          "text": [
            "True\n",
            "False\n"
          ]
        }
      ],
      "source": [
        "def isPowerOfThree(n):\n",
        "    if n <= 0:\n",
        "        return False\n",
        "    while n % 3 == 0:\n",
        "        n /= 3\n",
        "    return n == 1\n",
        "print(isPowerOfThree(27))  # Output: True\n",
        "print(isPowerOfThree(0))   # Output: False\n",
        "\n"
      ]
    },
    {
      "cell_type": "markdown",
      "source": [
        "Question 2"
      ],
      "metadata": {
        "id": "gJ2pmjbhqYuE"
      }
    },
    {
      "cell_type": "code",
      "source": [
        "def lastRemaining(n):\n",
        "    left_to_right = True\n",
        "    remaining = n\n",
        "    step = 1\n",
        "    head = 1\n",
        "\n",
        "    while remaining > 1:\n",
        "        if left_to_right or remaining % 2 == 1:\n",
        "            head += step\n",
        "        \n",
        "        step *= 2\n",
        "        remaining //= 2\n",
        "        left_to_right = not left_to_right\n",
        "\n",
        "    return head\n",
        "\n",
        "print(lastRemaining(9))  # Output: 6\n"
      ],
      "metadata": {
        "colab": {
          "base_uri": "https://localhost:8080/"
        },
        "id": "E3Elv67EqYBZ",
        "outputId": "dafe9e9f-8758-414d-bc7f-0fd85a4c77a4"
      },
      "execution_count": null,
      "outputs": [
        {
          "output_type": "stream",
          "name": "stdout",
          "text": [
            "6\n"
          ]
        }
      ]
    },
    {
      "cell_type": "markdown",
      "source": [
        "Question 3"
      ],
      "metadata": {
        "id": "27lBloXAqYmb"
      }
    },
    {
      "cell_type": "code",
      "source": [
        "def printSubsets(s, curr_subset=\"\", index=0):\n",
        "    if index == len(s):\n",
        "        print(curr_subset)\n",
        "        return\n",
        "    \n",
        "    # Exclude the current character\n",
        "    printSubsets(s, curr_subset, index + 1)\n",
        "    \n",
        "    # Include the current character\n",
        "    printSubsets(s, curr_subset + s[index], index + 1)\n",
        "printSubsets(\"abc\")  # Output: '', 'c', 'b', 'bc', 'a', 'ac', 'ab', 'abc'\n",
        "printSubsets(\"abcd\")  # Output: '', 'd', 'c', 'cd', 'b', 'bd', 'bc', 'bcd', 'a', 'ad', 'ac', 'acd', 'ab', 'abd', 'abc', 'abcd'\n"
      ],
      "metadata": {
        "colab": {
          "base_uri": "https://localhost:8080/"
        },
        "id": "K_-VpMq1qUW3",
        "outputId": "7bd5fe0b-1865-4c6d-e09f-4636e4373c83"
      },
      "execution_count": null,
      "outputs": [
        {
          "output_type": "stream",
          "name": "stdout",
          "text": [
            "\n",
            "c\n",
            "b\n",
            "bc\n",
            "a\n",
            "ac\n",
            "ab\n",
            "abc\n",
            "\n",
            "d\n",
            "c\n",
            "cd\n",
            "b\n",
            "bd\n",
            "bc\n",
            "bcd\n",
            "a\n",
            "ad\n",
            "ac\n",
            "acd\n",
            "ab\n",
            "abd\n",
            "abc\n",
            "abcd\n"
          ]
        }
      ]
    },
    {
      "cell_type": "markdown",
      "source": [
        "Question 4"
      ],
      "metadata": {
        "id": "zf_kluhjqgp3"
      }
    },
    {
      "cell_type": "code",
      "source": [
        "def calculateLength(s):\n",
        "    if s == \"\":\n",
        "        return 0\n",
        "    else:\n",
        "        return 1 + calculateLength(s[1:])\n",
        "print(calculateLength(\"abcd\"))  # Output: 4\n",
        "print(calculateLength(\"GEEKSFORGEEKS\"))  # Output: 13\n"
      ],
      "metadata": {
        "colab": {
          "base_uri": "https://localhost:8080/"
        },
        "id": "1XsdMD3FqiNe",
        "outputId": "8569ffc2-0cde-414e-c68d-4159882be17b"
      },
      "execution_count": null,
      "outputs": [
        {
          "output_type": "stream",
          "name": "stdout",
          "text": [
            "4\n",
            "13\n"
          ]
        }
      ]
    },
    {
      "cell_type": "markdown",
      "source": [
        "Question 5"
      ],
      "metadata": {
        "id": "fnCh4RKkqiXJ"
      }
    },
    {
      "cell_type": "code",
      "source": [
        "def countSubstrings(S):\n",
        "    count = 0\n",
        "    n = len(S)\n",
        "\n",
        "    for i in range(n):\n",
        "        count += 1  # Count the individual character as a substring\n",
        "\n",
        "        # Extend the substring on both sides\n",
        "        left = i - 1\n",
        "        right = i + 1\n",
        "\n",
        "        while left >= 0 and right < n and S[left] == S[right]:\n",
        "            count += 1\n",
        "            left -= 1\n",
        "            right += 1\n",
        "\n",
        "    return count\n",
        "print(countSubstrings(\"abcab\"))  # Output: 7\n",
        "print(countSubstrings(\"aba\"))  # Output: 4\n",
        "\n"
      ],
      "metadata": {
        "colab": {
          "base_uri": "https://localhost:8080/"
        },
        "id": "VHwwKVg8qicu",
        "outputId": "3311a042-ea0f-4fe1-87e4-7738f2925714"
      },
      "execution_count": null,
      "outputs": [
        {
          "output_type": "stream",
          "name": "stdout",
          "text": [
            "5\n",
            "4\n"
          ]
        }
      ]
    },
    {
      "cell_type": "markdown",
      "source": [
        "Question 6"
      ],
      "metadata": {
        "id": "i1hqV8whqihv"
      }
    },
    {
      "cell_type": "code",
      "source": [
        "def towerOfHanoi(n, source, destination, auxiliary):\n",
        "    if n == 1:\n",
        "        print(\"move disk 1 from rod\", source, \"to rod\", destination)\n",
        "        return 1\n",
        "\n",
        "    moves = 0\n",
        "    moves += towerOfHanoi(n - 1, source, auxiliary, destination)\n",
        "    print(\"move disk\", n, \"from rod\", source, \"to rod\", destination)\n",
        "    moves += 1\n",
        "    moves += towerOfHanoi(n - 1, auxiliary, destination, source)\n",
        "\n",
        "    return moves\n",
        "\n",
        "\n",
        "# Example usage\n",
        "N = 2\n",
        "total_moves = towerOfHanoi(N, 1, 3, 2)\n",
        "print(total_moves)\n",
        "\n"
      ],
      "metadata": {
        "colab": {
          "base_uri": "https://localhost:8080/"
        },
        "id": "WIPEOg46qimw",
        "outputId": "4f5a482a-9446-49fd-8ce8-b72638272052"
      },
      "execution_count": null,
      "outputs": [
        {
          "output_type": "stream",
          "name": "stdout",
          "text": [
            "move disk 1 from rod 1 to rod 2\n",
            "move disk 2 from rod 1 to rod 3\n",
            "move disk 1 from rod 2 to rod 3\n",
            "3\n"
          ]
        }
      ]
    },
    {
      "cell_type": "markdown",
      "source": [
        "Question 7"
      ],
      "metadata": {
        "id": "SydyS6GTqisU"
      }
    },
    {
      "cell_type": "code",
      "source": [
        "def permute(s, l, r):\n",
        "    if l == r:\n",
        "        print(\"\".join(s))\n",
        "    else:\n",
        "        for i in range(l, r + 1):\n",
        "            s[l], s[i] = s[i], s[l]  # Swap characters\n",
        "            permute(s, l + 1, r)\n",
        "            s[l], s[i] = s[i], s[l]  # Backtrack, restore original order\n",
        "\n",
        "def printPermutations(str):\n",
        "    n = len(str)\n",
        "    s = list(str)\n",
        "    permute(s, 0, n - 1)\n",
        "\n",
        "# Example usage\n",
        "printPermutations(\"cd\")\n",
        "printPermutations(\"abb\")\n"
      ],
      "metadata": {
        "colab": {
          "base_uri": "https://localhost:8080/"
        },
        "id": "h4ld_JCIqixs",
        "outputId": "c12b48a5-d2ba-43c8-8fc4-aedd3a9bbdea"
      },
      "execution_count": null,
      "outputs": [
        {
          "output_type": "stream",
          "name": "stdout",
          "text": [
            "cd\n",
            "dc\n",
            "abb\n",
            "abb\n",
            "bab\n",
            "bba\n",
            "bba\n",
            "bab\n"
          ]
        }
      ]
    },
    {
      "cell_type": "markdown",
      "source": [
        "Question 8"
      ],
      "metadata": {
        "id": "V8Wzbj9Vqi2V"
      }
    },
    {
      "cell_type": "code",
      "source": [
        "def countConsonants(s):\n",
        "    consonant_count = 0\n",
        "    vowels = ['a', 'e', 'i', 'o', 'u']\n",
        "\n",
        "    for char in s:\n",
        "        if char.isalpha() and char.lower() not in vowels:\n",
        "            consonant_count += 1\n",
        "\n",
        "    return consonant_count\n",
        "\n",
        "# Example usage\n",
        "print(countConsonants(\"abc de\"))  # Output: 3\n",
        "print(countConsonants(\"geeksforgeeks portal\"))  # Output: 12\n"
      ],
      "metadata": {
        "colab": {
          "base_uri": "https://localhost:8080/"
        },
        "id": "bDhFu8FPqi6y",
        "outputId": "27c5a61d-4098-4876-b1f5-220d09cb57da"
      },
      "execution_count": null,
      "outputs": [
        {
          "output_type": "stream",
          "name": "stdout",
          "text": [
            "3\n",
            "12\n"
          ]
        }
      ]
    }
  ]
}